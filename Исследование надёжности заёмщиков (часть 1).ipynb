{
 "cells": [
  {
   "cell_type": "markdown",
   "id": "7af0c0de",
   "metadata": {
    "deletable": false,
    "editable": false,
    "id": "c81daeeb"
   },
   "source": [
    "# Исследование надежности заемщиков"
   ]
  },
  {
   "cell_type": "markdown",
   "id": "650dff7e",
   "metadata": {
    "deletable": false,
    "editable": false,
    "id": "-G3EJWzf62s6"
   },
   "source": [
    "Это первая часть проекта, она будет проверена автоматически. Вторую часть проверит ревьюер. "
   ]
  },
  {
   "cell_type": "markdown",
   "id": "4b3e96d4",
   "metadata": {
    "deletable": false,
    "editable": false,
    "id": "744d7639"
   },
   "source": [
    "## Откройте таблицу и изучите общую информацию о данных"
   ]
  },
  {
   "cell_type": "markdown",
   "id": "3b7548a2",
   "metadata": {
    "deletable": false,
    "editable": false,
    "id": "e7a14c31",
    "tags": [
     "start_task"
    ]
   },
   "source": [
    "**Задание 1. Импортируйте библиотеку pandas. Считайте данные из csv-файла в датафрейм и сохраните в переменную `data`. Путь к файлу:**\n",
    "\n",
    "`/datasets/data.csv`"
   ]
  },
  {
   "cell_type": "code",
   "execution_count": 9,
   "id": "b8eeeddf",
   "metadata": {
    "id": "7bcf75c9"
   },
   "outputs": [],
   "source": [
    "# импортируйте библиотеку pandas\n",
    "import pandas as pd"
   ]
  },
  {
   "cell_type": "code",
   "execution_count": 10,
   "id": "2eb565f8",
   "metadata": {
    "id": "4d240ee2"
   },
   "outputs": [],
   "source": [
    "# прочитайте csv-файл\n",
    "data = pd.read_csv('datasets/data.csv')"
   ]
  },
  {
   "cell_type": "markdown",
   "id": "b320eef9",
   "metadata": {
    "deletable": false,
    "editable": false,
    "id": "b8038fe3",
    "tags": [
     "start_task"
    ]
   },
   "source": [
    "**Задание 2. Выведите первые 20 строчек датафрейма `data` на экран.**"
   ]
  },
  {
   "cell_type": "code",
   "execution_count": 11,
   "id": "483f32be",
   "metadata": {
    "id": "2a7cab99"
   },
   "outputs": [
    {
     "data": {
      "text/html": [
       "<div>\n",
       "<style scoped>\n",
       "    .dataframe tbody tr th:only-of-type {\n",
       "        vertical-align: middle;\n",
       "    }\n",
       "\n",
       "    .dataframe tbody tr th {\n",
       "        vertical-align: top;\n",
       "    }\n",
       "\n",
       "    .dataframe thead th {\n",
       "        text-align: right;\n",
       "    }\n",
       "</style>\n",
       "<table border=\"1\" class=\"dataframe\">\n",
       "  <thead>\n",
       "    <tr style=\"text-align: right;\">\n",
       "      <th></th>\n",
       "      <th>children</th>\n",
       "      <th>days_employed</th>\n",
       "      <th>dob_years</th>\n",
       "      <th>education</th>\n",
       "      <th>education_id</th>\n",
       "      <th>family_status</th>\n",
       "      <th>family_status_id</th>\n",
       "      <th>gender</th>\n",
       "      <th>income_type</th>\n",
       "      <th>debt</th>\n",
       "      <th>total_income</th>\n",
       "      <th>purpose</th>\n",
       "    </tr>\n",
       "  </thead>\n",
       "  <tbody>\n",
       "    <tr>\n",
       "      <th>0</th>\n",
       "      <td>1</td>\n",
       "      <td>-8437.673028</td>\n",
       "      <td>42</td>\n",
       "      <td>высшее</td>\n",
       "      <td>0</td>\n",
       "      <td>женат / замужем</td>\n",
       "      <td>0</td>\n",
       "      <td>F</td>\n",
       "      <td>сотрудник</td>\n",
       "      <td>0</td>\n",
       "      <td>253875.639453</td>\n",
       "      <td>покупка жилья</td>\n",
       "    </tr>\n",
       "    <tr>\n",
       "      <th>1</th>\n",
       "      <td>1</td>\n",
       "      <td>-4024.803754</td>\n",
       "      <td>36</td>\n",
       "      <td>среднее</td>\n",
       "      <td>1</td>\n",
       "      <td>женат / замужем</td>\n",
       "      <td>0</td>\n",
       "      <td>F</td>\n",
       "      <td>сотрудник</td>\n",
       "      <td>0</td>\n",
       "      <td>112080.014102</td>\n",
       "      <td>приобретение автомобиля</td>\n",
       "    </tr>\n",
       "    <tr>\n",
       "      <th>2</th>\n",
       "      <td>0</td>\n",
       "      <td>-5623.422610</td>\n",
       "      <td>33</td>\n",
       "      <td>Среднее</td>\n",
       "      <td>1</td>\n",
       "      <td>женат / замужем</td>\n",
       "      <td>0</td>\n",
       "      <td>M</td>\n",
       "      <td>сотрудник</td>\n",
       "      <td>0</td>\n",
       "      <td>145885.952297</td>\n",
       "      <td>покупка жилья</td>\n",
       "    </tr>\n",
       "    <tr>\n",
       "      <th>3</th>\n",
       "      <td>3</td>\n",
       "      <td>-4124.747207</td>\n",
       "      <td>32</td>\n",
       "      <td>среднее</td>\n",
       "      <td>1</td>\n",
       "      <td>женат / замужем</td>\n",
       "      <td>0</td>\n",
       "      <td>M</td>\n",
       "      <td>сотрудник</td>\n",
       "      <td>0</td>\n",
       "      <td>267628.550329</td>\n",
       "      <td>дополнительное образование</td>\n",
       "    </tr>\n",
       "    <tr>\n",
       "      <th>4</th>\n",
       "      <td>0</td>\n",
       "      <td>340266.072047</td>\n",
       "      <td>53</td>\n",
       "      <td>среднее</td>\n",
       "      <td>1</td>\n",
       "      <td>гражданский брак</td>\n",
       "      <td>1</td>\n",
       "      <td>F</td>\n",
       "      <td>пенсионер</td>\n",
       "      <td>0</td>\n",
       "      <td>158616.077870</td>\n",
       "      <td>сыграть свадьбу</td>\n",
       "    </tr>\n",
       "    <tr>\n",
       "      <th>5</th>\n",
       "      <td>0</td>\n",
       "      <td>-926.185831</td>\n",
       "      <td>27</td>\n",
       "      <td>высшее</td>\n",
       "      <td>0</td>\n",
       "      <td>гражданский брак</td>\n",
       "      <td>1</td>\n",
       "      <td>M</td>\n",
       "      <td>компаньон</td>\n",
       "      <td>0</td>\n",
       "      <td>255763.565419</td>\n",
       "      <td>покупка жилья</td>\n",
       "    </tr>\n",
       "    <tr>\n",
       "      <th>6</th>\n",
       "      <td>0</td>\n",
       "      <td>-2879.202052</td>\n",
       "      <td>43</td>\n",
       "      <td>высшее</td>\n",
       "      <td>0</td>\n",
       "      <td>женат / замужем</td>\n",
       "      <td>0</td>\n",
       "      <td>F</td>\n",
       "      <td>компаньон</td>\n",
       "      <td>0</td>\n",
       "      <td>240525.971920</td>\n",
       "      <td>операции с жильем</td>\n",
       "    </tr>\n",
       "    <tr>\n",
       "      <th>7</th>\n",
       "      <td>0</td>\n",
       "      <td>-152.779569</td>\n",
       "      <td>50</td>\n",
       "      <td>СРЕДНЕЕ</td>\n",
       "      <td>1</td>\n",
       "      <td>женат / замужем</td>\n",
       "      <td>0</td>\n",
       "      <td>M</td>\n",
       "      <td>сотрудник</td>\n",
       "      <td>0</td>\n",
       "      <td>135823.934197</td>\n",
       "      <td>образование</td>\n",
       "    </tr>\n",
       "    <tr>\n",
       "      <th>8</th>\n",
       "      <td>2</td>\n",
       "      <td>-6929.865299</td>\n",
       "      <td>35</td>\n",
       "      <td>ВЫСШЕЕ</td>\n",
       "      <td>0</td>\n",
       "      <td>гражданский брак</td>\n",
       "      <td>1</td>\n",
       "      <td>F</td>\n",
       "      <td>сотрудник</td>\n",
       "      <td>0</td>\n",
       "      <td>95856.832424</td>\n",
       "      <td>на проведение свадьбы</td>\n",
       "    </tr>\n",
       "    <tr>\n",
       "      <th>9</th>\n",
       "      <td>0</td>\n",
       "      <td>-2188.756445</td>\n",
       "      <td>41</td>\n",
       "      <td>среднее</td>\n",
       "      <td>1</td>\n",
       "      <td>женат / замужем</td>\n",
       "      <td>0</td>\n",
       "      <td>M</td>\n",
       "      <td>сотрудник</td>\n",
       "      <td>0</td>\n",
       "      <td>144425.938277</td>\n",
       "      <td>покупка жилья для семьи</td>\n",
       "    </tr>\n",
       "    <tr>\n",
       "      <th>10</th>\n",
       "      <td>2</td>\n",
       "      <td>-4171.483647</td>\n",
       "      <td>36</td>\n",
       "      <td>высшее</td>\n",
       "      <td>0</td>\n",
       "      <td>женат / замужем</td>\n",
       "      <td>0</td>\n",
       "      <td>M</td>\n",
       "      <td>компаньон</td>\n",
       "      <td>0</td>\n",
       "      <td>113943.491460</td>\n",
       "      <td>покупка недвижимости</td>\n",
       "    </tr>\n",
       "    <tr>\n",
       "      <th>11</th>\n",
       "      <td>0</td>\n",
       "      <td>-792.701887</td>\n",
       "      <td>40</td>\n",
       "      <td>среднее</td>\n",
       "      <td>1</td>\n",
       "      <td>женат / замужем</td>\n",
       "      <td>0</td>\n",
       "      <td>F</td>\n",
       "      <td>сотрудник</td>\n",
       "      <td>0</td>\n",
       "      <td>77069.234271</td>\n",
       "      <td>покупка коммерческой недвижимости</td>\n",
       "    </tr>\n",
       "    <tr>\n",
       "      <th>12</th>\n",
       "      <td>0</td>\n",
       "      <td>NaN</td>\n",
       "      <td>65</td>\n",
       "      <td>среднее</td>\n",
       "      <td>1</td>\n",
       "      <td>гражданский брак</td>\n",
       "      <td>1</td>\n",
       "      <td>M</td>\n",
       "      <td>пенсионер</td>\n",
       "      <td>0</td>\n",
       "      <td>NaN</td>\n",
       "      <td>сыграть свадьбу</td>\n",
       "    </tr>\n",
       "    <tr>\n",
       "      <th>13</th>\n",
       "      <td>0</td>\n",
       "      <td>-1846.641941</td>\n",
       "      <td>54</td>\n",
       "      <td>неоконченное высшее</td>\n",
       "      <td>2</td>\n",
       "      <td>женат / замужем</td>\n",
       "      <td>0</td>\n",
       "      <td>F</td>\n",
       "      <td>сотрудник</td>\n",
       "      <td>0</td>\n",
       "      <td>130458.228857</td>\n",
       "      <td>приобретение автомобиля</td>\n",
       "    </tr>\n",
       "    <tr>\n",
       "      <th>14</th>\n",
       "      <td>0</td>\n",
       "      <td>-1844.956182</td>\n",
       "      <td>56</td>\n",
       "      <td>высшее</td>\n",
       "      <td>0</td>\n",
       "      <td>гражданский брак</td>\n",
       "      <td>1</td>\n",
       "      <td>F</td>\n",
       "      <td>компаньон</td>\n",
       "      <td>1</td>\n",
       "      <td>165127.911772</td>\n",
       "      <td>покупка жилой недвижимости</td>\n",
       "    </tr>\n",
       "    <tr>\n",
       "      <th>15</th>\n",
       "      <td>1</td>\n",
       "      <td>-972.364419</td>\n",
       "      <td>26</td>\n",
       "      <td>среднее</td>\n",
       "      <td>1</td>\n",
       "      <td>женат / замужем</td>\n",
       "      <td>0</td>\n",
       "      <td>F</td>\n",
       "      <td>сотрудник</td>\n",
       "      <td>0</td>\n",
       "      <td>116820.904450</td>\n",
       "      <td>строительство собственной недвижимости</td>\n",
       "    </tr>\n",
       "    <tr>\n",
       "      <th>16</th>\n",
       "      <td>0</td>\n",
       "      <td>-1719.934226</td>\n",
       "      <td>35</td>\n",
       "      <td>среднее</td>\n",
       "      <td>1</td>\n",
       "      <td>женат / замужем</td>\n",
       "      <td>0</td>\n",
       "      <td>F</td>\n",
       "      <td>сотрудник</td>\n",
       "      <td>0</td>\n",
       "      <td>289202.704229</td>\n",
       "      <td>недвижимость</td>\n",
       "    </tr>\n",
       "    <tr>\n",
       "      <th>17</th>\n",
       "      <td>0</td>\n",
       "      <td>-2369.999720</td>\n",
       "      <td>33</td>\n",
       "      <td>высшее</td>\n",
       "      <td>0</td>\n",
       "      <td>гражданский брак</td>\n",
       "      <td>1</td>\n",
       "      <td>M</td>\n",
       "      <td>сотрудник</td>\n",
       "      <td>0</td>\n",
       "      <td>90410.586745</td>\n",
       "      <td>строительство недвижимости</td>\n",
       "    </tr>\n",
       "    <tr>\n",
       "      <th>18</th>\n",
       "      <td>0</td>\n",
       "      <td>400281.136913</td>\n",
       "      <td>53</td>\n",
       "      <td>среднее</td>\n",
       "      <td>1</td>\n",
       "      <td>вдовец / вдова</td>\n",
       "      <td>2</td>\n",
       "      <td>F</td>\n",
       "      <td>пенсионер</td>\n",
       "      <td>0</td>\n",
       "      <td>56823.777243</td>\n",
       "      <td>на покупку подержанного автомобиля</td>\n",
       "    </tr>\n",
       "    <tr>\n",
       "      <th>19</th>\n",
       "      <td>0</td>\n",
       "      <td>-10038.818549</td>\n",
       "      <td>48</td>\n",
       "      <td>СРЕДНЕЕ</td>\n",
       "      <td>1</td>\n",
       "      <td>в разводе</td>\n",
       "      <td>3</td>\n",
       "      <td>F</td>\n",
       "      <td>сотрудник</td>\n",
       "      <td>0</td>\n",
       "      <td>242831.107982</td>\n",
       "      <td>на покупку своего автомобиля</td>\n",
       "    </tr>\n",
       "  </tbody>\n",
       "</table>\n",
       "</div>"
      ],
      "text/plain": [
       "    children  days_employed  dob_years            education  education_id  \\\n",
       "0          1   -8437.673028         42               высшее             0   \n",
       "1          1   -4024.803754         36              среднее             1   \n",
       "2          0   -5623.422610         33              Среднее             1   \n",
       "3          3   -4124.747207         32              среднее             1   \n",
       "4          0  340266.072047         53              среднее             1   \n",
       "5          0    -926.185831         27               высшее             0   \n",
       "6          0   -2879.202052         43               высшее             0   \n",
       "7          0    -152.779569         50              СРЕДНЕЕ             1   \n",
       "8          2   -6929.865299         35               ВЫСШЕЕ             0   \n",
       "9          0   -2188.756445         41              среднее             1   \n",
       "10         2   -4171.483647         36               высшее             0   \n",
       "11         0    -792.701887         40              среднее             1   \n",
       "12         0            NaN         65              среднее             1   \n",
       "13         0   -1846.641941         54  неоконченное высшее             2   \n",
       "14         0   -1844.956182         56               высшее             0   \n",
       "15         1    -972.364419         26              среднее             1   \n",
       "16         0   -1719.934226         35              среднее             1   \n",
       "17         0   -2369.999720         33               высшее             0   \n",
       "18         0  400281.136913         53              среднее             1   \n",
       "19         0  -10038.818549         48              СРЕДНЕЕ             1   \n",
       "\n",
       "       family_status  family_status_id gender income_type  debt  \\\n",
       "0    женат / замужем                 0      F   сотрудник     0   \n",
       "1    женат / замужем                 0      F   сотрудник     0   \n",
       "2    женат / замужем                 0      M   сотрудник     0   \n",
       "3    женат / замужем                 0      M   сотрудник     0   \n",
       "4   гражданский брак                 1      F   пенсионер     0   \n",
       "5   гражданский брак                 1      M   компаньон     0   \n",
       "6    женат / замужем                 0      F   компаньон     0   \n",
       "7    женат / замужем                 0      M   сотрудник     0   \n",
       "8   гражданский брак                 1      F   сотрудник     0   \n",
       "9    женат / замужем                 0      M   сотрудник     0   \n",
       "10   женат / замужем                 0      M   компаньон     0   \n",
       "11   женат / замужем                 0      F   сотрудник     0   \n",
       "12  гражданский брак                 1      M   пенсионер     0   \n",
       "13   женат / замужем                 0      F   сотрудник     0   \n",
       "14  гражданский брак                 1      F   компаньон     1   \n",
       "15   женат / замужем                 0      F   сотрудник     0   \n",
       "16   женат / замужем                 0      F   сотрудник     0   \n",
       "17  гражданский брак                 1      M   сотрудник     0   \n",
       "18    вдовец / вдова                 2      F   пенсионер     0   \n",
       "19         в разводе                 3      F   сотрудник     0   \n",
       "\n",
       "     total_income                                 purpose  \n",
       "0   253875.639453                           покупка жилья  \n",
       "1   112080.014102                 приобретение автомобиля  \n",
       "2   145885.952297                           покупка жилья  \n",
       "3   267628.550329              дополнительное образование  \n",
       "4   158616.077870                         сыграть свадьбу  \n",
       "5   255763.565419                           покупка жилья  \n",
       "6   240525.971920                       операции с жильем  \n",
       "7   135823.934197                             образование  \n",
       "8    95856.832424                   на проведение свадьбы  \n",
       "9   144425.938277                 покупка жилья для семьи  \n",
       "10  113943.491460                    покупка недвижимости  \n",
       "11   77069.234271       покупка коммерческой недвижимости  \n",
       "12            NaN                         сыграть свадьбу  \n",
       "13  130458.228857                 приобретение автомобиля  \n",
       "14  165127.911772              покупка жилой недвижимости  \n",
       "15  116820.904450  строительство собственной недвижимости  \n",
       "16  289202.704229                            недвижимость  \n",
       "17   90410.586745              строительство недвижимости  \n",
       "18   56823.777243      на покупку подержанного автомобиля  \n",
       "19  242831.107982            на покупку своего автомобиля  "
      ]
     },
     "execution_count": 11,
     "metadata": {},
     "output_type": "execute_result"
    }
   ],
   "source": [
    "# ваш код здесь\n",
    "data.head(20)"
   ]
  },
  {
   "cell_type": "markdown",
   "id": "16cc01f0",
   "metadata": {
    "deletable": false,
    "editable": false,
    "id": "1c12e233",
    "tags": [
     "start_task"
    ]
   },
   "source": [
    "**Задание 3. Выведите основную информацию о датафрейме с помощью метода `info()`.**"
   ]
  },
  {
   "cell_type": "code",
   "execution_count": 12,
   "id": "5f1ea8bb",
   "metadata": {
    "id": "2b757bca"
   },
   "outputs": [
    {
     "name": "stdout",
     "output_type": "stream",
     "text": [
      "<class 'pandas.core.frame.DataFrame'>\n",
      "RangeIndex: 21525 entries, 0 to 21524\n",
      "Data columns (total 12 columns):\n",
      " #   Column            Non-Null Count  Dtype  \n",
      "---  ------            --------------  -----  \n",
      " 0   children          21525 non-null  int64  \n",
      " 1   days_employed     19351 non-null  float64\n",
      " 2   dob_years         21525 non-null  int64  \n",
      " 3   education         21525 non-null  object \n",
      " 4   education_id      21525 non-null  int64  \n",
      " 5   family_status     21525 non-null  object \n",
      " 6   family_status_id  21525 non-null  int64  \n",
      " 7   gender            21525 non-null  object \n",
      " 8   income_type       21525 non-null  object \n",
      " 9   debt              21525 non-null  int64  \n",
      " 10  total_income      19351 non-null  float64\n",
      " 11  purpose           21525 non-null  object \n",
      "dtypes: float64(2), int64(5), object(5)\n",
      "memory usage: 2.0+ MB\n"
     ]
    }
   ],
   "source": [
    "# ваш код здесь\n",
    "data.info()"
   ]
  },
  {
   "cell_type": "markdown",
   "id": "6e2f8c75",
   "metadata": {
    "deletable": false,
    "editable": false,
    "id": "333ec665"
   },
   "source": [
    "## Предобработка данных"
   ]
  },
  {
   "cell_type": "markdown",
   "id": "7c11762b",
   "metadata": {
    "deletable": false,
    "editable": false,
    "id": "02d92d53"
   },
   "source": [
    "### Удаление пропусков"
   ]
  },
  {
   "cell_type": "markdown",
   "id": "2be492e9",
   "metadata": {
    "deletable": false,
    "editable": false,
    "id": "cd84967c",
    "tags": [
     "start_task"
    ]
   },
   "source": [
    "**Задание 4. Выведите количество пропущенных значений для каждого столбца. Используйте комбинацию двух методов.**"
   ]
  },
  {
   "cell_type": "code",
   "execution_count": 13,
   "id": "5018c5be",
   "metadata": {
    "id": "7f9b2309"
   },
   "outputs": [
    {
     "data": {
      "text/plain": [
       "children               0\n",
       "days_employed       2174\n",
       "dob_years              0\n",
       "education              0\n",
       "education_id           0\n",
       "family_status          0\n",
       "family_status_id       0\n",
       "gender                 0\n",
       "income_type            0\n",
       "debt                   0\n",
       "total_income        2174\n",
       "purpose                0\n",
       "dtype: int64"
      ]
     },
     "execution_count": 13,
     "metadata": {},
     "output_type": "execute_result"
    }
   ],
   "source": [
    "# ваш код здесь\n",
    "data.isna().sum()"
   ]
  },
  {
   "cell_type": "code",
   "execution_count": 14,
   "id": "3db994f8",
   "metadata": {},
   "outputs": [
    {
     "data": {
      "text/plain": [
       "(21525, 12)"
      ]
     },
     "execution_count": 14,
     "metadata": {},
     "output_type": "execute_result"
    }
   ],
   "source": [
    "data.shape"
   ]
  },
  {
   "cell_type": "markdown",
   "id": "bcbba619",
   "metadata": {
    "deletable": false,
    "editable": false,
    "id": "db86e27b",
    "tags": [
     "start_task"
    ]
   },
   "source": [
    "**Задание 5. В двух столбцах есть пропущенные значения. Один из них — `days_employed`. Пропуски в этом столбце вы обработаете на следующем этапе. Другой столбец с пропущенными значениями — `total_income` — хранит данные о доходах. На сумму дохода сильнее всего влияет тип занятости, поэтому заполнить пропуски в этом столбце нужно медианным значением по каждому типу из столбца `income_type`. Например, у человека с типом занятости `сотрудник` пропуск в столбце `total_income` должен быть заполнен медианным доходом среди всех записей с тем же типом.**"
   ]
  },
  {
   "cell_type": "code",
   "execution_count": 15,
   "id": "cefea3f5",
   "metadata": {
    "id": "42006a93"
   },
   "outputs": [
    {
     "data": {
      "text/plain": [
       "children               0\n",
       "days_employed       2174\n",
       "dob_years              0\n",
       "education              0\n",
       "education_id           0\n",
       "family_status          0\n",
       "family_status_id       0\n",
       "gender                 0\n",
       "income_type            0\n",
       "debt                   0\n",
       "total_income           0\n",
       "purpose                0\n",
       "dtype: int64"
      ]
     },
     "execution_count": 15,
     "metadata": {},
     "output_type": "execute_result"
    }
   ],
   "source": [
    "# ваш код здесь\n",
    "# получаем медиану по всем видам занятости, сохраняем её в отдельную переменную\n",
    "median_income_by_type = data.groupby('income_type')['total_income'].median().copy()\n",
    "# сохраняем индексы с пустыми доходами\n",
    "na_index = data[data['total_income'].isna()].index\n",
    "# присоеденям записи к основной таблице\n",
    "median_from_base_table = data.merge(median_income_by_type, on='income_type', how='left')\n",
    "# устанавливаем значения пустым записям в основной таблице\n",
    "data.loc[na_index, 'total_income'] = median_from_base_table.loc[na_index, 'total_income_y']\n",
    "data.isna().sum()"
   ]
  },
  {
   "cell_type": "markdown",
   "id": "a929b1c3",
   "metadata": {
    "deletable": false,
    "editable": false,
    "id": "89da5ece"
   },
   "source": [
    "### Обработка аномальных значений"
   ]
  },
  {
   "cell_type": "markdown",
   "id": "288ee5fa",
   "metadata": {
    "deletable": false,
    "editable": false,
    "id": "57964554",
    "tags": [
     "start_task"
    ]
   },
   "source": [
    "**Задание 6. В данных могут встречаться артефакты (аномалии) — значения, которые не отражают действительность и появились по какой-то ошибке. Таким артефактом будет отрицательное количество дней трудового стажа в столбце `days_employed`. Для реальных данных это нормально. Обработайте значения в этом столбце: замените все отрицательные значения положительными с помощью метода `abs()`.**"
   ]
  },
  {
   "cell_type": "code",
   "execution_count": 16,
   "id": "a2c75f1a",
   "metadata": {
    "id": "f6f055bf"
   },
   "outputs": [
    {
     "data": {
      "text/html": [
       "<div>\n",
       "<style scoped>\n",
       "    .dataframe tbody tr th:only-of-type {\n",
       "        vertical-align: middle;\n",
       "    }\n",
       "\n",
       "    .dataframe tbody tr th {\n",
       "        vertical-align: top;\n",
       "    }\n",
       "\n",
       "    .dataframe thead th {\n",
       "        text-align: right;\n",
       "    }\n",
       "</style>\n",
       "<table border=\"1\" class=\"dataframe\">\n",
       "  <thead>\n",
       "    <tr style=\"text-align: right;\">\n",
       "      <th></th>\n",
       "      <th>children</th>\n",
       "      <th>days_employed</th>\n",
       "      <th>dob_years</th>\n",
       "      <th>education</th>\n",
       "      <th>education_id</th>\n",
       "      <th>family_status</th>\n",
       "      <th>family_status_id</th>\n",
       "      <th>gender</th>\n",
       "      <th>income_type</th>\n",
       "      <th>debt</th>\n",
       "      <th>total_income</th>\n",
       "      <th>purpose</th>\n",
       "    </tr>\n",
       "  </thead>\n",
       "  <tbody>\n",
       "  </tbody>\n",
       "</table>\n",
       "</div>"
      ],
      "text/plain": [
       "Empty DataFrame\n",
       "Columns: [children, days_employed, dob_years, education, education_id, family_status, family_status_id, gender, income_type, debt, total_income, purpose]\n",
       "Index: []"
      ]
     },
     "execution_count": 16,
     "metadata": {},
     "output_type": "execute_result"
    }
   ],
   "source": [
    "# ваш код здесь\n",
    "data['days_employed'] = data['days_employed'].abs()\n",
    "# проверям на отрицательные значения\n",
    "data.loc[data['days_employed'] < 0]"
   ]
  },
  {
   "cell_type": "markdown",
   "id": "4f86ba60",
   "metadata": {
    "deletable": false,
    "editable": false,
    "id": "6107dd2f",
    "tags": [
     "start_task"
    ]
   },
   "source": [
    "**Задание 7. Для каждого типа занятости выведите медианное значение трудового стажа `days_employed` в днях.**"
   ]
  },
  {
   "cell_type": "code",
   "execution_count": 17,
   "id": "e028ed35",
   "metadata": {
    "id": "85a5faf6"
   },
   "outputs": [
    {
     "data": {
      "text/plain": [
       "income_type\n",
       "безработный        366413.652744\n",
       "в декрете            3296.759962\n",
       "госслужащий          2689.368353\n",
       "компаньон            1547.382223\n",
       "пенсионер          365213.306266\n",
       "предприниматель       520.848083\n",
       "сотрудник            1574.202821\n",
       "студент               578.751554\n",
       "Name: days_employed, dtype: float64"
      ]
     },
     "execution_count": 17,
     "metadata": {},
     "output_type": "execute_result"
    }
   ],
   "source": [
    "# ваш код здесь\n",
    "data.groupby('income_type')['days_employed'].median()"
   ]
  },
  {
   "cell_type": "markdown",
   "id": "63135638",
   "metadata": {
    "deletable": false,
    "editable": false,
    "id": "38d1a030"
   },
   "source": [
    "У двух типов (безработные и пенсионеры) получатся аномально большие значения. Исправить такие значения сложно, поэтому оставьте их как есть. Тем более этот столбец не понадобится вам для исследования."
   ]
  },
  {
   "cell_type": "markdown",
   "id": "75c5f20f",
   "metadata": {
    "deletable": false,
    "editable": false,
    "id": "d8a9f147",
    "tags": [
     "start_task"
    ]
   },
   "source": [
    "**Задание 8. Выведите перечень уникальных значений столбца `children`.**"
   ]
  },
  {
   "cell_type": "code",
   "execution_count": 18,
   "id": "e13a81ab",
   "metadata": {
    "id": "ef5056eb"
   },
   "outputs": [
    {
     "data": {
      "text/plain": [
       "array([ 1,  0,  3,  2, -1,  4, 20,  5], dtype=int64)"
      ]
     },
     "execution_count": 18,
     "metadata": {},
     "output_type": "execute_result"
    }
   ],
   "source": [
    "# ваш код здесь\n",
    "data['children'].unique()"
   ]
  },
  {
   "cell_type": "markdown",
   "id": "29dc38fc",
   "metadata": {
    "deletable": false,
    "editable": false,
    "id": "40b9ebf2",
    "tags": [
     "start_task"
    ]
   },
   "source": [
    "**Задание 9. В столбце `children` есть два аномальных значения. Удалите строки, в которых встречаются такие аномальные значения из датафрейма `data`.**"
   ]
  },
  {
   "cell_type": "code",
   "execution_count": 19,
   "id": "aa587f9f",
   "metadata": {
    "id": "3ff9801d"
   },
   "outputs": [],
   "source": [
    "# ваш код здесь\n",
    "data = data[~data['children'].isin([20, -1])].reset_index(drop=True)"
   ]
  },
  {
   "cell_type": "markdown",
   "id": "6a266804",
   "metadata": {
    "deletable": false,
    "editable": false,
    "id": "bbc4d0ce",
    "tags": [
     "start_task"
    ]
   },
   "source": [
    "**Задание 10. Ещё раз выведите перечень уникальных значений столбца `children`, чтобы убедиться, что артефакты удалены.**"
   ]
  },
  {
   "cell_type": "code",
   "execution_count": 20,
   "id": "f65387d9",
   "metadata": {
    "id": "ad4fa8b7"
   },
   "outputs": [
    {
     "data": {
      "text/plain": [
       "array([1, 0, 3, 2, 4, 5], dtype=int64)"
      ]
     },
     "execution_count": 20,
     "metadata": {},
     "output_type": "execute_result"
    }
   ],
   "source": [
    "# ваш код здесь\n",
    "data['children'].unique()"
   ]
  },
  {
   "cell_type": "markdown",
   "id": "5f5e797e",
   "metadata": {
    "deletable": false,
    "editable": false,
    "id": "75440b63"
   },
   "source": [
    "### Удаление пропусков (продолжение)"
   ]
  },
  {
   "cell_type": "markdown",
   "id": "9a96a875",
   "metadata": {
    "deletable": false,
    "editable": false,
    "id": "f4ea573f",
    "tags": [
     "start_task"
    ]
   },
   "source": [
    "**Задание 11. Заполните пропуски в столбце `days_employed` медианными значениями по каждому типу занятости `income_type`.**"
   ]
  },
  {
   "cell_type": "code",
   "execution_count": 21,
   "id": "6148eb64",
   "metadata": {
    "id": "af6b1a7e"
   },
   "outputs": [],
   "source": [
    "# ваш код здесь\n",
    "#ищем медианные значения \n",
    "median_days_by_types = data.groupby('income_type')['days_employed'].median()\n",
    "#получаем индексы пустых дат\n",
    "na_days_index = data[data['days_employed'].isna()].index\n",
    "#сшиваем таблицы\n",
    "data_without_na = data.merge(median_days_by_types, on='income_type', how='left')\n",
    "#объеденям по ранее созданным индексам\n",
    "data.loc[na_days_index, 'days_employed'] = data_without_na.loc[na_days_index, 'days_employed_y']\n"
   ]
  },
  {
   "cell_type": "markdown",
   "id": "204d1400",
   "metadata": {
    "deletable": false,
    "editable": false,
    "id": "2753f40d",
    "tags": [
     "start_task"
    ]
   },
   "source": [
    "**Задание 12. Убедитесь, что все пропуски заполнены. Проверьте себя и ещё раз выведите количество пропущенных значений для каждого столбца с помощью двух методов.**"
   ]
  },
  {
   "cell_type": "code",
   "execution_count": 22,
   "id": "ed555926",
   "metadata": {
    "id": "55f78bc2"
   },
   "outputs": [
    {
     "data": {
      "text/plain": [
       "0"
      ]
     },
     "execution_count": 22,
     "metadata": {},
     "output_type": "execute_result"
    }
   ],
   "source": [
    "# ваш код здесь\n",
    "data['days_employed'].isna().sum()"
   ]
  },
  {
   "cell_type": "markdown",
   "id": "fe0b14cb",
   "metadata": {
    "deletable": false,
    "editable": false,
    "id": "ddc81e43"
   },
   "source": [
    "### Изменение типов данных"
   ]
  },
  {
   "cell_type": "markdown",
   "id": "fd811342",
   "metadata": {
    "deletable": false,
    "editable": false,
    "id": "42d19d24",
    "tags": [
     "start_task"
    ]
   },
   "source": [
    "**Задание 13. Замените вещественный тип данных в столбце `total_income` на целочисленный с помощью метода `astype()`.**"
   ]
  },
  {
   "cell_type": "code",
   "execution_count": 23,
   "id": "22b64f5d",
   "metadata": {
    "id": "920b65ad"
   },
   "outputs": [
    {
     "name": "stdout",
     "output_type": "stream",
     "text": [
      "<class 'pandas.core.frame.DataFrame'>\n",
      "RangeIndex: 21402 entries, 0 to 21401\n",
      "Data columns (total 12 columns):\n",
      " #   Column            Non-Null Count  Dtype  \n",
      "---  ------            --------------  -----  \n",
      " 0   children          21402 non-null  int64  \n",
      " 1   days_employed     21402 non-null  float64\n",
      " 2   dob_years         21402 non-null  int64  \n",
      " 3   education         21402 non-null  object \n",
      " 4   education_id      21402 non-null  int64  \n",
      " 5   family_status     21402 non-null  object \n",
      " 6   family_status_id  21402 non-null  int64  \n",
      " 7   gender            21402 non-null  object \n",
      " 8   income_type       21402 non-null  object \n",
      " 9   debt              21402 non-null  int64  \n",
      " 10  total_income      21402 non-null  int32  \n",
      " 11  purpose           21402 non-null  object \n",
      "dtypes: float64(1), int32(1), int64(5), object(5)\n",
      "memory usage: 1.9+ MB\n"
     ]
    }
   ],
   "source": [
    "# ваш код здесь\n",
    "data['total_income'] = data['total_income'].astype('int')\n",
    "data.info()"
   ]
  },
  {
   "cell_type": "markdown",
   "id": "f055f7d1",
   "metadata": {
    "deletable": false,
    "editable": false,
    "id": "80c420ba"
   },
   "source": [
    "### Обработка дубликатов"
   ]
  },
  {
   "cell_type": "markdown",
   "id": "4ee32063",
   "metadata": {
    "deletable": false,
    "editable": false,
    "tags": [
     "start_task"
    ]
   },
   "source": [
    "**Задание 14. Обработайте неявные дубликаты в столбце `education`. В этом столбце есть одни и те же значения, но записанные по-разному: с использованием заглавных и строчных букв. Приведите их к нижнему регистру. Проверьте остальные столбцы.**"
   ]
  },
  {
   "cell_type": "code",
   "execution_count": 24,
   "id": "bb98ed98",
   "metadata": {},
   "outputs": [],
   "source": [
    "# ваш код здесь\n",
    "data['education'] = data['education'].str.lower()"
   ]
  },
  {
   "cell_type": "markdown",
   "id": "028c13f6",
   "metadata": {
    "deletable": false,
    "editable": false,
    "id": "dc587695",
    "tags": [
     "start_task"
    ]
   },
   "source": [
    "**Задание 15. Выведите на экран количество строк-дубликатов в данных. Если такие строки присутствуют, удалите их.**"
   ]
  },
  {
   "cell_type": "code",
   "execution_count": 25,
   "id": "2fbc4c96",
   "metadata": {
    "id": "3ee445e4"
   },
   "outputs": [
    {
     "data": {
      "text/plain": [
       "21402"
      ]
     },
     "execution_count": 25,
     "metadata": {},
     "output_type": "execute_result"
    }
   ],
   "source": [
    "# посчитайте дубликаты\n",
    "data.duplicated().count()"
   ]
  },
  {
   "cell_type": "code",
   "execution_count": 26,
   "id": "907fabe4",
   "metadata": {
    "id": "8575fe05"
   },
   "outputs": [],
   "source": [
    "# удалите дубликаты\n",
    "data = data.drop_duplicates().reset_index(drop=True)"
   ]
  },
  {
   "cell_type": "markdown",
   "id": "28eca0cb",
   "metadata": {
    "deletable": false,
    "editable": false,
    "id": "9904cf55"
   },
   "source": [
    "### Категоризация данных"
   ]
  },
  {
   "cell_type": "markdown",
   "id": "d6901557",
   "metadata": {
    "deletable": false,
    "editable": false,
    "id": "72fcc8a2",
    "tags": [
     "start_task"
    ]
   },
   "source": [
    "**Задание 16. На основании диапазонов, указанных ниже, создайте в датафрейме `data` столбец `total_income_category` с категориями:**\n",
    "\n",
    "- 0–30000 — `'E'`;\n",
    "- 30001–50000 — `'D'`;\n",
    "- 50001–200000 — `'C'`;\n",
    "- 200001–1000000 — `'B'`;\n",
    "- 1000001 и выше — `'A'`.\n",
    "\n",
    "\n",
    "**Например, кредитополучателю с доходом 25000 нужно назначить категорию `'E'`, а клиенту, получающему 235000, — `'B'`. Используйте собственную функцию с именем `categorize_income()` и метод `apply()`.**"
   ]
  },
  {
   "cell_type": "code",
   "execution_count": 27,
   "id": "24b92c42",
   "metadata": {
    "id": "e1771346"
   },
   "outputs": [],
   "source": [
    "# создайте функцию categorize_income()\n",
    "def categorize_income(income):\n",
    "    if 0 <= income <= 30000:\n",
    "        return 'E'\n",
    "    elif 30000 < income <= 50000:\n",
    "        return 'D'\n",
    "    elif 50000 < income <= 200000:\n",
    "        return 'C'    \n",
    "    elif 200000 < income <= 1000000:\n",
    "        return 'B' \n",
    "    else:\n",
    "        return 'A'"
   ]
  },
  {
   "cell_type": "code",
   "execution_count": 28,
   "id": "a8f226d0",
   "metadata": {
    "id": "d5f3586d"
   },
   "outputs": [],
   "source": [
    "# примените функцию методом apply()\n",
    "data['total_income_category'] = data['total_income'].apply(categorize_income)"
   ]
  },
  {
   "cell_type": "markdown",
   "id": "c6eecad1",
   "metadata": {
    "deletable": false,
    "editable": false,
    "id": "dde49b5c",
    "tags": [
     "start_task"
    ]
   },
   "source": [
    "**Задание 17. Выведите на экран перечень уникальных целей взятия кредита из столбца `purpose`.**"
   ]
  },
  {
   "cell_type": "code",
   "execution_count": 29,
   "id": "4a4714d6",
   "metadata": {
    "id": "f67ce9b3"
   },
   "outputs": [
    {
     "data": {
      "text/plain": [
       "['автомобили',\n",
       " 'автомобиль',\n",
       " 'высшее образование',\n",
       " 'дополнительное образование',\n",
       " 'жилье',\n",
       " 'заняться высшим образованием',\n",
       " 'заняться образованием',\n",
       " 'на покупку автомобиля',\n",
       " 'на покупку подержанного автомобиля',\n",
       " 'на покупку своего автомобиля',\n",
       " 'на проведение свадьбы',\n",
       " 'недвижимость',\n",
       " 'образование',\n",
       " 'операции с жильем',\n",
       " 'операции с коммерческой недвижимостью',\n",
       " 'операции с недвижимостью',\n",
       " 'операции со своей недвижимостью',\n",
       " 'покупка жилой недвижимости',\n",
       " 'покупка жилья',\n",
       " 'покупка жилья для сдачи',\n",
       " 'покупка жилья для семьи',\n",
       " 'покупка коммерческой недвижимости',\n",
       " 'покупка недвижимости',\n",
       " 'покупка своего жилья',\n",
       " 'получение высшего образования',\n",
       " 'получение дополнительного образования',\n",
       " 'получение образования',\n",
       " 'приобретение автомобиля',\n",
       " 'профильное образование',\n",
       " 'ремонт жилью',\n",
       " 'свадьба',\n",
       " 'свой автомобиль',\n",
       " 'сделка с автомобилем',\n",
       " 'сделка с подержанным автомобилем',\n",
       " 'строительство жилой недвижимости',\n",
       " 'строительство недвижимости',\n",
       " 'строительство собственной недвижимости',\n",
       " 'сыграть свадьбу']"
      ]
     },
     "execution_count": 29,
     "metadata": {},
     "output_type": "execute_result"
    }
   ],
   "source": [
    "# ваш код здесь\n",
    "sorted(data['purpose'].unique())"
   ]
  },
  {
   "cell_type": "markdown",
   "id": "2f9afa65",
   "metadata": {
    "deletable": false,
    "editable": false,
    "id": "85d0aef0",
    "tags": [
     "start_task"
    ]
   },
   "source": [
    "**Задание 18. Создайте функцию, которая на основании данных из столбца `purpose` сформирует новый столбец `purpose_category`, в который войдут следующие категории:**\n",
    "\n",
    "- `'операции с автомобилем'`,\n",
    "- `'операции с недвижимостью'`,\n",
    "- `'проведение свадьбы'`,\n",
    "- `'получение образования'`.\n",
    "\n",
    "**Например, если в столбце `purpose` находится подстрока `'на покупку автомобиля'`, то в столбце `purpose_category` должна появиться строка `'операции с автомобилем'`.**\n",
    "\n",
    "**Используйте собственную функцию с именем `categorize_purpose()` и метод `apply()`. Изучите данные в столбце `purpose` и определите, какие подстроки помогут вам правильно определить категорию.**"
   ]
  },
  {
   "cell_type": "code",
   "execution_count": 30,
   "id": "d00192fe",
   "metadata": {
    "id": "e149fab4"
   },
   "outputs": [],
   "source": [
    "# создайте функцию categorize_purpose()\n",
    "def categorize_purpose(purpose):\n",
    "    replace_values = {'операции с автомобилем':['автомобиль', 'на покупку автомобиля', 'на покупку подержанного автомобиля', 'на покупку своего автомобиля',\n",
    "                               'на покупку подержанного автомобиля', 'приобретение автомобиля', 'свой автомобиль', 'сделка с автомобилем',\n",
    "                               'сделка с подержанным автомобилем', 'автомобили'],\n",
    "                 'получение образования':['высшее образование', 'дополнительное образование', 'заняться высшим образованием',\n",
    "                                 'заняться образованием', 'получение высшего образования', 'получение дополнительного образования',\n",
    "                                'получение образования', 'профильное образование', 'образование'],\n",
    "                  'проведение свадьбы':['на проведение свадьбы', 'сыграть свадьбу', 'свадьба'],\n",
    "                  'операции с недвижимостью':['операции с жильем', 'операции с коммерческой недвижимостью', 'операции с недвижимостью',\n",
    "                                 'операции со своей недвижимостью', 'покупка жилой недвижимости', 'покупка жилья',\n",
    "                                 'покупка жилья для сдачи', 'покупка жилья для семьи', 'покупка коммерческой недвижимости',\n",
    "                                 'покупка недвижимости', 'покупка своего жилья', 'ремонт жилью', 'строительство жилой недвижимости',\n",
    "                                 'строительство недвижимости', 'строительство собственной недвижимости', 'недвижимость', 'жилье']\n",
    "                 }\n",
    "    for key, value in replace_values.items():\n",
    "        if purpose in value:\n",
    "            return key\n",
    "\n",
    "    "
   ]
  },
  {
   "cell_type": "code",
   "execution_count": 31,
   "id": "0046ef3c",
   "metadata": {
    "id": "bf36e69b"
   },
   "outputs": [],
   "source": [
    "# примените функцию методом apply()\n",
    "data['purpose_category'] = data['purpose'].apply(categorize_purpose)"
   ]
  },
  {
   "cell_type": "code",
   "execution_count": 32,
   "id": "f5c5d977",
   "metadata": {},
   "outputs": [
    {
     "data": {
      "text/plain": [
       "array(['приобретение автомобиля', 'на покупку подержанного автомобиля',\n",
       "       'на покупку своего автомобиля', 'автомобили',\n",
       "       'сделка с подержанным автомобилем', 'автомобиль',\n",
       "       'свой автомобиль', 'сделка с автомобилем', 'на покупку автомобиля'],\n",
       "      dtype=object)"
      ]
     },
     "execution_count": 32,
     "metadata": {},
     "output_type": "execute_result"
    }
   ],
   "source": [
    "data.loc[data['purpose_category'] == 'операции с автомобилем', 'purpose'].unique()"
   ]
  },
  {
   "cell_type": "code",
   "execution_count": 33,
   "id": "e6b59527",
   "metadata": {},
   "outputs": [
    {
     "data": {
      "text/plain": [
       "array(['дополнительное образование', 'образование',\n",
       "       'заняться образованием', 'получение образования',\n",
       "       'получение дополнительного образования',\n",
       "       'получение высшего образования', 'профильное образование',\n",
       "       'высшее образование', 'заняться высшим образованием'], dtype=object)"
      ]
     },
     "execution_count": 33,
     "metadata": {},
     "output_type": "execute_result"
    }
   ],
   "source": [
    "data.loc[data['purpose_category'] == 'получение образования', 'purpose'].unique()"
   ]
  },
  {
   "cell_type": "code",
   "execution_count": 34,
   "id": "6e461e59",
   "metadata": {},
   "outputs": [
    {
     "data": {
      "text/plain": [
       "array(['сыграть свадьбу', 'на проведение свадьбы', 'свадьба'],\n",
       "      dtype=object)"
      ]
     },
     "execution_count": 34,
     "metadata": {},
     "output_type": "execute_result"
    }
   ],
   "source": [
    "data.loc[data['purpose_category'] == 'проведение свадьбы', 'purpose'].unique()"
   ]
  },
  {
   "cell_type": "code",
   "execution_count": 36,
   "id": "42746369",
   "metadata": {},
   "outputs": [
    {
     "data": {
      "text/plain": [
       "array(['покупка жилья', 'операции с жильем', 'покупка жилья для семьи',\n",
       "       'покупка недвижимости', 'покупка коммерческой недвижимости',\n",
       "       'покупка жилой недвижимости',\n",
       "       'строительство собственной недвижимости', 'недвижимость',\n",
       "       'строительство недвижимости',\n",
       "       'операции с коммерческой недвижимостью',\n",
       "       'строительство жилой недвижимости', 'жилье',\n",
       "       'операции со своей недвижимостью', 'покупка своего жилья',\n",
       "       'операции с недвижимостью', 'покупка жилья для сдачи',\n",
       "       'ремонт жилью'], dtype=object)"
      ]
     },
     "execution_count": 36,
     "metadata": {},
     "output_type": "execute_result"
    }
   ],
   "source": [
    "data.loc[data['purpose_category'] == 'операции с недвижимостью', 'purpose'].unique()"
   ]
  },
  {
   "cell_type": "code",
   "execution_count": 37,
   "id": "b3fb0e23",
   "metadata": {},
   "outputs": [
    {
     "data": {
      "text/plain": [
       "0"
      ]
     },
     "execution_count": 37,
     "metadata": {},
     "output_type": "execute_result"
    }
   ],
   "source": [
    "data.loc[data['purpose_category'].isna(), 'purpose'].count()"
   ]
  },
  {
   "cell_type": "code",
   "execution_count": null,
   "id": "4f89a957",
   "metadata": {},
   "outputs": [],
   "source": []
  }
 ],
 "metadata": {
  "ExecuteTimeLog": [
   {
    "duration": 42,
    "start_time": "2022-09-07T00:04:33.264Z"
   },
   {
    "duration": 396,
    "start_time": "2022-09-07T00:04:37.414Z"
   },
   {
    "duration": 527,
    "start_time": "2022-09-07T00:04:39.148Z"
   },
   {
    "duration": 21,
    "start_time": "2022-09-07T00:05:00.109Z"
   },
   {
    "duration": 14,
    "start_time": "2022-09-07T00:06:22.139Z"
   },
   {
    "duration": 30,
    "start_time": "2022-09-07T00:07:29.154Z"
   },
   {
    "duration": 11,
    "start_time": "2022-09-07T00:07:33.368Z"
   },
   {
    "duration": 10,
    "start_time": "2022-09-07T00:07:36.981Z"
   },
   {
    "duration": 7,
    "start_time": "2022-09-07T00:11:52.959Z"
   },
   {
    "duration": 5,
    "start_time": "2022-09-07T00:13:55.533Z"
   },
   {
    "duration": 19,
    "start_time": "2022-09-07T00:14:03.227Z"
   },
   {
    "duration": 20,
    "start_time": "2022-09-07T00:14:41.809Z"
   },
   {
    "duration": 10,
    "start_time": "2022-09-07T00:16:07.091Z"
   },
   {
    "duration": 11,
    "start_time": "2022-09-07T00:16:15.609Z"
   },
   {
    "duration": 9,
    "start_time": "2022-09-07T00:17:41.270Z"
   },
   {
    "duration": 8,
    "start_time": "2022-09-07T00:18:03.968Z"
   },
   {
    "duration": 20,
    "start_time": "2022-09-07T00:18:09.229Z"
   },
   {
    "duration": 9,
    "start_time": "2022-09-07T00:18:27.672Z"
   },
   {
    "duration": 13,
    "start_time": "2022-09-07T00:19:42.162Z"
   },
   {
    "duration": 7,
    "start_time": "2022-09-07T00:20:10.389Z"
   },
   {
    "duration": 9,
    "start_time": "2022-09-07T00:20:15.301Z"
   },
   {
    "duration": 21,
    "start_time": "2022-09-07T00:20:34.565Z"
   },
   {
    "duration": 13,
    "start_time": "2022-09-07T00:22:08.405Z"
   },
   {
    "duration": 16,
    "start_time": "2022-09-07T00:23:06.881Z"
   },
   {
    "duration": 9,
    "start_time": "2022-09-07T00:24:56.485Z"
   },
   {
    "duration": 24,
    "start_time": "2022-09-07T00:25:38.253Z"
   },
   {
    "duration": 11,
    "start_time": "2022-09-07T00:26:20.370Z"
   },
   {
    "duration": 28,
    "start_time": "2022-09-07T00:26:41.005Z"
   },
   {
    "duration": 15,
    "start_time": "2022-09-07T00:27:02.763Z"
   },
   {
    "duration": 28,
    "start_time": "2022-09-07T00:27:30.323Z"
   },
   {
    "duration": 26,
    "start_time": "2022-09-07T00:27:42.868Z"
   },
   {
    "duration": 27,
    "start_time": "2022-09-07T00:28:03.287Z"
   },
   {
    "duration": 18,
    "start_time": "2022-09-07T00:28:16.340Z"
   },
   {
    "duration": 15,
    "start_time": "2022-09-07T00:28:38.392Z"
   },
   {
    "duration": 13,
    "start_time": "2022-09-07T00:28:59.155Z"
   },
   {
    "duration": 14,
    "start_time": "2022-09-07T00:29:20.362Z"
   },
   {
    "duration": 16,
    "start_time": "2022-09-07T00:29:32.607Z"
   },
   {
    "duration": 25,
    "start_time": "2022-09-07T00:30:12.109Z"
   },
   {
    "duration": 24,
    "start_time": "2022-09-07T00:32:01.168Z"
   },
   {
    "duration": 15,
    "start_time": "2022-09-07T00:32:18.275Z"
   },
   {
    "duration": 2,
    "start_time": "2022-09-07T00:33:06.431Z"
   },
   {
    "duration": 77,
    "start_time": "2022-09-07T00:33:06.435Z"
   },
   {
    "duration": 14,
    "start_time": "2022-09-07T00:33:06.513Z"
   },
   {
    "duration": 15,
    "start_time": "2022-09-07T00:33:06.528Z"
   },
   {
    "duration": 9,
    "start_time": "2022-09-07T00:33:06.544Z"
   },
   {
    "duration": 27,
    "start_time": "2022-09-07T00:33:09.968Z"
   },
   {
    "duration": 26,
    "start_time": "2022-09-07T00:34:09.171Z"
   },
   {
    "duration": 11,
    "start_time": "2022-09-07T00:42:59.929Z"
   },
   {
    "duration": 25,
    "start_time": "2022-09-07T00:44:15.176Z"
   },
   {
    "duration": 11,
    "start_time": "2022-09-07T00:44:20.434Z"
   },
   {
    "duration": 17,
    "start_time": "2022-09-07T00:45:35.203Z"
   },
   {
    "duration": 18,
    "start_time": "2022-09-07T00:46:22.970Z"
   },
   {
    "duration": 18,
    "start_time": "2022-09-07T00:46:35.891Z"
   },
   {
    "duration": 14,
    "start_time": "2022-09-07T00:46:52.268Z"
   },
   {
    "duration": 0,
    "start_time": "2022-09-07T00:46:52.283Z"
   },
   {
    "duration": 0,
    "start_time": "2022-09-07T00:46:52.284Z"
   },
   {
    "duration": 0,
    "start_time": "2022-09-07T00:46:52.285Z"
   },
   {
    "duration": 0,
    "start_time": "2022-09-07T00:46:52.286Z"
   },
   {
    "duration": 0,
    "start_time": "2022-09-07T00:46:52.287Z"
   },
   {
    "duration": 0,
    "start_time": "2022-09-07T00:46:52.288Z"
   },
   {
    "duration": 0,
    "start_time": "2022-09-07T00:46:52.289Z"
   },
   {
    "duration": 0,
    "start_time": "2022-09-07T00:46:52.290Z"
   },
   {
    "duration": 0,
    "start_time": "2022-09-07T00:46:52.291Z"
   },
   {
    "duration": 2,
    "start_time": "2022-09-07T00:46:52.376Z"
   },
   {
    "duration": 6,
    "start_time": "2022-09-07T00:46:52.380Z"
   },
   {
    "duration": 6,
    "start_time": "2022-09-07T00:46:52.387Z"
   },
   {
    "duration": 10,
    "start_time": "2022-09-07T00:46:52.394Z"
   },
   {
    "duration": 5,
    "start_time": "2022-09-07T00:46:52.405Z"
   },
   {
    "duration": 8,
    "start_time": "2022-09-07T00:46:52.411Z"
   },
   {
    "duration": 15,
    "start_time": "2022-09-07T00:46:52.420Z"
   },
   {
    "duration": 2,
    "start_time": "2022-09-07T00:47:04.539Z"
   },
   {
    "duration": 74,
    "start_time": "2022-09-07T00:47:04.543Z"
   },
   {
    "duration": 14,
    "start_time": "2022-09-07T00:47:04.618Z"
   },
   {
    "duration": 17,
    "start_time": "2022-09-07T00:47:04.633Z"
   },
   {
    "duration": 10,
    "start_time": "2022-09-07T00:47:04.652Z"
   },
   {
    "duration": 14,
    "start_time": "2022-09-07T00:47:06.802Z"
   },
   {
    "duration": 9,
    "start_time": "2022-09-07T00:47:20.683Z"
   },
   {
    "duration": 26,
    "start_time": "2022-09-07T00:47:31.806Z"
   },
   {
    "duration": 714,
    "start_time": "2022-09-07T00:47:52.976Z"
   },
   {
    "duration": 10,
    "start_time": "2022-09-07T00:48:00.779Z"
   },
   {
    "duration": 21,
    "start_time": "2022-09-07T00:48:29.770Z"
   },
   {
    "duration": 3,
    "start_time": "2022-09-07T00:48:42.189Z"
   },
   {
    "duration": 73,
    "start_time": "2022-09-07T00:48:42.193Z"
   },
   {
    "duration": 13,
    "start_time": "2022-09-07T00:48:42.268Z"
   },
   {
    "duration": 18,
    "start_time": "2022-09-07T00:48:42.282Z"
   },
   {
    "duration": 8,
    "start_time": "2022-09-07T00:48:42.302Z"
   },
   {
    "duration": 38,
    "start_time": "2022-09-07T00:48:42.312Z"
   },
   {
    "duration": 47,
    "start_time": "2022-09-07T00:48:58.899Z"
   },
   {
    "duration": 16,
    "start_time": "2022-09-07T00:49:21.968Z"
   },
   {
    "duration": 2,
    "start_time": "2022-09-07T00:49:32.274Z"
   },
   {
    "duration": 70,
    "start_time": "2022-09-07T00:49:32.277Z"
   },
   {
    "duration": 13,
    "start_time": "2022-09-07T00:49:32.349Z"
   },
   {
    "duration": 16,
    "start_time": "2022-09-07T00:49:32.364Z"
   },
   {
    "duration": 9,
    "start_time": "2022-09-07T00:49:32.382Z"
   },
   {
    "duration": 32,
    "start_time": "2022-09-07T00:49:32.392Z"
   },
   {
    "duration": 11,
    "start_time": "2022-09-07T00:50:17.387Z"
   },
   {
    "duration": 17,
    "start_time": "2022-09-07T00:50:20.982Z"
   },
   {
    "duration": 19,
    "start_time": "2022-09-07T00:50:57.095Z"
   },
   {
    "duration": 3,
    "start_time": "2022-09-07T00:51:00.826Z"
   },
   {
    "duration": 75,
    "start_time": "2022-09-07T00:51:00.831Z"
   },
   {
    "duration": 13,
    "start_time": "2022-09-07T00:51:00.908Z"
   },
   {
    "duration": 33,
    "start_time": "2022-09-07T00:51:00.923Z"
   },
   {
    "duration": 11,
    "start_time": "2022-09-07T00:51:00.958Z"
   },
   {
    "duration": 27,
    "start_time": "2022-09-07T00:51:00.970Z"
   },
   {
    "duration": 2,
    "start_time": "2022-09-07T00:51:16.679Z"
   },
   {
    "duration": 76,
    "start_time": "2022-09-07T00:51:16.683Z"
   },
   {
    "duration": 14,
    "start_time": "2022-09-07T00:51:16.761Z"
   },
   {
    "duration": 15,
    "start_time": "2022-09-07T00:51:16.777Z"
   },
   {
    "duration": 10,
    "start_time": "2022-09-07T00:51:16.794Z"
   },
   {
    "duration": 34,
    "start_time": "2022-09-07T00:51:18.605Z"
   },
   {
    "duration": 33,
    "start_time": "2022-09-07T00:52:14.169Z"
   },
   {
    "duration": 38,
    "start_time": "2022-09-07T00:52:21.405Z"
   },
   {
    "duration": 24,
    "start_time": "2022-09-07T00:53:10.535Z"
   },
   {
    "duration": 3,
    "start_time": "2022-09-07T00:53:14.542Z"
   },
   {
    "duration": 85,
    "start_time": "2022-09-07T00:53:14.547Z"
   },
   {
    "duration": 17,
    "start_time": "2022-09-07T00:53:14.633Z"
   },
   {
    "duration": 29,
    "start_time": "2022-09-07T00:53:14.651Z"
   },
   {
    "duration": 10,
    "start_time": "2022-09-07T00:53:14.682Z"
   },
   {
    "duration": 43,
    "start_time": "2022-09-07T00:53:14.694Z"
   },
   {
    "duration": 20,
    "start_time": "2022-09-07T00:53:43.672Z"
   },
   {
    "duration": 32,
    "start_time": "2022-09-07T00:54:10.694Z"
   },
   {
    "duration": 35,
    "start_time": "2022-09-07T00:54:34.326Z"
   },
   {
    "duration": 23,
    "start_time": "2022-09-07T00:54:49.782Z"
   },
   {
    "duration": 3,
    "start_time": "2022-09-07T00:54:58.620Z"
   },
   {
    "duration": 73,
    "start_time": "2022-09-07T00:54:58.624Z"
   },
   {
    "duration": 13,
    "start_time": "2022-09-07T00:54:58.699Z"
   },
   {
    "duration": 26,
    "start_time": "2022-09-07T00:54:58.714Z"
   },
   {
    "duration": 8,
    "start_time": "2022-09-07T00:54:58.742Z"
   },
   {
    "duration": 24,
    "start_time": "2022-09-07T00:55:13.971Z"
   },
   {
    "duration": 41,
    "start_time": "2022-09-07T00:56:02.597Z"
   },
   {
    "duration": 1294,
    "start_time": "2022-09-07T00:56:09.991Z"
   },
   {
    "duration": 21,
    "start_time": "2022-09-07T00:56:18.579Z"
   },
   {
    "duration": 20,
    "start_time": "2022-09-07T00:56:50.797Z"
   },
   {
    "duration": 31,
    "start_time": "2022-09-07T00:57:11.947Z"
   },
   {
    "duration": 32,
    "start_time": "2022-09-07T00:57:22.212Z"
   },
   {
    "duration": 40,
    "start_time": "2022-09-07T00:57:27.439Z"
   },
   {
    "duration": 22,
    "start_time": "2022-09-07T01:11:51.265Z"
   },
   {
    "duration": 11,
    "start_time": "2022-09-07T01:12:10.331Z"
   },
   {
    "duration": 12,
    "start_time": "2022-09-07T01:12:13.539Z"
   },
   {
    "duration": 12,
    "start_time": "2022-09-07T01:12:52.499Z"
   },
   {
    "duration": 3,
    "start_time": "2022-09-07T01:13:05.025Z"
   },
   {
    "duration": 10,
    "start_time": "2022-09-07T01:13:21.674Z"
   },
   {
    "duration": 8,
    "start_time": "2022-09-07T01:13:33.576Z"
   },
   {
    "duration": 11,
    "start_time": "2022-09-07T01:15:18.904Z"
   },
   {
    "duration": 9,
    "start_time": "2022-09-07T01:15:30.222Z"
   },
   {
    "duration": 7,
    "start_time": "2022-09-07T01:15:41.569Z"
   },
   {
    "duration": 8,
    "start_time": "2022-09-07T01:16:56.884Z"
   },
   {
    "duration": 8,
    "start_time": "2022-09-07T01:21:48.217Z"
   },
   {
    "duration": 6,
    "start_time": "2022-09-07T01:23:42.749Z"
   },
   {
    "duration": 5,
    "start_time": "2022-09-07T01:24:10.017Z"
   },
   {
    "duration": 9,
    "start_time": "2022-09-07T01:26:30.781Z"
   },
   {
    "duration": 9,
    "start_time": "2022-09-07T01:26:37.428Z"
   },
   {
    "duration": 32,
    "start_time": "2022-09-07T01:28:45.952Z"
   },
   {
    "duration": 9,
    "start_time": "2022-09-07T01:28:58.680Z"
   },
   {
    "duration": 20,
    "start_time": "2022-09-07T01:29:02.802Z"
   },
   {
    "duration": 7,
    "start_time": "2022-09-07T01:29:19.915Z"
   },
   {
    "duration": 1677,
    "start_time": "2022-09-07T01:30:15.200Z"
   },
   {
    "duration": 5,
    "start_time": "2022-09-07T01:30:29.277Z"
   },
   {
    "duration": 6,
    "start_time": "2022-09-07T01:33:38.037Z"
   },
   {
    "duration": 8,
    "start_time": "2022-09-07T01:33:43.488Z"
   },
   {
    "duration": 8,
    "start_time": "2022-09-07T01:35:35.406Z"
   },
   {
    "duration": 8,
    "start_time": "2022-09-07T01:35:41.084Z"
   },
   {
    "duration": 33,
    "start_time": "2022-09-07T01:37:47.782Z"
   },
   {
    "duration": 25,
    "start_time": "2022-09-07T01:38:01.787Z"
   },
   {
    "duration": 19,
    "start_time": "2022-09-07T01:38:28.690Z"
   },
   {
    "duration": 35,
    "start_time": "2022-09-07T01:38:46.131Z"
   },
   {
    "duration": 35,
    "start_time": "2022-09-07T01:39:45.847Z"
   },
   {
    "duration": 3,
    "start_time": "2022-09-07T01:40:42.679Z"
   },
   {
    "duration": 82,
    "start_time": "2022-09-07T01:40:42.685Z"
   },
   {
    "duration": 15,
    "start_time": "2022-09-07T01:40:42.769Z"
   },
   {
    "duration": 29,
    "start_time": "2022-09-07T01:40:42.786Z"
   },
   {
    "duration": 26,
    "start_time": "2022-09-07T01:40:42.818Z"
   },
   {
    "duration": 38,
    "start_time": "2022-09-07T01:40:42.846Z"
   },
   {
    "duration": 12,
    "start_time": "2022-09-07T01:40:42.886Z"
   },
   {
    "duration": 11,
    "start_time": "2022-09-07T01:40:42.900Z"
   },
   {
    "duration": 28,
    "start_time": "2022-09-07T01:40:42.913Z"
   },
   {
    "duration": 12,
    "start_time": "2022-09-07T01:40:42.943Z"
   },
   {
    "duration": 12,
    "start_time": "2022-09-07T01:40:42.957Z"
   },
   {
    "duration": 17,
    "start_time": "2022-09-07T01:40:46.727Z"
   },
   {
    "duration": 24,
    "start_time": "2022-09-07T01:41:00.467Z"
   },
   {
    "duration": 42,
    "start_time": "2022-09-07T01:41:04.989Z"
   },
   {
    "duration": 26,
    "start_time": "2022-09-07T01:41:23.278Z"
   },
   {
    "duration": 28,
    "start_time": "2022-09-07T01:42:29.423Z"
   },
   {
    "duration": 2,
    "start_time": "2022-09-07T01:42:34.831Z"
   },
   {
    "duration": 77,
    "start_time": "2022-09-07T01:42:34.835Z"
   },
   {
    "duration": 15,
    "start_time": "2022-09-07T01:42:34.913Z"
   },
   {
    "duration": 61,
    "start_time": "2022-09-07T01:42:34.929Z"
   },
   {
    "duration": 9,
    "start_time": "2022-09-07T01:42:34.992Z"
   },
   {
    "duration": 26,
    "start_time": "2022-09-07T01:42:35.003Z"
   },
   {
    "duration": 7,
    "start_time": "2022-09-07T01:42:35.038Z"
   },
   {
    "duration": 13,
    "start_time": "2022-09-07T01:42:35.046Z"
   },
   {
    "duration": 6,
    "start_time": "2022-09-07T01:42:35.061Z"
   },
   {
    "duration": 10,
    "start_time": "2022-09-07T01:42:35.069Z"
   },
   {
    "duration": 10,
    "start_time": "2022-09-07T01:42:35.081Z"
   },
   {
    "duration": 28,
    "start_time": "2022-09-07T01:42:35.092Z"
   },
   {
    "duration": 36,
    "start_time": "2022-09-07T01:43:04.291Z"
   },
   {
    "duration": 31,
    "start_time": "2022-09-07T01:43:16.040Z"
   },
   {
    "duration": 32,
    "start_time": "2022-09-07T01:43:24.981Z"
   },
   {
    "duration": 19,
    "start_time": "2022-09-07T01:43:43.479Z"
   },
   {
    "duration": 32,
    "start_time": "2022-09-07T01:44:18.483Z"
   },
   {
    "duration": 30,
    "start_time": "2022-09-07T01:47:56.076Z"
   },
   {
    "duration": 23,
    "start_time": "2022-09-07T01:48:14.478Z"
   },
   {
    "duration": 33,
    "start_time": "2022-09-07T01:48:25.638Z"
   },
   {
    "duration": 21,
    "start_time": "2022-09-07T01:48:42.434Z"
   },
   {
    "duration": 25,
    "start_time": "2022-09-07T01:48:55.979Z"
   },
   {
    "duration": 22,
    "start_time": "2022-09-07T01:49:37.390Z"
   },
   {
    "duration": 29,
    "start_time": "2022-09-07T01:49:53.882Z"
   },
   {
    "duration": 22,
    "start_time": "2022-09-07T01:50:10.836Z"
   },
   {
    "duration": 22,
    "start_time": "2022-09-07T01:50:46.757Z"
   },
   {
    "duration": 27,
    "start_time": "2022-09-07T01:50:53.180Z"
   },
   {
    "duration": 3,
    "start_time": "2022-09-07T01:51:19.791Z"
   },
   {
    "duration": 71,
    "start_time": "2022-09-07T01:51:19.796Z"
   },
   {
    "duration": 14,
    "start_time": "2022-09-07T01:51:19.868Z"
   },
   {
    "duration": 16,
    "start_time": "2022-09-07T01:51:19.883Z"
   },
   {
    "duration": 10,
    "start_time": "2022-09-07T01:51:19.901Z"
   },
   {
    "duration": 35,
    "start_time": "2022-09-07T01:51:19.912Z"
   },
   {
    "duration": 8,
    "start_time": "2022-09-07T01:51:19.949Z"
   },
   {
    "duration": 15,
    "start_time": "2022-09-07T01:51:19.959Z"
   },
   {
    "duration": 4,
    "start_time": "2022-09-07T01:51:19.976Z"
   },
   {
    "duration": 15,
    "start_time": "2022-09-07T01:51:19.981Z"
   },
   {
    "duration": 2,
    "start_time": "2022-09-07T01:51:25.277Z"
   },
   {
    "duration": 69,
    "start_time": "2022-09-07T01:51:25.281Z"
   },
   {
    "duration": 14,
    "start_time": "2022-09-07T01:51:25.351Z"
   },
   {
    "duration": 19,
    "start_time": "2022-09-07T01:51:25.366Z"
   },
   {
    "duration": 9,
    "start_time": "2022-09-07T01:51:25.387Z"
   },
   {
    "duration": 28,
    "start_time": "2022-09-07T01:51:25.397Z"
   },
   {
    "duration": 18,
    "start_time": "2022-09-07T01:51:25.427Z"
   },
   {
    "duration": 8,
    "start_time": "2022-09-07T01:51:25.447Z"
   },
   {
    "duration": 8,
    "start_time": "2022-09-07T01:51:25.456Z"
   },
   {
    "duration": 8,
    "start_time": "2022-09-07T01:51:25.466Z"
   },
   {
    "duration": 6,
    "start_time": "2022-09-07T01:51:25.475Z"
   },
   {
    "duration": 38,
    "start_time": "2022-09-07T01:51:32.842Z"
   },
   {
    "duration": 3,
    "start_time": "2022-09-07T01:51:51.583Z"
   },
   {
    "duration": 73,
    "start_time": "2022-09-07T01:51:51.587Z"
   },
   {
    "duration": 14,
    "start_time": "2022-09-07T01:51:51.662Z"
   },
   {
    "duration": 27,
    "start_time": "2022-09-07T01:51:51.678Z"
   },
   {
    "duration": 13,
    "start_time": "2022-09-07T01:51:51.707Z"
   },
   {
    "duration": 34,
    "start_time": "2022-09-07T01:51:51.721Z"
   },
   {
    "duration": 7,
    "start_time": "2022-09-07T01:51:51.757Z"
   },
   {
    "duration": 13,
    "start_time": "2022-09-07T01:51:51.765Z"
   },
   {
    "duration": 5,
    "start_time": "2022-09-07T01:51:51.780Z"
   },
   {
    "duration": 14,
    "start_time": "2022-09-07T01:51:51.786Z"
   },
   {
    "duration": 8,
    "start_time": "2022-09-07T01:51:51.801Z"
   },
   {
    "duration": 33,
    "start_time": "2022-09-07T01:51:57.010Z"
   },
   {
    "duration": 54,
    "start_time": "2022-09-07T01:53:10.354Z"
   },
   {
    "duration": 29,
    "start_time": "2022-09-07T01:53:54.279Z"
   },
   {
    "duration": 24,
    "start_time": "2022-09-07T01:54:02.502Z"
   },
   {
    "duration": 19,
    "start_time": "2022-09-07T01:54:19.455Z"
   },
   {
    "duration": 4,
    "start_time": "2022-09-07T01:56:19.686Z"
   },
   {
    "duration": 48,
    "start_time": "2022-09-07T09:17:30.676Z"
   },
   {
    "duration": 384,
    "start_time": "2022-09-07T09:17:35.224Z"
   },
   {
    "duration": 668,
    "start_time": "2022-09-07T09:17:35.610Z"
   },
   {
    "duration": 20,
    "start_time": "2022-09-07T09:17:36.280Z"
   },
   {
    "duration": 21,
    "start_time": "2022-09-07T09:17:36.302Z"
   },
   {
    "duration": 10,
    "start_time": "2022-09-07T09:17:36.325Z"
   },
   {
    "duration": 31,
    "start_time": "2022-09-07T09:17:36.337Z"
   },
   {
    "duration": 10,
    "start_time": "2022-09-07T09:17:36.370Z"
   },
   {
    "duration": 7,
    "start_time": "2022-09-07T09:17:36.382Z"
   },
   {
    "duration": 5,
    "start_time": "2022-09-07T09:17:36.409Z"
   },
   {
    "duration": 15,
    "start_time": "2022-09-07T09:17:36.415Z"
   },
   {
    "duration": 9,
    "start_time": "2022-09-07T09:17:36.431Z"
   },
   {
    "duration": 20,
    "start_time": "2022-09-07T09:17:36.442Z"
   },
   {
    "duration": 4,
    "start_time": "2022-09-07T09:17:36.463Z"
   },
   {
    "duration": 19,
    "start_time": "2022-09-07T09:17:39.686Z"
   },
   {
    "duration": 2,
    "start_time": "2022-09-07T09:18:11.532Z"
   },
   {
    "duration": 78,
    "start_time": "2022-09-07T09:18:11.536Z"
   },
   {
    "duration": 14,
    "start_time": "2022-09-07T09:18:11.616Z"
   },
   {
    "duration": 17,
    "start_time": "2022-09-07T09:18:11.633Z"
   },
   {
    "duration": 10,
    "start_time": "2022-09-07T09:18:11.651Z"
   },
   {
    "duration": 49,
    "start_time": "2022-09-07T09:18:11.662Z"
   },
   {
    "duration": 9,
    "start_time": "2022-09-07T09:18:11.713Z"
   },
   {
    "duration": 12,
    "start_time": "2022-09-07T09:18:11.723Z"
   },
   {
    "duration": 6,
    "start_time": "2022-09-07T09:18:11.737Z"
   },
   {
    "duration": 8,
    "start_time": "2022-09-07T09:18:11.745Z"
   },
   {
    "duration": 4,
    "start_time": "2022-09-07T09:18:11.755Z"
   },
   {
    "duration": 49,
    "start_time": "2022-09-07T09:18:11.760Z"
   },
   {
    "duration": 5,
    "start_time": "2022-09-07T09:18:11.811Z"
   },
   {
    "duration": 14,
    "start_time": "2022-09-07T09:18:17.058Z"
   },
   {
    "duration": 14,
    "start_time": "2022-09-07T09:18:22.011Z"
   },
   {
    "duration": 28,
    "start_time": "2022-09-07T09:20:04.683Z"
   },
   {
    "duration": 7,
    "start_time": "2022-09-07T09:27:49.234Z"
   },
   {
    "duration": 16,
    "start_time": "2022-09-07T09:28:05.799Z"
   },
   {
    "duration": 15,
    "start_time": "2022-09-07T09:40:17.090Z"
   },
   {
    "duration": 12,
    "start_time": "2022-09-07T09:40:44.947Z"
   },
   {
    "duration": 17,
    "start_time": "2022-09-07T09:40:51.934Z"
   },
   {
    "duration": 17,
    "start_time": "2022-09-07T09:41:11.927Z"
   },
   {
    "duration": 15,
    "start_time": "2022-09-07T09:51:45.516Z"
   },
   {
    "duration": 14,
    "start_time": "2022-09-07T09:51:58.030Z"
   },
   {
    "duration": 18,
    "start_time": "2022-09-07T09:52:07.714Z"
   },
   {
    "duration": 15,
    "start_time": "2022-09-07T09:54:32.173Z"
   },
   {
    "duration": 17,
    "start_time": "2022-09-07T09:54:40.913Z"
   },
   {
    "duration": 17,
    "start_time": "2022-09-07T10:07:08.327Z"
   },
   {
    "duration": 15,
    "start_time": "2022-09-07T10:08:02.742Z"
   },
   {
    "duration": 30,
    "start_time": "2022-09-07T10:08:53.594Z"
   },
   {
    "duration": 21,
    "start_time": "2022-09-07T10:13:24.934Z"
   },
   {
    "duration": 15,
    "start_time": "2022-09-07T10:13:48.633Z"
   },
   {
    "duration": 19,
    "start_time": "2022-09-07T10:21:26.236Z"
   },
   {
    "duration": 17,
    "start_time": "2022-09-07T10:22:06.089Z"
   },
   {
    "duration": 18,
    "start_time": "2022-09-07T10:22:38.817Z"
   },
   {
    "duration": 18,
    "start_time": "2022-09-07T10:23:51.431Z"
   },
   {
    "duration": 20,
    "start_time": "2022-09-07T10:24:11.690Z"
   },
   {
    "duration": 15,
    "start_time": "2022-09-07T10:24:28.740Z"
   },
   {
    "duration": 15,
    "start_time": "2022-09-07T10:24:42.993Z"
   },
   {
    "duration": 16,
    "start_time": "2022-09-07T10:25:30.590Z"
   },
   {
    "duration": 18,
    "start_time": "2022-09-07T10:27:38.754Z"
   },
   {
    "duration": 17,
    "start_time": "2022-09-07T10:28:00.173Z"
   },
   {
    "duration": 19,
    "start_time": "2022-09-07T10:28:08.023Z"
   },
   {
    "duration": 16,
    "start_time": "2022-09-07T10:31:58.366Z"
   },
   {
    "duration": 17,
    "start_time": "2022-09-07T10:33:03.999Z"
   },
   {
    "duration": 18,
    "start_time": "2022-09-07T10:33:30.490Z"
   },
   {
    "duration": 17,
    "start_time": "2022-09-07T10:33:40.751Z"
   },
   {
    "duration": 19,
    "start_time": "2022-09-07T10:33:58.867Z"
   },
   {
    "duration": 29,
    "start_time": "2022-09-07T10:34:16.394Z"
   },
   {
    "duration": 26,
    "start_time": "2022-09-07T10:34:48.342Z"
   },
   {
    "duration": 47,
    "start_time": "2022-09-07T10:39:21.632Z"
   },
   {
    "duration": 16,
    "start_time": "2022-09-07T10:39:32.463Z"
   },
   {
    "duration": 15,
    "start_time": "2022-09-07T10:39:52.960Z"
   },
   {
    "duration": 16,
    "start_time": "2022-09-07T10:39:58.985Z"
   },
   {
    "duration": 16,
    "start_time": "2022-09-07T10:40:05.338Z"
   },
   {
    "duration": 17,
    "start_time": "2022-09-07T10:40:10.082Z"
   },
   {
    "duration": 16,
    "start_time": "2022-09-07T10:40:14.690Z"
   },
   {
    "duration": 17,
    "start_time": "2022-09-07T10:40:17.759Z"
   },
   {
    "duration": 15,
    "start_time": "2022-09-07T10:41:43.188Z"
   },
   {
    "duration": 19,
    "start_time": "2022-09-07T10:42:48.605Z"
   },
   {
    "duration": 23,
    "start_time": "2022-09-07T10:43:55.506Z"
   },
   {
    "duration": 13,
    "start_time": "2022-09-07T10:44:14.411Z"
   },
   {
    "duration": 15,
    "start_time": "2022-09-07T10:44:18.643Z"
   },
   {
    "duration": 14,
    "start_time": "2022-09-07T10:44:28.191Z"
   },
   {
    "duration": 15,
    "start_time": "2022-09-07T10:44:32.536Z"
   },
   {
    "duration": 13,
    "start_time": "2022-09-07T10:44:38.362Z"
   },
   {
    "duration": 15,
    "start_time": "2022-09-07T10:45:35.145Z"
   },
   {
    "duration": 62,
    "start_time": "2022-09-07T10:58:56.844Z"
   },
   {
    "duration": 75,
    "start_time": "2022-09-07T10:59:09.841Z"
   },
   {
    "duration": 25,
    "start_time": "2022-09-07T10:59:17.430Z"
   },
   {
    "duration": 17,
    "start_time": "2022-09-07T11:02:39.306Z"
   },
   {
    "duration": 214,
    "start_time": "2022-09-07T11:05:19.569Z"
   },
   {
    "duration": 46,
    "start_time": "2022-09-07T11:05:38.729Z"
   },
   {
    "duration": 19,
    "start_time": "2022-09-07T11:07:47.628Z"
   },
   {
    "duration": 17,
    "start_time": "2022-09-07T11:07:58.793Z"
   },
   {
    "duration": 3,
    "start_time": "2022-09-07T11:08:07.017Z"
   },
   {
    "duration": 79,
    "start_time": "2022-09-07T11:08:07.023Z"
   },
   {
    "duration": 14,
    "start_time": "2022-09-07T11:08:07.104Z"
   },
   {
    "duration": 16,
    "start_time": "2022-09-07T11:08:07.119Z"
   },
   {
    "duration": 10,
    "start_time": "2022-09-07T11:08:07.136Z"
   },
   {
    "duration": 27,
    "start_time": "2022-09-07T11:08:07.147Z"
   },
   {
    "duration": 39,
    "start_time": "2022-09-07T11:08:07.175Z"
   },
   {
    "duration": 18,
    "start_time": "2022-09-07T11:08:07.216Z"
   },
   {
    "duration": 12,
    "start_time": "2022-09-07T11:08:07.236Z"
   },
   {
    "duration": 15,
    "start_time": "2022-09-07T11:08:07.250Z"
   },
   {
    "duration": 15,
    "start_time": "2022-09-07T11:08:07.267Z"
   },
   {
    "duration": 31,
    "start_time": "2022-09-07T11:08:07.284Z"
   },
   {
    "duration": 5,
    "start_time": "2022-09-07T11:08:07.318Z"
   },
   {
    "duration": 28,
    "start_time": "2022-09-07T11:08:07.324Z"
   },
   {
    "duration": 20,
    "start_time": "2022-09-07T11:08:10.454Z"
   },
   {
    "duration": 14,
    "start_time": "2022-09-07T11:08:36.093Z"
   },
   {
    "duration": 33,
    "start_time": "2022-09-07T11:08:42.961Z"
   },
   {
    "duration": 15,
    "start_time": "2022-09-07T11:08:50.496Z"
   },
   {
    "duration": 15,
    "start_time": "2022-09-07T11:09:02.426Z"
   },
   {
    "duration": 20,
    "start_time": "2022-09-07T11:09:16.014Z"
   },
   {
    "duration": 16,
    "start_time": "2022-09-07T11:09:27.502Z"
   },
   {
    "duration": 14,
    "start_time": "2022-09-07T11:09:46.320Z"
   },
   {
    "duration": 14,
    "start_time": "2022-09-07T11:09:58.597Z"
   },
   {
    "duration": 19,
    "start_time": "2022-09-07T11:10:27.232Z"
   },
   {
    "duration": 15,
    "start_time": "2022-09-07T11:10:45.827Z"
   },
   {
    "duration": 32,
    "start_time": "2022-09-07T11:10:53.630Z"
   },
   {
    "duration": 19,
    "start_time": "2022-09-07T11:11:02.354Z"
   },
   {
    "duration": 12,
    "start_time": "2022-09-07T11:13:14.418Z"
   },
   {
    "duration": 17,
    "start_time": "2022-09-07T11:13:48.261Z"
   },
   {
    "duration": 12,
    "start_time": "2022-09-07T11:13:55.245Z"
   },
   {
    "duration": 7,
    "start_time": "2022-09-07T11:15:05.035Z"
   },
   {
    "duration": 7,
    "start_time": "2022-09-07T11:15:17.861Z"
   },
   {
    "duration": 19,
    "start_time": "2022-09-07T11:16:00.325Z"
   },
   {
    "duration": 17,
    "start_time": "2022-09-07T11:16:39.793Z"
   },
   {
    "duration": 20,
    "start_time": "2022-09-07T11:17:36.063Z"
   },
   {
    "duration": 34,
    "start_time": "2022-09-07T11:17:59.487Z"
   },
   {
    "duration": 28,
    "start_time": "2022-09-07T11:18:15.578Z"
   },
   {
    "duration": 6,
    "start_time": "2022-09-07T11:27:47.262Z"
   },
   {
    "duration": 3,
    "start_time": "2022-09-07T11:28:20.634Z"
   },
   {
    "duration": 84,
    "start_time": "2022-09-07T11:28:20.639Z"
   },
   {
    "duration": 16,
    "start_time": "2022-09-07T11:28:20.724Z"
   },
   {
    "duration": 24,
    "start_time": "2022-09-07T11:28:20.742Z"
   },
   {
    "duration": 14,
    "start_time": "2022-09-07T11:28:20.768Z"
   },
   {
    "duration": 55,
    "start_time": "2022-09-07T11:28:20.784Z"
   },
   {
    "duration": 8,
    "start_time": "2022-09-07T11:28:20.840Z"
   },
   {
    "duration": 13,
    "start_time": "2022-09-07T11:28:20.850Z"
   },
   {
    "duration": 8,
    "start_time": "2022-09-07T11:28:20.865Z"
   },
   {
    "duration": 8,
    "start_time": "2022-09-07T11:28:20.875Z"
   },
   {
    "duration": 5,
    "start_time": "2022-09-07T11:28:20.884Z"
   },
   {
    "duration": 35,
    "start_time": "2022-09-07T11:28:20.890Z"
   },
   {
    "duration": 4,
    "start_time": "2022-09-07T11:28:20.927Z"
   },
   {
    "duration": 19,
    "start_time": "2022-09-07T11:28:20.932Z"
   },
   {
    "duration": 10,
    "start_time": "2022-09-07T11:28:20.953Z"
   },
   {
    "duration": 20,
    "start_time": "2022-09-07T11:28:20.965Z"
   },
   {
    "duration": 38,
    "start_time": "2022-09-07T11:28:20.987Z"
   },
   {
    "duration": 3,
    "start_time": "2022-09-07T11:28:21.027Z"
   },
   {
    "duration": 10,
    "start_time": "2022-09-07T11:28:23.295Z"
   },
   {
    "duration": 5,
    "start_time": "2022-09-07T11:30:29.198Z"
   },
   {
    "duration": 7,
    "start_time": "2022-09-07T11:36:03.704Z"
   },
   {
    "duration": 5,
    "start_time": "2022-09-07T11:36:09.386Z"
   },
   {
    "duration": 19,
    "start_time": "2022-09-07T11:36:12.684Z"
   },
   {
    "duration": 22,
    "start_time": "2022-09-07T11:36:27.986Z"
   },
   {
    "duration": 5,
    "start_time": "2022-09-07T11:37:03.336Z"
   },
   {
    "duration": 20,
    "start_time": "2022-09-07T11:37:04.528Z"
   },
   {
    "duration": 22,
    "start_time": "2022-09-07T11:37:05.594Z"
   },
   {
    "duration": 3,
    "start_time": "2022-09-07T11:37:56.591Z"
   },
   {
    "duration": 77,
    "start_time": "2022-09-07T11:37:56.596Z"
   },
   {
    "duration": 13,
    "start_time": "2022-09-07T11:37:56.675Z"
   },
   {
    "duration": 27,
    "start_time": "2022-09-07T11:37:56.690Z"
   },
   {
    "duration": 9,
    "start_time": "2022-09-07T11:37:56.719Z"
   },
   {
    "duration": 26,
    "start_time": "2022-09-07T11:37:56.730Z"
   },
   {
    "duration": 7,
    "start_time": "2022-09-07T11:37:56.758Z"
   },
   {
    "duration": 12,
    "start_time": "2022-09-07T11:37:56.767Z"
   },
   {
    "duration": 30,
    "start_time": "2022-09-07T11:37:56.780Z"
   },
   {
    "duration": 7,
    "start_time": "2022-09-07T11:37:56.811Z"
   },
   {
    "duration": 5,
    "start_time": "2022-09-07T11:37:56.820Z"
   },
   {
    "duration": 30,
    "start_time": "2022-09-07T11:37:56.827Z"
   },
   {
    "duration": 4,
    "start_time": "2022-09-07T11:37:56.858Z"
   },
   {
    "duration": 18,
    "start_time": "2022-09-07T11:37:56.864Z"
   },
   {
    "duration": 10,
    "start_time": "2022-09-07T11:37:56.883Z"
   },
   {
    "duration": 18,
    "start_time": "2022-09-07T11:37:56.909Z"
   },
   {
    "duration": 18,
    "start_time": "2022-09-07T11:37:56.929Z"
   },
   {
    "duration": 3,
    "start_time": "2022-09-07T11:37:56.949Z"
   },
   {
    "duration": 13,
    "start_time": "2022-09-07T11:37:56.953Z"
   },
   {
    "duration": 5,
    "start_time": "2022-09-07T11:37:56.968Z"
   },
   {
    "duration": 4,
    "start_time": "2022-09-07T11:37:56.975Z"
   },
   {
    "duration": 46,
    "start_time": "2022-09-07T11:37:56.980Z"
   },
   {
    "duration": 6,
    "start_time": "2022-09-07T11:39:02.380Z"
   },
   {
    "duration": 6,
    "start_time": "2022-09-07T11:40:23.843Z"
   },
   {
    "duration": 8,
    "start_time": "2022-09-07T11:40:40.280Z"
   },
   {
    "duration": 6,
    "start_time": "2022-09-07T11:40:52.423Z"
   },
   {
    "duration": 5,
    "start_time": "2022-09-07T11:41:03.686Z"
   },
   {
    "duration": 20,
    "start_time": "2022-09-07T11:41:06.922Z"
   },
   {
    "duration": 6,
    "start_time": "2022-09-07T11:41:10.913Z"
   },
   {
    "duration": 6,
    "start_time": "2022-09-07T11:41:39.561Z"
   },
   {
    "duration": 6,
    "start_time": "2022-09-07T11:42:10.328Z"
   },
   {
    "duration": 7,
    "start_time": "2022-09-07T11:42:26.327Z"
   },
   {
    "duration": 8,
    "start_time": "2022-09-07T11:42:39.188Z"
   },
   {
    "duration": 2,
    "start_time": "2022-09-07T11:44:18.186Z"
   },
   {
    "duration": 72,
    "start_time": "2022-09-07T11:44:18.190Z"
   },
   {
    "duration": 13,
    "start_time": "2022-09-07T11:44:18.264Z"
   },
   {
    "duration": 17,
    "start_time": "2022-09-07T11:44:18.279Z"
   },
   {
    "duration": 11,
    "start_time": "2022-09-07T11:44:18.298Z"
   },
   {
    "duration": 24,
    "start_time": "2022-09-07T11:44:18.311Z"
   },
   {
    "duration": 8,
    "start_time": "2022-09-07T11:44:18.337Z"
   },
   {
    "duration": 15,
    "start_time": "2022-09-07T11:44:18.347Z"
   },
   {
    "duration": 11,
    "start_time": "2022-09-07T11:44:18.363Z"
   },
   {
    "duration": 17,
    "start_time": "2022-09-07T11:44:18.376Z"
   },
   {
    "duration": 15,
    "start_time": "2022-09-07T11:44:18.394Z"
   },
   {
    "duration": 17,
    "start_time": "2022-09-07T11:44:18.411Z"
   },
   {
    "duration": 4,
    "start_time": "2022-09-07T11:44:18.430Z"
   },
   {
    "duration": 21,
    "start_time": "2022-09-07T11:44:18.436Z"
   },
   {
    "duration": 10,
    "start_time": "2022-09-07T11:44:18.459Z"
   },
   {
    "duration": 39,
    "start_time": "2022-09-07T11:44:18.471Z"
   },
   {
    "duration": 19,
    "start_time": "2022-09-07T11:44:18.511Z"
   },
   {
    "duration": 3,
    "start_time": "2022-09-07T11:44:18.532Z"
   },
   {
    "duration": 15,
    "start_time": "2022-09-07T11:44:18.536Z"
   },
   {
    "duration": 9,
    "start_time": "2022-09-07T11:44:18.552Z"
   },
   {
    "duration": 6,
    "start_time": "2022-09-07T11:44:18.562Z"
   },
   {
    "duration": 20,
    "start_time": "2022-09-07T11:44:21.484Z"
   },
   {
    "duration": 8,
    "start_time": "2022-09-07T11:47:04.687Z"
   },
   {
    "duration": 3,
    "start_time": "2022-09-07T11:51:53.835Z"
   },
   {
    "duration": 7,
    "start_time": "2022-09-07T11:51:55.588Z"
   },
   {
    "duration": 3,
    "start_time": "2022-09-07T11:52:48.456Z"
   },
   {
    "duration": 106,
    "start_time": "2022-09-07T11:52:48.461Z"
   },
   {
    "duration": 13,
    "start_time": "2022-09-07T11:52:48.569Z"
   },
   {
    "duration": 31,
    "start_time": "2022-09-07T11:52:48.583Z"
   },
   {
    "duration": 24,
    "start_time": "2022-09-07T11:52:48.616Z"
   },
   {
    "duration": 50,
    "start_time": "2022-09-07T11:52:48.641Z"
   },
   {
    "duration": 8,
    "start_time": "2022-09-07T11:52:48.693Z"
   },
   {
    "duration": 29,
    "start_time": "2022-09-07T11:52:48.703Z"
   },
   {
    "duration": 21,
    "start_time": "2022-09-07T11:52:48.734Z"
   },
   {
    "duration": 49,
    "start_time": "2022-09-07T11:52:48.756Z"
   },
   {
    "duration": 53,
    "start_time": "2022-09-07T11:52:48.806Z"
   },
   {
    "duration": 56,
    "start_time": "2022-09-07T11:52:48.861Z"
   },
   {
    "duration": 19,
    "start_time": "2022-09-07T11:52:48.919Z"
   },
   {
    "duration": 44,
    "start_time": "2022-09-07T11:52:48.940Z"
   },
   {
    "duration": 84,
    "start_time": "2022-09-07T11:52:48.986Z"
   },
   {
    "duration": 31,
    "start_time": "2022-09-07T11:52:49.072Z"
   },
   {
    "duration": 20,
    "start_time": "2022-09-07T11:52:49.104Z"
   },
   {
    "duration": 3,
    "start_time": "2022-09-07T11:52:49.126Z"
   },
   {
    "duration": 15,
    "start_time": "2022-09-07T11:52:49.130Z"
   },
   {
    "duration": 12,
    "start_time": "2022-09-07T11:52:49.146Z"
   },
   {
    "duration": 2,
    "start_time": "2022-09-07T11:52:51.055Z"
   },
   {
    "duration": 1045,
    "start_time": "2022-09-07T11:54:21.165Z"
   },
   {
    "duration": 1335,
    "start_time": "2022-09-07T11:54:30.042Z"
   },
   {
    "duration": 1300,
    "start_time": "2022-09-07T11:55:24.803Z"
   },
   {
    "duration": 1207,
    "start_time": "2022-09-07T11:55:46.819Z"
   },
   {
    "duration": 7,
    "start_time": "2022-09-07T11:56:10.786Z"
   },
   {
    "duration": 21,
    "start_time": "2022-09-07T11:56:13.745Z"
   },
   {
    "duration": 9,
    "start_time": "2022-09-07T11:56:22.017Z"
   },
   {
    "duration": 11,
    "start_time": "2022-09-07T11:56:24.921Z"
   },
   {
    "duration": 11,
    "start_time": "2022-09-07T11:56:33.116Z"
   },
   {
    "duration": 716,
    "start_time": "2022-09-07T11:56:41.783Z"
   },
   {
    "duration": 3,
    "start_time": "2022-09-07T11:57:03.082Z"
   },
   {
    "duration": 49,
    "start_time": "2022-09-07T11:57:06.617Z"
   },
   {
    "duration": 5,
    "start_time": "2022-09-07T11:57:09.622Z"
   },
   {
    "duration": 7,
    "start_time": "2022-09-07T11:57:26.447Z"
   },
   {
    "duration": 7,
    "start_time": "2022-09-07T11:57:29.416Z"
   },
   {
    "duration": 5,
    "start_time": "2022-09-07T11:57:32.617Z"
   },
   {
    "duration": 5,
    "start_time": "2022-09-07T11:57:36.443Z"
   },
   {
    "duration": 7,
    "start_time": "2022-09-07T11:58:17.981Z"
   },
   {
    "duration": 7,
    "start_time": "2022-09-07T11:58:23.471Z"
   },
   {
    "duration": 3,
    "start_time": "2022-09-07T11:58:47.198Z"
   },
   {
    "duration": 102,
    "start_time": "2022-09-07T11:58:47.203Z"
   },
   {
    "duration": 17,
    "start_time": "2022-09-07T11:58:47.307Z"
   },
   {
    "duration": 24,
    "start_time": "2022-09-07T11:58:47.326Z"
   },
   {
    "duration": 14,
    "start_time": "2022-09-07T11:58:47.352Z"
   },
   {
    "duration": 58,
    "start_time": "2022-09-07T11:58:47.368Z"
   },
   {
    "duration": 10,
    "start_time": "2022-09-07T11:58:47.428Z"
   },
   {
    "duration": 26,
    "start_time": "2022-09-07T11:58:47.440Z"
   },
   {
    "duration": 8,
    "start_time": "2022-09-07T11:58:47.468Z"
   },
   {
    "duration": 19,
    "start_time": "2022-09-07T11:58:47.478Z"
   },
   {
    "duration": 8,
    "start_time": "2022-09-07T11:58:47.498Z"
   },
   {
    "duration": 20,
    "start_time": "2022-09-07T11:58:47.508Z"
   },
   {
    "duration": 4,
    "start_time": "2022-09-07T11:58:47.531Z"
   },
   {
    "duration": 20,
    "start_time": "2022-09-07T11:58:47.536Z"
   },
   {
    "duration": 10,
    "start_time": "2022-09-07T11:58:47.558Z"
   },
   {
    "duration": 32,
    "start_time": "2022-09-07T11:58:47.570Z"
   },
   {
    "duration": 21,
    "start_time": "2022-09-07T11:58:47.603Z"
   },
   {
    "duration": 3,
    "start_time": "2022-09-07T11:58:47.626Z"
   },
   {
    "duration": 21,
    "start_time": "2022-09-07T11:58:47.630Z"
   },
   {
    "duration": 5,
    "start_time": "2022-09-07T11:58:47.652Z"
   },
   {
    "duration": 20,
    "start_time": "2022-09-07T11:58:47.659Z"
   },
   {
    "duration": 34,
    "start_time": "2022-09-07T11:58:47.680Z"
   },
   {
    "duration": 27,
    "start_time": "2022-09-07T11:58:47.716Z"
   },
   {
    "duration": 12,
    "start_time": "2022-09-07T11:58:47.744Z"
   },
   {
    "duration": 23,
    "start_time": "2022-09-07T11:58:47.758Z"
   },
   {
    "duration": 25,
    "start_time": "2022-09-07T11:58:47.783Z"
   },
   {
    "duration": 19,
    "start_time": "2022-09-07T11:58:47.810Z"
   },
   {
    "duration": 3,
    "start_time": "2022-09-07T11:58:56.799Z"
   },
   {
    "duration": 73,
    "start_time": "2022-09-07T11:58:56.805Z"
   },
   {
    "duration": 14,
    "start_time": "2022-09-07T11:58:56.880Z"
   },
   {
    "duration": 19,
    "start_time": "2022-09-07T11:58:56.895Z"
   },
   {
    "duration": 9,
    "start_time": "2022-09-07T11:58:56.916Z"
   },
   {
    "duration": 29,
    "start_time": "2022-09-07T11:58:56.926Z"
   },
   {
    "duration": 9,
    "start_time": "2022-09-07T11:58:56.956Z"
   },
   {
    "duration": 10,
    "start_time": "2022-09-07T11:58:56.966Z"
   },
   {
    "duration": 5,
    "start_time": "2022-09-07T11:58:56.978Z"
   },
   {
    "duration": 31,
    "start_time": "2022-09-07T11:58:56.984Z"
   },
   {
    "duration": 4,
    "start_time": "2022-09-07T11:58:57.017Z"
   },
   {
    "duration": 55,
    "start_time": "2022-09-07T11:58:57.022Z"
   },
   {
    "duration": 4,
    "start_time": "2022-09-07T11:58:57.079Z"
   },
   {
    "duration": 36,
    "start_time": "2022-09-07T11:58:57.085Z"
   },
   {
    "duration": 11,
    "start_time": "2022-09-07T11:58:57.123Z"
   },
   {
    "duration": 23,
    "start_time": "2022-09-07T11:58:57.135Z"
   },
   {
    "duration": 18,
    "start_time": "2022-09-07T11:58:57.160Z"
   },
   {
    "duration": 4,
    "start_time": "2022-09-07T11:58:57.180Z"
   },
   {
    "duration": 12,
    "start_time": "2022-09-07T11:58:57.209Z"
   },
   {
    "duration": 16,
    "start_time": "2022-09-07T11:58:57.223Z"
   },
   {
    "duration": 8,
    "start_time": "2022-09-07T11:58:57.240Z"
   },
   {
    "duration": 8,
    "start_time": "2022-09-07T11:59:02.222Z"
   },
   {
    "duration": 3,
    "start_time": "2022-09-07T12:00:08.781Z"
   },
   {
    "duration": 2,
    "start_time": "2022-09-07T12:00:11.923Z"
   },
   {
    "duration": 78,
    "start_time": "2022-09-07T12:00:11.927Z"
   },
   {
    "duration": 14,
    "start_time": "2022-09-07T12:00:12.006Z"
   },
   {
    "duration": 15,
    "start_time": "2022-09-07T12:00:12.022Z"
   },
   {
    "duration": 9,
    "start_time": "2022-09-07T12:00:12.039Z"
   },
   {
    "duration": 26,
    "start_time": "2022-09-07T12:00:12.049Z"
   },
   {
    "duration": 32,
    "start_time": "2022-09-07T12:00:12.077Z"
   },
   {
    "duration": 6,
    "start_time": "2022-09-07T12:00:12.111Z"
   },
   {
    "duration": 5,
    "start_time": "2022-09-07T12:00:12.118Z"
   },
   {
    "duration": 9,
    "start_time": "2022-09-07T12:00:12.124Z"
   },
   {
    "duration": 8,
    "start_time": "2022-09-07T12:00:12.134Z"
   },
   {
    "duration": 25,
    "start_time": "2022-09-07T12:00:12.143Z"
   },
   {
    "duration": 4,
    "start_time": "2022-09-07T12:00:12.170Z"
   },
   {
    "duration": 35,
    "start_time": "2022-09-07T12:00:12.175Z"
   },
   {
    "duration": 10,
    "start_time": "2022-09-07T12:00:12.211Z"
   },
   {
    "duration": 31,
    "start_time": "2022-09-07T12:00:12.223Z"
   },
   {
    "duration": 21,
    "start_time": "2022-09-07T12:00:12.256Z"
   },
   {
    "duration": 3,
    "start_time": "2022-09-07T12:00:12.279Z"
   },
   {
    "duration": 26,
    "start_time": "2022-09-07T12:00:12.284Z"
   },
   {
    "duration": 12,
    "start_time": "2022-09-07T12:00:12.312Z"
   },
   {
    "duration": 21,
    "start_time": "2022-09-07T12:00:12.325Z"
   },
   {
    "duration": 8,
    "start_time": "2022-09-07T12:00:14.278Z"
   },
   {
    "duration": 22,
    "start_time": "2022-09-07T12:00:45.893Z"
   },
   {
    "duration": 6,
    "start_time": "2022-09-07T12:02:54.253Z"
   },
   {
    "duration": 2,
    "start_time": "2022-09-07T12:02:57.629Z"
   },
   {
    "duration": 98,
    "start_time": "2022-09-07T12:02:57.633Z"
   },
   {
    "duration": 15,
    "start_time": "2022-09-07T12:02:57.733Z"
   },
   {
    "duration": 30,
    "start_time": "2022-09-07T12:02:57.750Z"
   },
   {
    "duration": 12,
    "start_time": "2022-09-07T12:02:57.782Z"
   },
   {
    "duration": 44,
    "start_time": "2022-09-07T12:02:57.796Z"
   },
   {
    "duration": 10,
    "start_time": "2022-09-07T12:02:57.842Z"
   },
   {
    "duration": 22,
    "start_time": "2022-09-07T12:02:57.854Z"
   },
   {
    "duration": 39,
    "start_time": "2022-09-07T12:02:57.878Z"
   },
   {
    "duration": 30,
    "start_time": "2022-09-07T12:02:57.919Z"
   },
   {
    "duration": 7,
    "start_time": "2022-09-07T12:02:57.951Z"
   },
   {
    "duration": 33,
    "start_time": "2022-09-07T12:02:57.960Z"
   },
   {
    "duration": 16,
    "start_time": "2022-09-07T12:02:57.997Z"
   },
   {
    "duration": 26,
    "start_time": "2022-09-07T12:02:58.015Z"
   },
   {
    "duration": 17,
    "start_time": "2022-09-07T12:02:58.043Z"
   },
   {
    "duration": 21,
    "start_time": "2022-09-07T12:02:58.062Z"
   },
   {
    "duration": 39,
    "start_time": "2022-09-07T12:02:58.085Z"
   },
   {
    "duration": 4,
    "start_time": "2022-09-07T12:02:58.125Z"
   },
   {
    "duration": 16,
    "start_time": "2022-09-07T12:02:58.131Z"
   },
   {
    "duration": 19,
    "start_time": "2022-09-07T12:02:58.149Z"
   },
   {
    "duration": 5,
    "start_time": "2022-09-07T12:02:59.703Z"
   },
   {
    "duration": 11,
    "start_time": "2022-09-07T12:03:00.330Z"
   },
   {
    "duration": 8,
    "start_time": "2022-09-07T12:03:33.580Z"
   },
   {
    "duration": 7,
    "start_time": "2022-09-07T12:03:36.124Z"
   },
   {
    "duration": 6,
    "start_time": "2022-09-07T12:03:37.734Z"
   },
   {
    "duration": 8,
    "start_time": "2022-09-07T12:03:38.780Z"
   },
   {
    "duration": 5,
    "start_time": "2022-09-07T12:03:42.726Z"
   },
   {
    "duration": 5,
    "start_time": "2022-09-07T12:05:00.112Z"
   },
   {
    "duration": 2,
    "start_time": "2022-09-07T12:05:06.838Z"
   },
   {
    "duration": 94,
    "start_time": "2022-09-07T12:05:06.842Z"
   },
   {
    "duration": 14,
    "start_time": "2022-09-07T12:05:06.938Z"
   },
   {
    "duration": 20,
    "start_time": "2022-09-07T12:05:06.954Z"
   },
   {
    "duration": 11,
    "start_time": "2022-09-07T12:05:06.977Z"
   },
   {
    "duration": 30,
    "start_time": "2022-09-07T12:05:07.008Z"
   },
   {
    "duration": 10,
    "start_time": "2022-09-07T12:05:07.041Z"
   },
   {
    "duration": 17,
    "start_time": "2022-09-07T12:05:07.053Z"
   },
   {
    "duration": 4,
    "start_time": "2022-09-07T12:05:07.071Z"
   },
   {
    "duration": 32,
    "start_time": "2022-09-07T12:05:07.077Z"
   },
   {
    "duration": 4,
    "start_time": "2022-09-07T12:05:07.111Z"
   },
   {
    "duration": 27,
    "start_time": "2022-09-07T12:05:07.116Z"
   },
   {
    "duration": 4,
    "start_time": "2022-09-07T12:05:07.145Z"
   },
   {
    "duration": 17,
    "start_time": "2022-09-07T12:05:07.150Z"
   },
   {
    "duration": 11,
    "start_time": "2022-09-07T12:05:07.169Z"
   },
   {
    "duration": 39,
    "start_time": "2022-09-07T12:05:07.181Z"
   },
   {
    "duration": 20,
    "start_time": "2022-09-07T12:05:07.222Z"
   },
   {
    "duration": 3,
    "start_time": "2022-09-07T12:05:07.243Z"
   },
   {
    "duration": 12,
    "start_time": "2022-09-07T12:05:07.248Z"
   },
   {
    "duration": 5,
    "start_time": "2022-09-07T12:05:07.262Z"
   },
   {
    "duration": 13,
    "start_time": "2022-09-07T12:05:07.268Z"
   },
   {
    "duration": 22,
    "start_time": "2022-09-07T12:05:08.803Z"
   },
   {
    "duration": 7,
    "start_time": "2022-09-07T12:05:11.241Z"
   },
   {
    "duration": 5,
    "start_time": "2022-09-07T12:05:11.781Z"
   },
   {
    "duration": 7,
    "start_time": "2022-09-07T12:05:12.323Z"
   },
   {
    "duration": 7,
    "start_time": "2022-09-07T12:05:12.804Z"
   },
   {
    "duration": 6,
    "start_time": "2022-09-07T12:05:14.126Z"
   },
   {
    "duration": 7,
    "start_time": "2022-09-07T12:05:28.111Z"
   },
   {
    "duration": 2,
    "start_time": "2022-09-07T12:05:47.165Z"
   },
   {
    "duration": 82,
    "start_time": "2022-09-07T12:05:47.169Z"
   },
   {
    "duration": 18,
    "start_time": "2022-09-07T12:05:47.253Z"
   },
   {
    "duration": 31,
    "start_time": "2022-09-07T12:05:47.273Z"
   },
   {
    "duration": 20,
    "start_time": "2022-09-07T12:05:47.306Z"
   },
   {
    "duration": 41,
    "start_time": "2022-09-07T12:05:47.328Z"
   },
   {
    "duration": 10,
    "start_time": "2022-09-07T12:05:47.371Z"
   },
   {
    "duration": 22,
    "start_time": "2022-09-07T12:05:47.383Z"
   },
   {
    "duration": 9,
    "start_time": "2022-09-07T12:05:47.409Z"
   },
   {
    "duration": 12,
    "start_time": "2022-09-07T12:05:47.420Z"
   },
   {
    "duration": 14,
    "start_time": "2022-09-07T12:05:47.434Z"
   },
   {
    "duration": 30,
    "start_time": "2022-09-07T12:05:47.450Z"
   },
   {
    "duration": 4,
    "start_time": "2022-09-07T12:05:47.482Z"
   },
   {
    "duration": 26,
    "start_time": "2022-09-07T12:05:47.489Z"
   },
   {
    "duration": 10,
    "start_time": "2022-09-07T12:05:47.517Z"
   },
   {
    "duration": 31,
    "start_time": "2022-09-07T12:05:47.528Z"
   },
   {
    "duration": 27,
    "start_time": "2022-09-07T12:05:47.560Z"
   },
   {
    "duration": 3,
    "start_time": "2022-09-07T12:05:47.589Z"
   },
   {
    "duration": 12,
    "start_time": "2022-09-07T12:05:47.593Z"
   },
   {
    "duration": 9,
    "start_time": "2022-09-07T12:05:47.606Z"
   },
   {
    "duration": 5,
    "start_time": "2022-09-07T12:05:47.616Z"
   },
   {
    "duration": 5,
    "start_time": "2022-09-07T12:05:49.341Z"
   },
   {
    "duration": 21,
    "start_time": "2022-09-07T12:05:49.603Z"
   },
   {
    "duration": 7,
    "start_time": "2022-09-07T12:05:49.847Z"
   },
   {
    "duration": 6,
    "start_time": "2022-09-07T12:05:50.121Z"
   },
   {
    "duration": 6,
    "start_time": "2022-09-07T12:05:50.706Z"
   },
   {
    "duration": 6,
    "start_time": "2022-09-07T12:05:51.279Z"
   },
   {
    "duration": 6,
    "start_time": "2022-09-07T12:05:52.780Z"
   },
   {
    "duration": 6,
    "start_time": "2022-09-07T12:06:06.687Z"
   },
   {
    "duration": 442,
    "start_time": "2022-09-10T09:24:01.128Z"
   },
   {
    "duration": 322,
    "start_time": "2022-09-10T09:24:01.572Z"
   },
   {
    "duration": 22,
    "start_time": "2022-09-10T09:24:01.896Z"
   },
   {
    "duration": 21,
    "start_time": "2022-09-10T09:24:01.919Z"
   },
   {
    "duration": 12,
    "start_time": "2022-09-10T09:24:01.942Z"
   },
   {
    "duration": 32,
    "start_time": "2022-09-10T09:24:01.956Z"
   },
   {
    "duration": 10,
    "start_time": "2022-09-10T09:24:01.989Z"
   },
   {
    "duration": 8,
    "start_time": "2022-09-10T09:24:02.001Z"
   },
   {
    "duration": 23,
    "start_time": "2022-09-10T09:24:02.010Z"
   },
   {
    "duration": 16,
    "start_time": "2022-09-10T09:24:02.034Z"
   },
   {
    "duration": 5,
    "start_time": "2022-09-10T09:24:02.051Z"
   },
   {
    "duration": 25,
    "start_time": "2022-09-10T09:24:02.057Z"
   },
   {
    "duration": 18,
    "start_time": "2022-09-10T09:24:02.083Z"
   },
   {
    "duration": 35,
    "start_time": "2022-09-10T09:24:02.103Z"
   },
   {
    "duration": 12,
    "start_time": "2022-09-10T09:24:02.140Z"
   },
   {
    "duration": 30,
    "start_time": "2022-09-10T09:24:02.153Z"
   },
   {
    "duration": 21,
    "start_time": "2022-09-10T09:24:02.185Z"
   },
   {
    "duration": 16,
    "start_time": "2022-09-10T09:24:02.208Z"
   },
   {
    "duration": 39,
    "start_time": "2022-09-10T09:24:02.225Z"
   },
   {
    "duration": 41,
    "start_time": "2022-09-10T09:24:02.266Z"
   },
   {
    "duration": 43,
    "start_time": "2022-09-10T09:24:02.309Z"
   },
   {
    "duration": 78,
    "start_time": "2022-09-10T09:24:02.354Z"
   },
   {
    "duration": 42,
    "start_time": "2022-09-10T09:24:02.434Z"
   },
   {
    "duration": 23,
    "start_time": "2022-09-10T09:24:02.478Z"
   },
   {
    "duration": 27,
    "start_time": "2022-09-10T09:24:02.502Z"
   },
   {
    "duration": 23,
    "start_time": "2022-09-10T09:24:02.531Z"
   },
   {
    "duration": 29,
    "start_time": "2022-09-10T09:24:02.555Z"
   },
   {
    "duration": 25,
    "start_time": "2022-09-10T09:24:37.967Z"
   },
   {
    "duration": 78,
    "start_time": "2022-09-10T09:24:44.229Z"
   },
   {
    "duration": 30,
    "start_time": "2022-09-10T09:24:47.792Z"
   },
   {
    "duration": 36,
    "start_time": "2022-09-10T09:25:17.691Z"
   },
   {
    "duration": 13,
    "start_time": "2022-09-10T09:25:39.746Z"
   },
   {
    "duration": 2,
    "start_time": "2022-09-10T09:26:13.757Z"
   },
   {
    "duration": 75,
    "start_time": "2022-09-10T09:26:13.761Z"
   },
   {
    "duration": 17,
    "start_time": "2022-09-10T09:26:13.838Z"
   },
   {
    "duration": 19,
    "start_time": "2022-09-10T09:26:13.856Z"
   },
   {
    "duration": 9,
    "start_time": "2022-09-10T09:26:13.878Z"
   },
   {
    "duration": 19,
    "start_time": "2022-09-10T09:26:25.417Z"
   },
   {
    "duration": 19,
    "start_time": "2022-09-10T09:27:28.600Z"
   },
   {
    "duration": 11,
    "start_time": "2022-09-10T09:27:33.796Z"
   },
   {
    "duration": 3,
    "start_time": "2022-09-10T09:27:41.298Z"
   }
  ],
  "colab": {
   "name": "dpp_template_part1.ipynb",
   "provenance": []
  },
  "kernelspec": {
   "display_name": "Python 3 (ipykernel)",
   "language": "python",
   "name": "python3"
  },
  "language_info": {
   "codemirror_mode": {
    "name": "ipython",
    "version": 3
   },
   "file_extension": ".py",
   "mimetype": "text/x-python",
   "name": "python",
   "nbconvert_exporter": "python",
   "pygments_lexer": "ipython3",
   "version": "3.9.12"
  },
  "toc": {
   "base_numbering": 1,
   "nav_menu": {},
   "number_sections": true,
   "sideBar": true,
   "skip_h1_title": true,
   "title_cell": "Table of Contents",
   "title_sidebar": "Contents",
   "toc_cell": false,
   "toc_position": {},
   "toc_section_display": true,
   "toc_window_display": false
  },
  "varInspector": {
   "cols": {
    "lenName": 16,
    "lenType": 16,
    "lenVar": 40
   },
   "kernels_config": {
    "python": {
     "delete_cmd_postfix": "",
     "delete_cmd_prefix": "del ",
     "library": "var_list.py",
     "varRefreshCmd": "print(var_dic_list())"
    },
    "r": {
     "delete_cmd_postfix": ") ",
     "delete_cmd_prefix": "rm(",
     "library": "var_list.r",
     "varRefreshCmd": "cat(var_dic_list()) "
    }
   },
   "types_to_exclude": [
    "module",
    "function",
    "builtin_function_or_method",
    "instance",
    "_Feature"
   ],
   "window_display": false
  }
 },
 "nbformat": 4,
 "nbformat_minor": 5
}
