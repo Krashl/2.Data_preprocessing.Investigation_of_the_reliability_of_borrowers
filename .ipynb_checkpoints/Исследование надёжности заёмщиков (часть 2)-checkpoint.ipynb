{
 "cells": [
  {
   "cell_type": "markdown",
   "id": "e6ad6a18",
   "metadata": {
    "deletable": false,
    "editable": false,
    "id": "c81daeeb"
   },
   "source": [
    "# Исследование надежности заемщиков\n"
   ]
  },
  {
   "cell_type": "markdown",
   "id": "99ba4310",
   "metadata": {
    "deletable": false,
    "editable": false,
    "id": "827c20bf"
   },
   "source": [
    "Во второй части проекта вы выполните шаги 3 и 4. Их вручную проверит ревьюер.\n",
    "Чтобы вам не пришлось писать код заново для шагов 1 и 2, мы добавили авторские решения в ячейки с кодом. \n",
    "\n"
   ]
  },
  {
   "cell_type": "markdown",
   "id": "7970e76d",
   "metadata": {
    "deletable": false,
    "editable": false,
    "id": "744d7639"
   },
   "source": [
    "## Откройте таблицу и изучите общую информацию о данных"
   ]
  },
  {
   "cell_type": "markdown",
   "id": "cea5d731",
   "metadata": {
    "deletable": false,
    "editable": false,
    "id": "e7a14c31"
   },
   "source": [
    "**Задание 1. Импортируйте библиотеку pandas. Считайте данные из csv-файла в датафрейм и сохраните в переменную `data`. Путь к файлу:**\n",
    "\n",
    "`/datasets/data.csv`"
   ]
  },
  {
   "cell_type": "code",
   "execution_count": 28,
   "id": "a8cf3454",
   "metadata": {
    "deletable": false,
    "id": "7bcf75c9"
   },
   "outputs": [],
   "source": [
    "import pandas as pd\n",
    "\n",
    "try:\n",
    "    data = pd.read_csv('datasets/data.csv')\n",
    "except:\n",
    "    data = pd.read_csv('https://code.s3.yandex.net/datasets/data.csv')"
   ]
  },
  {
   "cell_type": "markdown",
   "id": "9ee9cdf7",
   "metadata": {
    "deletable": false,
    "editable": false,
    "id": "b8038fe3"
   },
   "source": [
    "**Задание 2. Выведите первые 20 строчек датафрейма `data` на экран.**"
   ]
  },
  {
   "cell_type": "code",
   "execution_count": 29,
   "id": "caf187ed",
   "metadata": {
    "deletable": false,
    "id": "2a7cab99",
    "outputId": "1a8f3ef2-d323-4ec2-ddf7-89670b5944c4"
   },
   "outputs": [
    {
     "data": {
      "text/html": [
       "<div>\n",
       "<style scoped>\n",
       "    .dataframe tbody tr th:only-of-type {\n",
       "        vertical-align: middle;\n",
       "    }\n",
       "\n",
       "    .dataframe tbody tr th {\n",
       "        vertical-align: top;\n",
       "    }\n",
       "\n",
       "    .dataframe thead th {\n",
       "        text-align: right;\n",
       "    }\n",
       "</style>\n",
       "<table border=\"1\" class=\"dataframe\">\n",
       "  <thead>\n",
       "    <tr style=\"text-align: right;\">\n",
       "      <th></th>\n",
       "      <th>children</th>\n",
       "      <th>days_employed</th>\n",
       "      <th>dob_years</th>\n",
       "      <th>education</th>\n",
       "      <th>education_id</th>\n",
       "      <th>family_status</th>\n",
       "      <th>family_status_id</th>\n",
       "      <th>gender</th>\n",
       "      <th>income_type</th>\n",
       "      <th>debt</th>\n",
       "      <th>total_income</th>\n",
       "      <th>purpose</th>\n",
       "    </tr>\n",
       "  </thead>\n",
       "  <tbody>\n",
       "    <tr>\n",
       "      <th>0</th>\n",
       "      <td>1</td>\n",
       "      <td>-8437.673028</td>\n",
       "      <td>42</td>\n",
       "      <td>высшее</td>\n",
       "      <td>0</td>\n",
       "      <td>женат / замужем</td>\n",
       "      <td>0</td>\n",
       "      <td>F</td>\n",
       "      <td>сотрудник</td>\n",
       "      <td>0</td>\n",
       "      <td>253875.639453</td>\n",
       "      <td>покупка жилья</td>\n",
       "    </tr>\n",
       "    <tr>\n",
       "      <th>1</th>\n",
       "      <td>1</td>\n",
       "      <td>-4024.803754</td>\n",
       "      <td>36</td>\n",
       "      <td>среднее</td>\n",
       "      <td>1</td>\n",
       "      <td>женат / замужем</td>\n",
       "      <td>0</td>\n",
       "      <td>F</td>\n",
       "      <td>сотрудник</td>\n",
       "      <td>0</td>\n",
       "      <td>112080.014102</td>\n",
       "      <td>приобретение автомобиля</td>\n",
       "    </tr>\n",
       "    <tr>\n",
       "      <th>2</th>\n",
       "      <td>0</td>\n",
       "      <td>-5623.422610</td>\n",
       "      <td>33</td>\n",
       "      <td>Среднее</td>\n",
       "      <td>1</td>\n",
       "      <td>женат / замужем</td>\n",
       "      <td>0</td>\n",
       "      <td>M</td>\n",
       "      <td>сотрудник</td>\n",
       "      <td>0</td>\n",
       "      <td>145885.952297</td>\n",
       "      <td>покупка жилья</td>\n",
       "    </tr>\n",
       "    <tr>\n",
       "      <th>3</th>\n",
       "      <td>3</td>\n",
       "      <td>-4124.747207</td>\n",
       "      <td>32</td>\n",
       "      <td>среднее</td>\n",
       "      <td>1</td>\n",
       "      <td>женат / замужем</td>\n",
       "      <td>0</td>\n",
       "      <td>M</td>\n",
       "      <td>сотрудник</td>\n",
       "      <td>0</td>\n",
       "      <td>267628.550329</td>\n",
       "      <td>дополнительное образование</td>\n",
       "    </tr>\n",
       "    <tr>\n",
       "      <th>4</th>\n",
       "      <td>0</td>\n",
       "      <td>340266.072047</td>\n",
       "      <td>53</td>\n",
       "      <td>среднее</td>\n",
       "      <td>1</td>\n",
       "      <td>гражданский брак</td>\n",
       "      <td>1</td>\n",
       "      <td>F</td>\n",
       "      <td>пенсионер</td>\n",
       "      <td>0</td>\n",
       "      <td>158616.077870</td>\n",
       "      <td>сыграть свадьбу</td>\n",
       "    </tr>\n",
       "    <tr>\n",
       "      <th>5</th>\n",
       "      <td>0</td>\n",
       "      <td>-926.185831</td>\n",
       "      <td>27</td>\n",
       "      <td>высшее</td>\n",
       "      <td>0</td>\n",
       "      <td>гражданский брак</td>\n",
       "      <td>1</td>\n",
       "      <td>M</td>\n",
       "      <td>компаньон</td>\n",
       "      <td>0</td>\n",
       "      <td>255763.565419</td>\n",
       "      <td>покупка жилья</td>\n",
       "    </tr>\n",
       "    <tr>\n",
       "      <th>6</th>\n",
       "      <td>0</td>\n",
       "      <td>-2879.202052</td>\n",
       "      <td>43</td>\n",
       "      <td>высшее</td>\n",
       "      <td>0</td>\n",
       "      <td>женат / замужем</td>\n",
       "      <td>0</td>\n",
       "      <td>F</td>\n",
       "      <td>компаньон</td>\n",
       "      <td>0</td>\n",
       "      <td>240525.971920</td>\n",
       "      <td>операции с жильем</td>\n",
       "    </tr>\n",
       "    <tr>\n",
       "      <th>7</th>\n",
       "      <td>0</td>\n",
       "      <td>-152.779569</td>\n",
       "      <td>50</td>\n",
       "      <td>СРЕДНЕЕ</td>\n",
       "      <td>1</td>\n",
       "      <td>женат / замужем</td>\n",
       "      <td>0</td>\n",
       "      <td>M</td>\n",
       "      <td>сотрудник</td>\n",
       "      <td>0</td>\n",
       "      <td>135823.934197</td>\n",
       "      <td>образование</td>\n",
       "    </tr>\n",
       "    <tr>\n",
       "      <th>8</th>\n",
       "      <td>2</td>\n",
       "      <td>-6929.865299</td>\n",
       "      <td>35</td>\n",
       "      <td>ВЫСШЕЕ</td>\n",
       "      <td>0</td>\n",
       "      <td>гражданский брак</td>\n",
       "      <td>1</td>\n",
       "      <td>F</td>\n",
       "      <td>сотрудник</td>\n",
       "      <td>0</td>\n",
       "      <td>95856.832424</td>\n",
       "      <td>на проведение свадьбы</td>\n",
       "    </tr>\n",
       "    <tr>\n",
       "      <th>9</th>\n",
       "      <td>0</td>\n",
       "      <td>-2188.756445</td>\n",
       "      <td>41</td>\n",
       "      <td>среднее</td>\n",
       "      <td>1</td>\n",
       "      <td>женат / замужем</td>\n",
       "      <td>0</td>\n",
       "      <td>M</td>\n",
       "      <td>сотрудник</td>\n",
       "      <td>0</td>\n",
       "      <td>144425.938277</td>\n",
       "      <td>покупка жилья для семьи</td>\n",
       "    </tr>\n",
       "    <tr>\n",
       "      <th>10</th>\n",
       "      <td>2</td>\n",
       "      <td>-4171.483647</td>\n",
       "      <td>36</td>\n",
       "      <td>высшее</td>\n",
       "      <td>0</td>\n",
       "      <td>женат / замужем</td>\n",
       "      <td>0</td>\n",
       "      <td>M</td>\n",
       "      <td>компаньон</td>\n",
       "      <td>0</td>\n",
       "      <td>113943.491460</td>\n",
       "      <td>покупка недвижимости</td>\n",
       "    </tr>\n",
       "    <tr>\n",
       "      <th>11</th>\n",
       "      <td>0</td>\n",
       "      <td>-792.701887</td>\n",
       "      <td>40</td>\n",
       "      <td>среднее</td>\n",
       "      <td>1</td>\n",
       "      <td>женат / замужем</td>\n",
       "      <td>0</td>\n",
       "      <td>F</td>\n",
       "      <td>сотрудник</td>\n",
       "      <td>0</td>\n",
       "      <td>77069.234271</td>\n",
       "      <td>покупка коммерческой недвижимости</td>\n",
       "    </tr>\n",
       "    <tr>\n",
       "      <th>12</th>\n",
       "      <td>0</td>\n",
       "      <td>NaN</td>\n",
       "      <td>65</td>\n",
       "      <td>среднее</td>\n",
       "      <td>1</td>\n",
       "      <td>гражданский брак</td>\n",
       "      <td>1</td>\n",
       "      <td>M</td>\n",
       "      <td>пенсионер</td>\n",
       "      <td>0</td>\n",
       "      <td>NaN</td>\n",
       "      <td>сыграть свадьбу</td>\n",
       "    </tr>\n",
       "    <tr>\n",
       "      <th>13</th>\n",
       "      <td>0</td>\n",
       "      <td>-1846.641941</td>\n",
       "      <td>54</td>\n",
       "      <td>неоконченное высшее</td>\n",
       "      <td>2</td>\n",
       "      <td>женат / замужем</td>\n",
       "      <td>0</td>\n",
       "      <td>F</td>\n",
       "      <td>сотрудник</td>\n",
       "      <td>0</td>\n",
       "      <td>130458.228857</td>\n",
       "      <td>приобретение автомобиля</td>\n",
       "    </tr>\n",
       "    <tr>\n",
       "      <th>14</th>\n",
       "      <td>0</td>\n",
       "      <td>-1844.956182</td>\n",
       "      <td>56</td>\n",
       "      <td>высшее</td>\n",
       "      <td>0</td>\n",
       "      <td>гражданский брак</td>\n",
       "      <td>1</td>\n",
       "      <td>F</td>\n",
       "      <td>компаньон</td>\n",
       "      <td>1</td>\n",
       "      <td>165127.911772</td>\n",
       "      <td>покупка жилой недвижимости</td>\n",
       "    </tr>\n",
       "    <tr>\n",
       "      <th>15</th>\n",
       "      <td>1</td>\n",
       "      <td>-972.364419</td>\n",
       "      <td>26</td>\n",
       "      <td>среднее</td>\n",
       "      <td>1</td>\n",
       "      <td>женат / замужем</td>\n",
       "      <td>0</td>\n",
       "      <td>F</td>\n",
       "      <td>сотрудник</td>\n",
       "      <td>0</td>\n",
       "      <td>116820.904450</td>\n",
       "      <td>строительство собственной недвижимости</td>\n",
       "    </tr>\n",
       "    <tr>\n",
       "      <th>16</th>\n",
       "      <td>0</td>\n",
       "      <td>-1719.934226</td>\n",
       "      <td>35</td>\n",
       "      <td>среднее</td>\n",
       "      <td>1</td>\n",
       "      <td>женат / замужем</td>\n",
       "      <td>0</td>\n",
       "      <td>F</td>\n",
       "      <td>сотрудник</td>\n",
       "      <td>0</td>\n",
       "      <td>289202.704229</td>\n",
       "      <td>недвижимость</td>\n",
       "    </tr>\n",
       "    <tr>\n",
       "      <th>17</th>\n",
       "      <td>0</td>\n",
       "      <td>-2369.999720</td>\n",
       "      <td>33</td>\n",
       "      <td>высшее</td>\n",
       "      <td>0</td>\n",
       "      <td>гражданский брак</td>\n",
       "      <td>1</td>\n",
       "      <td>M</td>\n",
       "      <td>сотрудник</td>\n",
       "      <td>0</td>\n",
       "      <td>90410.586745</td>\n",
       "      <td>строительство недвижимости</td>\n",
       "    </tr>\n",
       "    <tr>\n",
       "      <th>18</th>\n",
       "      <td>0</td>\n",
       "      <td>400281.136913</td>\n",
       "      <td>53</td>\n",
       "      <td>среднее</td>\n",
       "      <td>1</td>\n",
       "      <td>вдовец / вдова</td>\n",
       "      <td>2</td>\n",
       "      <td>F</td>\n",
       "      <td>пенсионер</td>\n",
       "      <td>0</td>\n",
       "      <td>56823.777243</td>\n",
       "      <td>на покупку подержанного автомобиля</td>\n",
       "    </tr>\n",
       "    <tr>\n",
       "      <th>19</th>\n",
       "      <td>0</td>\n",
       "      <td>-10038.818549</td>\n",
       "      <td>48</td>\n",
       "      <td>СРЕДНЕЕ</td>\n",
       "      <td>1</td>\n",
       "      <td>в разводе</td>\n",
       "      <td>3</td>\n",
       "      <td>F</td>\n",
       "      <td>сотрудник</td>\n",
       "      <td>0</td>\n",
       "      <td>242831.107982</td>\n",
       "      <td>на покупку своего автомобиля</td>\n",
       "    </tr>\n",
       "  </tbody>\n",
       "</table>\n",
       "</div>"
      ],
      "text/plain": [
       "    children  days_employed  dob_years            education  education_id  \\\n",
       "0          1   -8437.673028         42               высшее             0   \n",
       "1          1   -4024.803754         36              среднее             1   \n",
       "2          0   -5623.422610         33              Среднее             1   \n",
       "3          3   -4124.747207         32              среднее             1   \n",
       "4          0  340266.072047         53              среднее             1   \n",
       "5          0    -926.185831         27               высшее             0   \n",
       "6          0   -2879.202052         43               высшее             0   \n",
       "7          0    -152.779569         50              СРЕДНЕЕ             1   \n",
       "8          2   -6929.865299         35               ВЫСШЕЕ             0   \n",
       "9          0   -2188.756445         41              среднее             1   \n",
       "10         2   -4171.483647         36               высшее             0   \n",
       "11         0    -792.701887         40              среднее             1   \n",
       "12         0            NaN         65              среднее             1   \n",
       "13         0   -1846.641941         54  неоконченное высшее             2   \n",
       "14         0   -1844.956182         56               высшее             0   \n",
       "15         1    -972.364419         26              среднее             1   \n",
       "16         0   -1719.934226         35              среднее             1   \n",
       "17         0   -2369.999720         33               высшее             0   \n",
       "18         0  400281.136913         53              среднее             1   \n",
       "19         0  -10038.818549         48              СРЕДНЕЕ             1   \n",
       "\n",
       "       family_status  family_status_id gender income_type  debt  \\\n",
       "0    женат / замужем                 0      F   сотрудник     0   \n",
       "1    женат / замужем                 0      F   сотрудник     0   \n",
       "2    женат / замужем                 0      M   сотрудник     0   \n",
       "3    женат / замужем                 0      M   сотрудник     0   \n",
       "4   гражданский брак                 1      F   пенсионер     0   \n",
       "5   гражданский брак                 1      M   компаньон     0   \n",
       "6    женат / замужем                 0      F   компаньон     0   \n",
       "7    женат / замужем                 0      M   сотрудник     0   \n",
       "8   гражданский брак                 1      F   сотрудник     0   \n",
       "9    женат / замужем                 0      M   сотрудник     0   \n",
       "10   женат / замужем                 0      M   компаньон     0   \n",
       "11   женат / замужем                 0      F   сотрудник     0   \n",
       "12  гражданский брак                 1      M   пенсионер     0   \n",
       "13   женат / замужем                 0      F   сотрудник     0   \n",
       "14  гражданский брак                 1      F   компаньон     1   \n",
       "15   женат / замужем                 0      F   сотрудник     0   \n",
       "16   женат / замужем                 0      F   сотрудник     0   \n",
       "17  гражданский брак                 1      M   сотрудник     0   \n",
       "18    вдовец / вдова                 2      F   пенсионер     0   \n",
       "19         в разводе                 3      F   сотрудник     0   \n",
       "\n",
       "     total_income                                 purpose  \n",
       "0   253875.639453                           покупка жилья  \n",
       "1   112080.014102                 приобретение автомобиля  \n",
       "2   145885.952297                           покупка жилья  \n",
       "3   267628.550329              дополнительное образование  \n",
       "4   158616.077870                         сыграть свадьбу  \n",
       "5   255763.565419                           покупка жилья  \n",
       "6   240525.971920                       операции с жильем  \n",
       "7   135823.934197                             образование  \n",
       "8    95856.832424                   на проведение свадьбы  \n",
       "9   144425.938277                 покупка жилья для семьи  \n",
       "10  113943.491460                    покупка недвижимости  \n",
       "11   77069.234271       покупка коммерческой недвижимости  \n",
       "12            NaN                         сыграть свадьбу  \n",
       "13  130458.228857                 приобретение автомобиля  \n",
       "14  165127.911772              покупка жилой недвижимости  \n",
       "15  116820.904450  строительство собственной недвижимости  \n",
       "16  289202.704229                            недвижимость  \n",
       "17   90410.586745              строительство недвижимости  \n",
       "18   56823.777243      на покупку подержанного автомобиля  \n",
       "19  242831.107982            на покупку своего автомобиля  "
      ]
     },
     "execution_count": 29,
     "metadata": {},
     "output_type": "execute_result"
    }
   ],
   "source": [
    "data.head(20)"
   ]
  },
  {
   "cell_type": "markdown",
   "id": "67bde8be",
   "metadata": {
    "deletable": false,
    "editable": false,
    "id": "1c12e233"
   },
   "source": [
    "**Задание 3. Выведите основную информацию о датафрейме с помощью метода `info()`.**"
   ]
  },
  {
   "cell_type": "code",
   "execution_count": 30,
   "id": "65d047b0",
   "metadata": {
    "deletable": false,
    "id": "2b757bca",
    "outputId": "15376089-8dad-46c9-b520-c05248d43158"
   },
   "outputs": [
    {
     "name": "stdout",
     "output_type": "stream",
     "text": [
      "<class 'pandas.core.frame.DataFrame'>\n",
      "RangeIndex: 21525 entries, 0 to 21524\n",
      "Data columns (total 12 columns):\n",
      " #   Column            Non-Null Count  Dtype  \n",
      "---  ------            --------------  -----  \n",
      " 0   children          21525 non-null  int64  \n",
      " 1   days_employed     19351 non-null  float64\n",
      " 2   dob_years         21525 non-null  int64  \n",
      " 3   education         21525 non-null  object \n",
      " 4   education_id      21525 non-null  int64  \n",
      " 5   family_status     21525 non-null  object \n",
      " 6   family_status_id  21525 non-null  int64  \n",
      " 7   gender            21525 non-null  object \n",
      " 8   income_type       21525 non-null  object \n",
      " 9   debt              21525 non-null  int64  \n",
      " 10  total_income      19351 non-null  float64\n",
      " 11  purpose           21525 non-null  object \n",
      "dtypes: float64(2), int64(5), object(5)\n",
      "memory usage: 2.0+ MB\n"
     ]
    }
   ],
   "source": [
    "data.info()"
   ]
  },
  {
   "cell_type": "markdown",
   "id": "7d248cf2",
   "metadata": {
    "deletable": false,
    "editable": false,
    "id": "333ec665"
   },
   "source": [
    "## Предобработка данных"
   ]
  },
  {
   "cell_type": "markdown",
   "id": "931711d3",
   "metadata": {
    "deletable": false,
    "editable": false,
    "id": "02d92d53"
   },
   "source": [
    "### Удаление пропусков"
   ]
  },
  {
   "cell_type": "markdown",
   "id": "4c409e9d",
   "metadata": {
    "deletable": false,
    "editable": false,
    "id": "cd84967c"
   },
   "source": [
    "**Задание 4. Выведите количество пропущенных значений для каждого столбца. Используйте комбинацию двух методов.**"
   ]
  },
  {
   "cell_type": "code",
   "execution_count": 31,
   "id": "81064455",
   "metadata": {
    "deletable": false,
    "id": "7f9b2309",
    "outputId": "81f4d817-781c-465c-ed15-91ce4446810d"
   },
   "outputs": [
    {
     "data": {
      "text/plain": [
       "income_type\n",
       "госслужащий         147\n",
       "компаньон           508\n",
       "пенсионер           413\n",
       "предприниматель       1\n",
       "сотрудник          1105\n",
       "Name: education, dtype: int64"
      ]
     },
     "execution_count": 31,
     "metadata": {},
     "output_type": "execute_result"
    }
   ],
   "source": [
    "data.isna().sum()\n",
    "data.loc[(data['days_employed'].isna())].groupby('income_type')['education'].count()"
   ]
  },
  {
   "cell_type": "markdown",
   "id": "147ab222",
   "metadata": {
    "deletable": false,
    "editable": false,
    "id": "db86e27b"
   },
   "source": [
    "**Задание 5. В двух столбцах есть пропущенные значения. Один из них — `days_employed`. Пропуски в этом столбце вы обработаете на следующем этапе. Другой столбец с пропущенными значениями — `total_income` — хранит данные о доходах. На сумму дохода сильнее всего влияет тип занятости, поэтому заполнить пропуски в этом столбце нужно медианным значением по каждому типу из столбца `income_type`. Например, у человека с типом занятости `сотрудник` пропуск в столбце `total_income` должен быть заполнен медианным доходом среди всех записей с тем же типом.**"
   ]
  },
  {
   "cell_type": "code",
   "execution_count": 32,
   "id": "c32cf4e6",
   "metadata": {
    "deletable": false,
    "id": "42006a93"
   },
   "outputs": [],
   "source": [
    "for t in data['income_type'].unique():\n",
    "    data.loc[(data['income_type'] == t) & (data['total_income'].isna()), 'total_income'] = \\\n",
    "    data.loc[(data['income_type'] == t), 'total_income'].median()"
   ]
  },
  {
   "cell_type": "markdown",
   "id": "725dd056",
   "metadata": {
    "deletable": false,
    "editable": false,
    "id": "89da5ece"
   },
   "source": [
    "### Обработка аномальных значений"
   ]
  },
  {
   "cell_type": "markdown",
   "id": "a76e214e",
   "metadata": {
    "deletable": false,
    "editable": false,
    "id": "57964554"
   },
   "source": [
    "**Задание 6. В данных могут встречаться артефакты (аномалии) — значения, которые не отражают действительность и появились по какой-то ошибке. таким артефактом будет отрицательное количество дней трудового стажа в столбце `days_employed`. Для реальных данных это нормально. Обработайте значения в этом столбце: замените все отрицательные значения положительными с помощью метода `abs()`.**"
   ]
  },
  {
   "cell_type": "code",
   "execution_count": 33,
   "id": "8b565777",
   "metadata": {
    "deletable": false,
    "id": "f6f055bf"
   },
   "outputs": [],
   "source": [
    "data['days_employed'] = data['days_employed'].abs()"
   ]
  },
  {
   "cell_type": "markdown",
   "id": "a9c2cc92",
   "metadata": {
    "deletable": false,
    "editable": false,
    "id": "6107dd2f"
   },
   "source": [
    "**Задание 7. Для каждого типа занятости выведите медианное значение трудового стажа `days_employed` в днях.**"
   ]
  },
  {
   "cell_type": "code",
   "execution_count": 34,
   "id": "f1efba77",
   "metadata": {
    "deletable": false,
    "id": "85a5faf6",
    "outputId": "801ef80e-522b-4668-f34e-565af7432bcf"
   },
   "outputs": [
    {
     "data": {
      "text/plain": [
       "income_type\n",
       "безработный        366413.652744\n",
       "в декрете            3296.759962\n",
       "госслужащий          2689.368353\n",
       "компаньон            1547.382223\n",
       "пенсионер          365213.306266\n",
       "предприниматель       520.848083\n",
       "сотрудник            1574.202821\n",
       "студент               578.751554\n",
       "Name: days_employed, dtype: float64"
      ]
     },
     "execution_count": 34,
     "metadata": {},
     "output_type": "execute_result"
    }
   ],
   "source": [
    "data.groupby('income_type')['days_employed'].agg('median')"
   ]
  },
  {
   "cell_type": "markdown",
   "id": "5f9f3ca2",
   "metadata": {
    "deletable": false,
    "editable": false,
    "id": "38d1a030"
   },
   "source": [
    "У двух типов (безработные и пенсионеры) получатся аномально большие значения. Исправить такие значения сложно, поэтому оставьте их как есть. Тем более этот столбец не понадобится вам для исследования."
   ]
  },
  {
   "cell_type": "markdown",
   "id": "d1ac5ee7",
   "metadata": {
    "deletable": false,
    "editable": false,
    "id": "d8a9f147"
   },
   "source": [
    "**Задание 8. Выведите перечень уникальных значений столбца `children`.**"
   ]
  },
  {
   "cell_type": "code",
   "execution_count": 35,
   "id": "edb2a5c1",
   "metadata": {
    "deletable": false,
    "id": "ef5056eb",
    "outputId": "6975b15c-7f95-4697-d16d-a0c79b657b03"
   },
   "outputs": [
    {
     "data": {
      "text/plain": [
       "array([ 1,  0,  3,  2, -1,  4, 20,  5], dtype=int64)"
      ]
     },
     "execution_count": 35,
     "metadata": {},
     "output_type": "execute_result"
    }
   ],
   "source": [
    "data['children'].unique()"
   ]
  },
  {
   "cell_type": "markdown",
   "id": "9b70dc1c",
   "metadata": {
    "deletable": false,
    "editable": false,
    "id": "40b9ebf2"
   },
   "source": [
    "**Задание 9. В столбце `children` есть два аномальных значения. Удалите строки, в которых встречаются такие аномальные значения из датафрейма `data`.**"
   ]
  },
  {
   "cell_type": "code",
   "execution_count": 36,
   "id": "642b7fd2",
   "metadata": {
    "deletable": false,
    "id": "3ff9801d"
   },
   "outputs": [],
   "source": [
    "data = data[(data['children'] != -1) & (data['children'] != 20)]"
   ]
  },
  {
   "cell_type": "markdown",
   "id": "153cce9a",
   "metadata": {
    "deletable": false,
    "editable": false,
    "id": "bbc4d0ce"
   },
   "source": [
    "**Задание 10. Ещё раз выведите перечень уникальных значений столбца `children`, чтобы убедиться, что артефакты удалены.**"
   ]
  },
  {
   "cell_type": "code",
   "execution_count": 37,
   "id": "9069be1c",
   "metadata": {
    "deletable": false,
    "id": "ad4fa8b7",
    "outputId": "b2097101-d49d-44d9-901b-32a65c9463d1"
   },
   "outputs": [
    {
     "data": {
      "text/plain": [
       "array([1, 0, 3, 2, 4, 5], dtype=int64)"
      ]
     },
     "execution_count": 37,
     "metadata": {},
     "output_type": "execute_result"
    }
   ],
   "source": [
    "data['children'].unique()"
   ]
  },
  {
   "cell_type": "markdown",
   "id": "2b7880bf",
   "metadata": {
    "deletable": false,
    "editable": false,
    "id": "75440b63"
   },
   "source": [
    "### Удаление пропусков (продолжение)"
   ]
  },
  {
   "cell_type": "markdown",
   "id": "f9f1f81a",
   "metadata": {
    "deletable": false,
    "editable": false,
    "id": "f4ea573f"
   },
   "source": [
    "**Задание 11. Заполните пропуски в столбце `days_employed` медианными значениями по каждого типа занятости `income_type`.**"
   ]
  },
  {
   "cell_type": "code",
   "execution_count": 38,
   "id": "9fece037",
   "metadata": {
    "deletable": false,
    "id": "af6b1a7e"
   },
   "outputs": [],
   "source": [
    "for t in data['income_type'].unique():\n",
    "    data.loc[(data['income_type'] == t) & (data['days_employed'].isna()), 'days_employed'] = \\\n",
    "    data.loc[(data['income_type'] == t), 'days_employed'].median()"
   ]
  },
  {
   "cell_type": "markdown",
   "id": "f0a194d5",
   "metadata": {
    "deletable": false,
    "editable": false,
    "id": "2753f40d"
   },
   "source": [
    "**Задание 12. Убедитесь, что все пропуски заполнены. Проверьте себя и ещё раз выведите количество пропущенных значений для каждого столбца с помощью двух методов.**"
   ]
  },
  {
   "cell_type": "code",
   "execution_count": 39,
   "id": "1bdd706d",
   "metadata": {
    "deletable": false,
    "id": "55f78bc2",
    "outputId": "8da1e4e1-358e-4e87-98c9-f261bce0a7b2"
   },
   "outputs": [
    {
     "data": {
      "text/plain": [
       "children            0\n",
       "days_employed       0\n",
       "dob_years           0\n",
       "education           0\n",
       "education_id        0\n",
       "family_status       0\n",
       "family_status_id    0\n",
       "gender              0\n",
       "income_type         0\n",
       "debt                0\n",
       "total_income        0\n",
       "purpose             0\n",
       "dtype: int64"
      ]
     },
     "execution_count": 39,
     "metadata": {},
     "output_type": "execute_result"
    }
   ],
   "source": [
    "data.isna().sum()"
   ]
  },
  {
   "cell_type": "markdown",
   "id": "ed1cbeb4",
   "metadata": {
    "deletable": false,
    "editable": false,
    "id": "ddc81e43"
   },
   "source": [
    "### Изменение типов данных"
   ]
  },
  {
   "cell_type": "markdown",
   "id": "524e5e09",
   "metadata": {
    "deletable": false,
    "editable": false,
    "id": "42d19d24"
   },
   "source": [
    "**Задание 13. Замените вещественный тип данных в столбце `total_income` на целочисленный с помощью метода `astype()`.**"
   ]
  },
  {
   "cell_type": "code",
   "execution_count": 40,
   "id": "4e8b32f6",
   "metadata": {
    "deletable": false,
    "id": "920b65ad"
   },
   "outputs": [],
   "source": [
    "data['total_income'] = data['total_income'].astype(int)"
   ]
  },
  {
   "cell_type": "markdown",
   "id": "1d25f5d1",
   "metadata": {
    "deletable": false,
    "editable": false,
    "id": "80c420ba"
   },
   "source": [
    "### Обработка дубликатов"
   ]
  },
  {
   "cell_type": "markdown",
   "id": "879399c5",
   "metadata": {
    "deletable": false,
    "editable": false
   },
   "source": [
    "**Задание 14. Обработайте неявные дубликаты в столбце `education`. В этом столбце есть одни и те же значения, но записанные по-разному: с использованием заглавных и строчных букв. Приведите их к нижнему регистру. Проверьте остальные столбцы.**"
   ]
  },
  {
   "cell_type": "code",
   "execution_count": 41,
   "id": "90b13f00",
   "metadata": {
    "deletable": false
   },
   "outputs": [],
   "source": [
    "data['education'] = data['education'].str.lower()"
   ]
  },
  {
   "cell_type": "markdown",
   "id": "a7eb31d9",
   "metadata": {
    "deletable": false,
    "editable": false,
    "id": "dc587695"
   },
   "source": [
    "**Задание 15. Выведите на экран количество строк-дубликатов в данных. Если такие строки присутствуют, удалите их.**"
   ]
  },
  {
   "cell_type": "code",
   "execution_count": 42,
   "id": "cfa629a8",
   "metadata": {
    "deletable": false,
    "id": "3ee445e4",
    "outputId": "9684deba-1934-42d1-99e1-cda61740f822"
   },
   "outputs": [
    {
     "data": {
      "text/plain": [
       "71"
      ]
     },
     "execution_count": 42,
     "metadata": {},
     "output_type": "execute_result"
    }
   ],
   "source": [
    "data.duplicated().sum()"
   ]
  },
  {
   "cell_type": "code",
   "execution_count": 43,
   "id": "6188e33b",
   "metadata": {
    "deletable": false,
    "id": "8575fe05"
   },
   "outputs": [],
   "source": [
    "data = data.drop_duplicates()"
   ]
  },
  {
   "cell_type": "markdown",
   "id": "7f42f013",
   "metadata": {
    "deletable": false,
    "editable": false,
    "id": "9904cf55"
   },
   "source": [
    "### Категоризация данных"
   ]
  },
  {
   "cell_type": "markdown",
   "id": "b26b0340",
   "metadata": {
    "deletable": false,
    "editable": false,
    "id": "72fcc8a2"
   },
   "source": [
    "**Задание 16. На основании диапазонов, указанных ниже, создайте в датафрейме `data` столбец `total_income_category` с категориями:**\n",
    "\n",
    "- 0–30000 — `'E'`;\n",
    "- 30001–50000 — `'D'`;\n",
    "- 50001–200000 — `'C'`;\n",
    "- 200001–1000000 — `'B'`;\n",
    "- 1000001 и выше — `'A'`.\n",
    "\n",
    "\n",
    "**Например, кредитополучателю с доходом 25000 нужно назначить категорию `'E'`, а клиенту, получающему 235000, — `'B'`. Используйте собственную функцию с именем `categorize_income()` и метод `apply()`.**"
   ]
  },
  {
   "cell_type": "code",
   "execution_count": 44,
   "id": "d3abf98d",
   "metadata": {
    "deletable": false,
    "id": "e1771346"
   },
   "outputs": [],
   "source": [
    "def categorize_income(income):\n",
    "    try:\n",
    "        if 0 <= income <= 30000:\n",
    "            return 'E'\n",
    "        elif 30001 <= income <= 50000:\n",
    "            return 'D'\n",
    "        elif 50001 <= income <= 200000:\n",
    "            return 'C'\n",
    "        elif 200001 <= income <= 1000000:\n",
    "            return 'B'\n",
    "        elif income >= 1000001:\n",
    "            return 'A'\n",
    "    except:\n",
    "        pass"
   ]
  },
  {
   "cell_type": "code",
   "execution_count": 45,
   "id": "03474b2a",
   "metadata": {
    "deletable": false,
    "id": "d5f3586d"
   },
   "outputs": [],
   "source": [
    "data['total_income_category'] = data['total_income'].apply(categorize_income)"
   ]
  },
  {
   "cell_type": "markdown",
   "id": "5bb7e0d3",
   "metadata": {
    "deletable": false,
    "editable": false,
    "id": "dde49b5c"
   },
   "source": [
    "**Задание 17. Выведите на экран перечень уникальных целей взятия кредита из столбца `purpose`.**"
   ]
  },
  {
   "cell_type": "code",
   "execution_count": 46,
   "id": "027c83f3",
   "metadata": {
    "deletable": false,
    "id": "f67ce9b3",
    "outputId": "673c12d9-7d7e-4ae0-9812-c622c89dd244"
   },
   "outputs": [
    {
     "data": {
      "text/plain": [
       "array(['покупка жилья', 'приобретение автомобиля',\n",
       "       'дополнительное образование', 'сыграть свадьбу',\n",
       "       'операции с жильем', 'образование', 'на проведение свадьбы',\n",
       "       'покупка жилья для семьи', 'покупка недвижимости',\n",
       "       'покупка коммерческой недвижимости', 'покупка жилой недвижимости',\n",
       "       'строительство собственной недвижимости', 'недвижимость',\n",
       "       'строительство недвижимости', 'на покупку подержанного автомобиля',\n",
       "       'на покупку своего автомобиля',\n",
       "       'операции с коммерческой недвижимостью',\n",
       "       'строительство жилой недвижимости', 'жилье',\n",
       "       'операции со своей недвижимостью', 'автомобили',\n",
       "       'заняться образованием', 'сделка с подержанным автомобилем',\n",
       "       'получение образования', 'автомобиль', 'свадьба',\n",
       "       'получение дополнительного образования', 'покупка своего жилья',\n",
       "       'операции с недвижимостью', 'получение высшего образования',\n",
       "       'свой автомобиль', 'сделка с автомобилем',\n",
       "       'профильное образование', 'высшее образование',\n",
       "       'покупка жилья для сдачи', 'на покупку автомобиля', 'ремонт жилью',\n",
       "       'заняться высшим образованием'], dtype=object)"
      ]
     },
     "execution_count": 46,
     "metadata": {},
     "output_type": "execute_result"
    }
   ],
   "source": [
    "data['purpose'].unique()"
   ]
  },
  {
   "cell_type": "markdown",
   "id": "afb0c9c0",
   "metadata": {
    "deletable": false,
    "editable": false,
    "id": "85d0aef0"
   },
   "source": [
    "**Задание 18. Создайте функцию, которая на основании данных из столбца `purpose` сформирует новый столбец `purpose_category`, в который войдут следующие категории:**\n",
    "\n",
    "- `'операции с автомобилем'`,\n",
    "- `'операции с недвижимостью'`,\n",
    "- `'проведение свадьбы'`,\n",
    "- `'получение образования'`.\n",
    "\n",
    "**Например, если в столбце `purpose` находится подстрока `'на покупку автомобиля'`, то в столбце `purpose_category` должна появиться строка `'операции с автомобилем'`.**\n",
    "\n",
    "**Используйте собственную функцию с именем `categorize_purpose()` и метод `apply()`. Изучите данные в столбце `purpose` и определите, какие подстроки помогут вам правильно определить категорию.**"
   ]
  },
  {
   "cell_type": "code",
   "execution_count": 47,
   "id": "ce1fd4e0",
   "metadata": {
    "deletable": false,
    "id": "e149fab4"
   },
   "outputs": [],
   "source": [
    "def categorize_purpose(row):\n",
    "    try:\n",
    "        if 'автом' in row:\n",
    "            return 'операции с автомобилем'\n",
    "        elif 'жил' in row or 'недвиж' in row:\n",
    "            return 'операции с недвижимостью'\n",
    "        elif 'свад' in row:\n",
    "            return 'проведение свадьбы'\n",
    "        elif 'образов' in row:\n",
    "            return 'получение образования'\n",
    "    except:\n",
    "        return 'нет категории'"
   ]
  },
  {
   "cell_type": "code",
   "execution_count": 48,
   "id": "18d38178",
   "metadata": {
    "deletable": false,
    "id": "bf36e69b"
   },
   "outputs": [],
   "source": [
    "data['purpose_category'] = data['purpose'].apply(categorize_purpose)"
   ]
  },
  {
   "cell_type": "markdown",
   "id": "f87f0aa8",
   "metadata": {
    "deletable": false,
    "editable": false,
    "id": "09b242bf"
   },
   "source": [
    "### Шаг 3. Исследуйте данные и ответьте на вопросы"
   ]
  },
  {
   "cell_type": "markdown",
   "id": "9459f764",
   "metadata": {
    "deletable": false,
    "editable": false,
    "id": "c5d66278"
   },
   "source": [
    "#### 3.1 Есть ли зависимость между количеством детей и возвратом кредита в срок?"
   ]
  },
  {
   "cell_type": "code",
   "execution_count": 49,
   "id": "0b0276e7",
   "metadata": {
    "deletable": false,
    "id": "2cacfc4a"
   },
   "outputs": [
    {
     "data": {
      "text/html": [
       "<div>\n",
       "<style scoped>\n",
       "    .dataframe tbody tr th:only-of-type {\n",
       "        vertical-align: middle;\n",
       "    }\n",
       "\n",
       "    .dataframe tbody tr th {\n",
       "        vertical-align: top;\n",
       "    }\n",
       "\n",
       "    .dataframe thead th {\n",
       "        text-align: right;\n",
       "    }\n",
       "</style>\n",
       "<table border=\"1\" class=\"dataframe\">\n",
       "  <thead>\n",
       "    <tr style=\"text-align: right;\">\n",
       "      <th></th>\n",
       "      <th>count</th>\n",
       "      <th>sum</th>\n",
       "      <th>mean</th>\n",
       "    </tr>\n",
       "    <tr>\n",
       "      <th>children</th>\n",
       "      <th></th>\n",
       "      <th></th>\n",
       "      <th></th>\n",
       "    </tr>\n",
       "  </thead>\n",
       "  <tbody>\n",
       "    <tr>\n",
       "      <th>4</th>\n",
       "      <td>41</td>\n",
       "      <td>4</td>\n",
       "      <td>0.097561</td>\n",
       "    </tr>\n",
       "    <tr>\n",
       "      <th>2</th>\n",
       "      <td>2052</td>\n",
       "      <td>194</td>\n",
       "      <td>0.094542</td>\n",
       "    </tr>\n",
       "    <tr>\n",
       "      <th>1</th>\n",
       "      <td>4808</td>\n",
       "      <td>444</td>\n",
       "      <td>0.092346</td>\n",
       "    </tr>\n",
       "    <tr>\n",
       "      <th>3</th>\n",
       "      <td>330</td>\n",
       "      <td>27</td>\n",
       "      <td>0.081818</td>\n",
       "    </tr>\n",
       "    <tr>\n",
       "      <th>0</th>\n",
       "      <td>14091</td>\n",
       "      <td>1063</td>\n",
       "      <td>0.075438</td>\n",
       "    </tr>\n",
       "    <tr>\n",
       "      <th>5</th>\n",
       "      <td>9</td>\n",
       "      <td>0</td>\n",
       "      <td>0.000000</td>\n",
       "    </tr>\n",
       "  </tbody>\n",
       "</table>\n",
       "</div>"
      ],
      "text/plain": [
       "          count   sum      mean\n",
       "children                       \n",
       "4            41     4  0.097561\n",
       "2          2052   194  0.094542\n",
       "1          4808   444  0.092346\n",
       "3           330    27  0.081818\n",
       "0         14091  1063  0.075438\n",
       "5             9     0  0.000000"
      ]
     },
     "execution_count": 49,
     "metadata": {},
     "output_type": "execute_result"
    }
   ],
   "source": [
    "# Узнаем общее количество кредитов, задолженностей и средних значений по количеству детей \n",
    "data.groupby('children').agg({'debt':['count', 'sum', 'mean']})['debt'].sort_values(by='mean', ascending=False)"
   ]
  },
  {
   "cell_type": "markdown",
   "id": "924fbddb",
   "metadata": {
    "deletable": false,
    "id": "3a6b99ec"
   },
   "source": [
    "**Вывод:** В данной выгрузке не видно ярко выраженной тенденции на увеличение количества клиентов с задолженностями с увеличением количества детей. Разница между количеством задолжников с детьми и без, в среднем составляет всего 2 процента. Скорее всего, такая разница связана с недостаточно большим количеством клиентов с детьми в выборке, которых в сумме примерно в 2 раза меньше, чем клиентов без детей. \n",
    "Если данный показатель близок к истине, то лучшими клиентами для банка являются бездетные"
   ]
  },
  {
   "cell_type": "markdown",
   "id": "1544f02e",
   "metadata": {
    "deletable": false,
    "editable": false,
    "id": "97be82ca"
   },
   "source": [
    "#### 3.2 Есть ли зависимость между семейным положением и возвратом кредита в срок?"
   ]
  },
  {
   "cell_type": "code",
   "execution_count": 50,
   "id": "f945af3c",
   "metadata": {
    "deletable": false,
    "id": "dc3f7ee8"
   },
   "outputs": [
    {
     "data": {
      "text/html": [
       "<div>\n",
       "<style scoped>\n",
       "    .dataframe tbody tr th:only-of-type {\n",
       "        vertical-align: middle;\n",
       "    }\n",
       "\n",
       "    .dataframe tbody tr th {\n",
       "        vertical-align: top;\n",
       "    }\n",
       "\n",
       "    .dataframe thead th {\n",
       "        text-align: right;\n",
       "    }\n",
       "</style>\n",
       "<table border=\"1\" class=\"dataframe\">\n",
       "  <thead>\n",
       "    <tr style=\"text-align: right;\">\n",
       "      <th></th>\n",
       "      <th>count</th>\n",
       "      <th>sum</th>\n",
       "      <th>mean</th>\n",
       "    </tr>\n",
       "    <tr>\n",
       "      <th>family_status</th>\n",
       "      <th></th>\n",
       "      <th></th>\n",
       "      <th></th>\n",
       "    </tr>\n",
       "  </thead>\n",
       "  <tbody>\n",
       "    <tr>\n",
       "      <th>Не женат / не замужем</th>\n",
       "      <td>2796</td>\n",
       "      <td>273</td>\n",
       "      <td>0.097639</td>\n",
       "    </tr>\n",
       "    <tr>\n",
       "      <th>гражданский брак</th>\n",
       "      <td>4134</td>\n",
       "      <td>385</td>\n",
       "      <td>0.093130</td>\n",
       "    </tr>\n",
       "    <tr>\n",
       "      <th>женат / замужем</th>\n",
       "      <td>12261</td>\n",
       "      <td>927</td>\n",
       "      <td>0.075606</td>\n",
       "    </tr>\n",
       "    <tr>\n",
       "      <th>в разводе</th>\n",
       "      <td>1189</td>\n",
       "      <td>84</td>\n",
       "      <td>0.070648</td>\n",
       "    </tr>\n",
       "    <tr>\n",
       "      <th>вдовец / вдова</th>\n",
       "      <td>951</td>\n",
       "      <td>63</td>\n",
       "      <td>0.066246</td>\n",
       "    </tr>\n",
       "  </tbody>\n",
       "</table>\n",
       "</div>"
      ],
      "text/plain": [
       "                       count  sum      mean\n",
       "family_status                              \n",
       "Не женат / не замужем   2796  273  0.097639\n",
       "гражданский брак        4134  385  0.093130\n",
       "женат / замужем        12261  927  0.075606\n",
       "в разводе               1189   84  0.070648\n",
       "вдовец / вдова           951   63  0.066246"
      ]
     },
     "execution_count": 50,
     "metadata": {},
     "output_type": "execute_result"
    }
   ],
   "source": [
    "# Группируем записи по семейному положению. Находим количество, сумму и среднее. Сортируем по среднему\n",
    "data.groupby('family_status', group_keys=False).agg({'debt':['count', 'sum', 'mean']})\\\n",
    "['debt'].sort_values(by='mean', ascending=False)"
   ]
  },
  {
   "cell_type": "markdown",
   "id": "36fb0a1e",
   "metadata": {
    "deletable": false,
    "id": "1cef7837"
   },
   "source": [
    "**Вывод:** В результате выборки данных по группам, обнаружена зависимость:\n",
    "- Больше всего должников находится в группах, находящихся в статусе  \"Не женат / не замужем\" и \"гражданский брак\" - 9,5%;\n",
    "- Группа  \"женат / замужем\" и  в \"разводе\", близки по среднему значению - 7,2%;\n",
    "- Самый низкий процент долгов в категории  \"вдовец / вдова\" - 6,6% Лучшим клиентом для банка являются клиенты из данной категории, но возможно такие результаты связаны с небольшой выборкой для данной группы."
   ]
  },
  {
   "cell_type": "markdown",
   "id": "de57cf03",
   "metadata": {
    "deletable": false,
    "editable": false,
    "id": "1e8b2fca"
   },
   "source": [
    "#### 3.3 Есть ли зависимость между уровнем дохода и возвратом кредита в срок?"
   ]
  },
  {
   "cell_type": "code",
   "execution_count": 51,
   "id": "dbcd005a",
   "metadata": {
    "deletable": false,
    "id": "cd7e3720"
   },
   "outputs": [
    {
     "data": {
      "text/html": [
       "<div>\n",
       "<style scoped>\n",
       "    .dataframe tbody tr th:only-of-type {\n",
       "        vertical-align: middle;\n",
       "    }\n",
       "\n",
       "    .dataframe tbody tr th {\n",
       "        vertical-align: top;\n",
       "    }\n",
       "\n",
       "    .dataframe thead th {\n",
       "        text-align: right;\n",
       "    }\n",
       "</style>\n",
       "<table border=\"1\" class=\"dataframe\">\n",
       "  <thead>\n",
       "    <tr style=\"text-align: right;\">\n",
       "      <th></th>\n",
       "      <th>count</th>\n",
       "      <th>sum</th>\n",
       "      <th>mean</th>\n",
       "    </tr>\n",
       "    <tr>\n",
       "      <th>total_income_category</th>\n",
       "      <th></th>\n",
       "      <th></th>\n",
       "      <th></th>\n",
       "    </tr>\n",
       "  </thead>\n",
       "  <tbody>\n",
       "    <tr>\n",
       "      <th>E</th>\n",
       "      <td>22</td>\n",
       "      <td>2</td>\n",
       "      <td>0.090909</td>\n",
       "    </tr>\n",
       "    <tr>\n",
       "      <th>C</th>\n",
       "      <td>15921</td>\n",
       "      <td>1353</td>\n",
       "      <td>0.084982</td>\n",
       "    </tr>\n",
       "    <tr>\n",
       "      <th>A</th>\n",
       "      <td>25</td>\n",
       "      <td>2</td>\n",
       "      <td>0.080000</td>\n",
       "    </tr>\n",
       "    <tr>\n",
       "      <th>B</th>\n",
       "      <td>5014</td>\n",
       "      <td>354</td>\n",
       "      <td>0.070602</td>\n",
       "    </tr>\n",
       "    <tr>\n",
       "      <th>D</th>\n",
       "      <td>349</td>\n",
       "      <td>21</td>\n",
       "      <td>0.060172</td>\n",
       "    </tr>\n",
       "  </tbody>\n",
       "</table>\n",
       "</div>"
      ],
      "text/plain": [
       "                       count   sum      mean\n",
       "total_income_category                       \n",
       "E                         22     2  0.090909\n",
       "C                      15921  1353  0.084982\n",
       "A                         25     2  0.080000\n",
       "B                       5014   354  0.070602\n",
       "D                        349    21  0.060172"
      ]
     },
     "execution_count": 51,
     "metadata": {},
     "output_type": "execute_result"
    }
   ],
   "source": [
    "# Группируем записи по категориям уровня дохода. Находим количество, сумму и среднее. Сортируем по названию категорий\n",
    "data.groupby('total_income_category', group_keys=False).agg({'debt':['count', 'sum', 'mean']})\\\n",
    "['debt'].sort_values(by='mean', ascending=False)"
   ]
  },
  {
   "cell_type": "markdown",
   "id": "6feec6c5",
   "metadata": {
    "deletable": false,
    "id": "e8593def"
   },
   "source": [
    "**Вывод:** \n",
    "- Больше всего задолжников у группы с низким уровнем дохода - категория E, 9%;\n",
    "- Самое большое количество клиентов со средним уровнем дохода - категория C, 8,5%;\n",
    "- Лучшими клиентами для банка являются В и D - 7% и 6% просрочек."
   ]
  },
  {
   "cell_type": "markdown",
   "id": "15625787",
   "metadata": {
    "deletable": false,
    "editable": false,
    "id": "99ecbd1f"
   },
   "source": [
    "#### 3.4 Как разные цели кредита влияют на его возврат в срок?"
   ]
  },
  {
   "cell_type": "code",
   "execution_count": 53,
   "id": "0fb1fa03",
   "metadata": {
    "deletable": false,
    "id": "2b687290"
   },
   "outputs": [
    {
     "data": {
      "text/html": [
       "<div>\n",
       "<style scoped>\n",
       "    .dataframe tbody tr th:only-of-type {\n",
       "        vertical-align: middle;\n",
       "    }\n",
       "\n",
       "    .dataframe tbody tr th {\n",
       "        vertical-align: top;\n",
       "    }\n",
       "\n",
       "    .dataframe thead th {\n",
       "        text-align: right;\n",
       "    }\n",
       "</style>\n",
       "<table border=\"1\" class=\"dataframe\">\n",
       "  <thead>\n",
       "    <tr style=\"text-align: right;\">\n",
       "      <th></th>\n",
       "      <th>count</th>\n",
       "      <th>sum</th>\n",
       "      <th>mean</th>\n",
       "    </tr>\n",
       "    <tr>\n",
       "      <th>purpose_category</th>\n",
       "      <th></th>\n",
       "      <th></th>\n",
       "      <th></th>\n",
       "    </tr>\n",
       "  </thead>\n",
       "  <tbody>\n",
       "    <tr>\n",
       "      <th>операции с автомобилем</th>\n",
       "      <td>4279</td>\n",
       "      <td>400</td>\n",
       "      <td>0.093480</td>\n",
       "    </tr>\n",
       "    <tr>\n",
       "      <th>получение образования</th>\n",
       "      <td>3988</td>\n",
       "      <td>369</td>\n",
       "      <td>0.092528</td>\n",
       "    </tr>\n",
       "    <tr>\n",
       "      <th>проведение свадьбы</th>\n",
       "      <td>2313</td>\n",
       "      <td>183</td>\n",
       "      <td>0.079118</td>\n",
       "    </tr>\n",
       "    <tr>\n",
       "      <th>операции с недвижимостью</th>\n",
       "      <td>10751</td>\n",
       "      <td>780</td>\n",
       "      <td>0.072551</td>\n",
       "    </tr>\n",
       "  </tbody>\n",
       "</table>\n",
       "</div>"
      ],
      "text/plain": [
       "                          count  sum      mean\n",
       "purpose_category                              \n",
       "операции с автомобилем     4279  400  0.093480\n",
       "получение образования      3988  369  0.092528\n",
       "проведение свадьбы         2313  183  0.079118\n",
       "операции с недвижимостью  10751  780  0.072551"
      ]
     },
     "execution_count": 53,
     "metadata": {},
     "output_type": "execute_result"
    }
   ],
   "source": [
    "# Группируем записи по целям. Находим количество, сумму и среднее. Сортируем по названию категорий\n",
    "data.groupby('purpose_category', group_keys=False).agg({'debt':['count', 'sum', 'mean']})\\\n",
    "['debt'].sort_values(by='mean', ascending=False)"
   ]
  },
  {
   "cell_type": "markdown",
   "id": "9bb45e57",
   "metadata": {
    "deletable": false,
    "id": "b4bb2ce6"
   },
   "source": [
    "**Вывод:** \n",
    "- Клиенты с целью кредита на недвижимость - являются самыми надежными: 7% должников;\n",
    "- Клиенты с целью на авто и образование являются самыми ненадежными 9,2% должников."
   ]
  },
  {
   "cell_type": "markdown",
   "id": "3a9f7302",
   "metadata": {
    "deletable": false,
    "editable": false,
    "id": "09c3ac4c"
   },
   "source": [
    "#### 3.5 Приведите возможные причины появления пропусков в исходных данных."
   ]
  },
  {
   "cell_type": "markdown",
   "id": "a66e1cd0",
   "metadata": {
    "deletable": false,
    "id": "9da2ceda"
   },
   "source": [
    "*Ответ:* В текущей выгрузке можно увидеть, пропуски, которые есть в таблице одновременно пресутсвуют сразу в двух столбцах:  ежемесячный доход и  общий трудовой стаж в днях. Так как, эти столбцы имеют одинаковое количество пропусков, скорее всего они находятся в одинаковых строках.\n",
    "Проверить это можно следующим выражением, на этапе, перед обработкой пропусков: \n",
    "\n",
    "#выводим записи, где отсутствует стаж и присутствует доход\n",
    "\n",
    "data.loc[(data['days_employed'].isna()) & (~data['total_income'].isna())]\n",
    "\n",
    "Результат этой команды выведет пустую таблицу.\n",
    "\n",
    "Т.к. результат отсутствует сразу в двух полях, то скорее всего, это особенность получения этих данных. Если пользователь не указывает один показатель, то ему не доступен другой, иначе в таблице бы присутствовали записи с пустым стажем, но заполненным доходом и наоборот.\n",
    "    \n",
    "Больше всего пропусков встречается у типа занятости \"сотрудник\". Возможно, это связано с тем, что в некоторых организациях запрещено раскрывать свою заработную плату, поэтому в данных пресутсвуют пропуски - информация не была указана."
   ]
  },
  {
   "cell_type": "markdown",
   "id": "6c3c334a",
   "metadata": {
    "deletable": false,
    "editable": false,
    "id": "7b0487d6"
   },
   "source": [
    "#### 3.6 Объясните, почему заполнить пропуски медианным значением — лучшее решение для количественных переменных."
   ]
  },
  {
   "cell_type": "markdown",
   "id": "deb1e024",
   "metadata": {
    "deletable": false,
    "id": "7ecf2b8e"
   },
   "source": [
    "*Ответ:* В данном случае медианными значениями были заполнены пропуски в таких столбцах как  общий трудовой стаж и  ежемесячный доход. В таких характеристиках могут быть рекордные значения, которые сильно выделяются по сравнению с остальными. Среднее значение в данном случае, может искажать действительность, поэтому лучше использовать медиану - т.к. покажет более точную картину."
   ]
  },
  {
   "cell_type": "markdown",
   "id": "cdf14f01",
   "metadata": {
    "deletable": false,
    "editable": false,
    "id": "6db5255a"
   },
   "source": [
    "### Шаг 4: общий вывод."
   ]
  },
  {
   "cell_type": "markdown",
   "id": "790127fc",
   "metadata": {
    "deletable": false,
    "id": "bad65432"
   },
   "source": [
    "Если довериться средним показателям, то для банка, самими надежными клиентами будут являться те, что  относятся к следующим категориям:\n",
    "- бездетные;\n",
    "- вдовцы и вдовы;\n",
    "- со средним заработком: 30000-50000;\n",
    "- с целью, связанную с недвижимостью.\n",
    "\n",
    "Самыми ненадёжными, являются клиенты с:\n",
    "- 4 детьми;\n",
    "- не женатые и не замужние;\n",
    "- с низким уровнем дохода;\n",
    "- с целью на автомобиль.\n"
   ]
  }
 ],
 "metadata": {
  "ExecuteTimeLog": [
   {
    "duration": 690,
    "start_time": "2022-09-08T03:38:54.359Z"
   },
   {
    "duration": 67,
    "start_time": "2022-09-08T03:38:55.964Z"
   },
   {
    "duration": 11,
    "start_time": "2022-09-08T03:50:54.123Z"
   },
   {
    "duration": 66,
    "start_time": "2022-09-08T03:51:02.546Z"
   },
   {
    "duration": 16,
    "start_time": "2022-09-08T03:51:02.614Z"
   },
   {
    "duration": 13,
    "start_time": "2022-09-08T03:51:02.632Z"
   },
   {
    "duration": 13,
    "start_time": "2022-09-08T03:51:02.647Z"
   },
   {
    "duration": 31,
    "start_time": "2022-09-08T03:51:02.662Z"
   },
   {
    "duration": 3,
    "start_time": "2022-09-08T03:51:02.695Z"
   },
   {
    "duration": 11,
    "start_time": "2022-09-08T03:51:02.699Z"
   },
   {
    "duration": 7,
    "start_time": "2022-09-08T03:51:02.711Z"
   },
   {
    "duration": 8,
    "start_time": "2022-09-08T03:51:02.719Z"
   },
   {
    "duration": 29,
    "start_time": "2022-09-08T03:51:02.730Z"
   },
   {
    "duration": 39,
    "start_time": "2022-09-08T03:51:02.760Z"
   },
   {
    "duration": 9,
    "start_time": "2022-09-08T03:51:02.801Z"
   },
   {
    "duration": 3,
    "start_time": "2022-09-08T03:51:02.812Z"
   },
   {
    "duration": 13,
    "start_time": "2022-09-08T03:51:02.817Z"
   },
   {
    "duration": 31,
    "start_time": "2022-09-08T03:51:02.831Z"
   },
   {
    "duration": 16,
    "start_time": "2022-09-08T03:51:02.863Z"
   },
   {
    "duration": 4,
    "start_time": "2022-09-08T03:51:02.880Z"
   },
   {
    "duration": 14,
    "start_time": "2022-09-08T03:51:02.885Z"
   },
   {
    "duration": 6,
    "start_time": "2022-09-08T03:51:02.900Z"
   },
   {
    "duration": 5,
    "start_time": "2022-09-08T03:51:02.907Z"
   },
   {
    "duration": 15,
    "start_time": "2022-09-08T03:51:02.914Z"
   },
   {
    "duration": 7,
    "start_time": "2022-09-08T03:51:05.699Z"
   },
   {
    "duration": 6,
    "start_time": "2022-09-08T03:51:22.603Z"
   },
   {
    "duration": 6,
    "start_time": "2022-09-08T03:51:31.915Z"
   },
   {
    "duration": 5,
    "start_time": "2022-09-08T03:51:52.031Z"
   },
   {
    "duration": 5,
    "start_time": "2022-09-08T03:52:06.976Z"
   },
   {
    "duration": 17,
    "start_time": "2022-09-08T03:53:34.429Z"
   },
   {
    "duration": 64,
    "start_time": "2022-09-08T03:53:54.945Z"
   },
   {
    "duration": 10,
    "start_time": "2022-09-08T03:54:21.379Z"
   },
   {
    "duration": 48,
    "start_time": "2022-09-08T03:59:34.160Z"
   },
   {
    "duration": 11,
    "start_time": "2022-09-08T03:59:37.851Z"
   },
   {
    "duration": 12,
    "start_time": "2022-09-08T04:00:01.895Z"
   },
   {
    "duration": 9,
    "start_time": "2022-09-08T06:13:03.406Z"
   },
   {
    "duration": 14,
    "start_time": "2022-09-08T06:13:29.973Z"
   },
   {
    "duration": 15,
    "start_time": "2022-09-08T06:14:08.585Z"
   },
   {
    "duration": 12,
    "start_time": "2022-09-08T06:14:21.034Z"
   },
   {
    "duration": 13,
    "start_time": "2022-09-08T06:14:26.574Z"
   },
   {
    "duration": 10,
    "start_time": "2022-09-08T06:15:25.731Z"
   },
   {
    "duration": 13,
    "start_time": "2022-09-08T06:15:33.532Z"
   },
   {
    "duration": 11,
    "start_time": "2022-09-08T06:16:56.944Z"
   },
   {
    "duration": 14,
    "start_time": "2022-09-08T06:17:40.169Z"
   },
   {
    "duration": 12,
    "start_time": "2022-09-08T06:17:45.006Z"
   },
   {
    "duration": 16,
    "start_time": "2022-09-08T06:17:58.304Z"
   },
   {
    "duration": 13,
    "start_time": "2022-09-08T06:18:08.402Z"
   },
   {
    "duration": 4,
    "start_time": "2022-09-08T06:20:44.118Z"
   },
   {
    "duration": 14,
    "start_time": "2022-09-08T06:20:52.401Z"
   },
   {
    "duration": 11,
    "start_time": "2022-09-08T06:22:50.326Z"
   },
   {
    "duration": 11,
    "start_time": "2022-09-08T06:23:11.685Z"
   },
   {
    "duration": 11,
    "start_time": "2022-09-08T06:23:16.827Z"
   },
   {
    "duration": 15,
    "start_time": "2022-09-08T06:23:30.367Z"
   },
   {
    "duration": 25,
    "start_time": "2022-09-08T06:23:38.144Z"
   },
   {
    "duration": 12,
    "start_time": "2022-09-08T06:23:46.979Z"
   },
   {
    "duration": 63,
    "start_time": "2022-09-08T06:24:27.338Z"
   },
   {
    "duration": 13,
    "start_time": "2022-09-08T06:24:31.408Z"
   },
   {
    "duration": 15,
    "start_time": "2022-09-08T06:27:57.274Z"
   },
   {
    "duration": 26,
    "start_time": "2022-09-08T06:28:12.808Z"
   },
   {
    "duration": 11,
    "start_time": "2022-09-08T06:28:33.700Z"
   },
   {
    "duration": 9,
    "start_time": "2022-09-08T06:29:06.289Z"
   },
   {
    "duration": 10,
    "start_time": "2022-09-08T06:29:09.136Z"
   },
   {
    "duration": 13,
    "start_time": "2022-09-08T06:29:13.542Z"
   },
   {
    "duration": 16,
    "start_time": "2022-09-08T06:29:48.512Z"
   },
   {
    "duration": 24,
    "start_time": "2022-09-08T06:30:30.544Z"
   },
   {
    "duration": 42,
    "start_time": "2022-09-08T06:31:38.192Z"
   },
   {
    "duration": 14,
    "start_time": "2022-09-08T06:31:50.519Z"
   },
   {
    "duration": 97,
    "start_time": "2022-09-08T06:32:21.376Z"
   },
   {
    "duration": 18,
    "start_time": "2022-09-08T06:32:25.420Z"
   },
   {
    "duration": 20,
    "start_time": "2022-09-08T06:32:44.969Z"
   },
   {
    "duration": 14,
    "start_time": "2022-09-08T06:33:59.369Z"
   },
   {
    "duration": 25,
    "start_time": "2022-09-08T06:35:13.342Z"
   },
   {
    "duration": 25,
    "start_time": "2022-09-08T06:35:17.045Z"
   },
   {
    "duration": 45,
    "start_time": "2022-09-08T06:53:01.352Z"
   },
   {
    "duration": 12,
    "start_time": "2022-09-08T06:54:42.931Z"
   },
   {
    "duration": 11,
    "start_time": "2022-09-08T06:55:15.208Z"
   },
   {
    "duration": 31,
    "start_time": "2022-09-08T06:55:34.802Z"
   },
   {
    "duration": 23,
    "start_time": "2022-09-08T06:55:55.700Z"
   },
   {
    "duration": 4,
    "start_time": "2022-09-08T06:56:23.550Z"
   },
   {
    "duration": 18,
    "start_time": "2022-09-08T06:56:49.810Z"
   },
   {
    "duration": 67,
    "start_time": "2022-09-08T06:58:11.213Z"
   },
   {
    "duration": 18,
    "start_time": "2022-09-08T06:58:17.503Z"
   },
   {
    "duration": 18,
    "start_time": "2022-09-08T06:58:50.357Z"
   },
   {
    "duration": 12,
    "start_time": "2022-09-08T06:59:13.737Z"
   },
   {
    "duration": 14,
    "start_time": "2022-09-08T06:59:20.403Z"
   },
   {
    "duration": 16,
    "start_time": "2022-09-08T07:01:37.432Z"
   },
   {
    "duration": 16,
    "start_time": "2022-09-08T07:01:47.232Z"
   },
   {
    "duration": 18,
    "start_time": "2022-09-08T07:02:02.748Z"
   },
   {
    "duration": 41,
    "start_time": "2022-09-08T07:15:36.433Z"
   },
   {
    "duration": 42,
    "start_time": "2022-09-08T07:15:43.071Z"
   },
   {
    "duration": 28,
    "start_time": "2022-09-08T07:16:52.665Z"
   },
   {
    "duration": 23,
    "start_time": "2022-09-08T07:17:16.682Z"
   },
   {
    "duration": 30,
    "start_time": "2022-09-08T07:17:23.472Z"
   },
   {
    "duration": 24,
    "start_time": "2022-09-08T07:17:30.975Z"
   },
   {
    "duration": 15,
    "start_time": "2022-09-08T07:17:50.649Z"
   },
   {
    "duration": 14,
    "start_time": "2022-09-08T07:20:28.525Z"
   },
   {
    "duration": 22,
    "start_time": "2022-09-08T07:23:06.555Z"
   },
   {
    "duration": 7,
    "start_time": "2022-09-08T07:23:11.183Z"
   },
   {
    "duration": 19,
    "start_time": "2022-09-08T07:23:50.145Z"
   },
   {
    "duration": 72,
    "start_time": "2022-09-08T07:23:55.058Z"
   },
   {
    "duration": 15,
    "start_time": "2022-09-08T07:23:55.132Z"
   },
   {
    "duration": 22,
    "start_time": "2022-09-08T07:23:55.148Z"
   },
   {
    "duration": 14,
    "start_time": "2022-09-08T07:23:59.382Z"
   },
   {
    "duration": 10,
    "start_time": "2022-09-08T07:24:07.443Z"
   },
   {
    "duration": 70,
    "start_time": "2022-09-08T07:24:14.368Z"
   },
   {
    "duration": 16,
    "start_time": "2022-09-08T07:24:14.439Z"
   },
   {
    "duration": 26,
    "start_time": "2022-09-08T07:24:14.458Z"
   },
   {
    "duration": 14,
    "start_time": "2022-09-08T07:24:24.050Z"
   },
   {
    "duration": 67,
    "start_time": "2022-09-08T07:24:54.066Z"
   },
   {
    "duration": 9,
    "start_time": "2022-09-08T07:25:06.576Z"
   },
   {
    "duration": 7,
    "start_time": "2022-09-08T07:25:25.618Z"
   },
   {
    "duration": 6,
    "start_time": "2022-09-08T07:25:31.969Z"
   },
   {
    "duration": 14,
    "start_time": "2022-09-08T07:25:41.417Z"
   },
   {
    "duration": 10,
    "start_time": "2022-09-08T07:25:56.909Z"
   },
   {
    "duration": 30,
    "start_time": "2022-09-08T07:26:41.986Z"
   },
   {
    "duration": 25,
    "start_time": "2022-09-08T07:27:01.304Z"
   },
   {
    "duration": 10,
    "start_time": "2022-09-08T07:27:43.431Z"
   },
   {
    "duration": 20,
    "start_time": "2022-09-08T07:27:51.914Z"
   },
   {
    "duration": 10,
    "start_time": "2022-09-08T07:27:56.749Z"
   },
   {
    "duration": 19,
    "start_time": "2022-09-08T07:28:03.032Z"
   },
   {
    "duration": 30,
    "start_time": "2022-09-08T07:28:18.269Z"
   },
   {
    "duration": 20,
    "start_time": "2022-09-08T07:28:26.034Z"
   },
   {
    "duration": 7,
    "start_time": "2022-09-08T07:28:32.393Z"
   },
   {
    "duration": 8,
    "start_time": "2022-09-08T07:29:04.726Z"
   },
   {
    "duration": 19,
    "start_time": "2022-09-08T07:29:20.887Z"
   },
   {
    "duration": 21,
    "start_time": "2022-09-08T07:29:37.591Z"
   },
   {
    "duration": 20,
    "start_time": "2022-09-08T07:29:41.127Z"
   },
   {
    "duration": 6,
    "start_time": "2022-09-08T07:30:01.176Z"
   },
   {
    "duration": 8,
    "start_time": "2022-09-08T07:30:22.116Z"
   },
   {
    "duration": 9,
    "start_time": "2022-09-08T07:30:31.622Z"
   },
   {
    "duration": 8,
    "start_time": "2022-09-08T07:30:40.524Z"
   },
   {
    "duration": 75,
    "start_time": "2022-09-08T07:30:48.137Z"
   },
   {
    "duration": 14,
    "start_time": "2022-09-08T07:30:48.214Z"
   },
   {
    "duration": 19,
    "start_time": "2022-09-08T07:30:48.229Z"
   },
   {
    "duration": 7,
    "start_time": "2022-09-08T07:30:50.569Z"
   },
   {
    "duration": 79,
    "start_time": "2022-09-08T07:30:58.548Z"
   },
   {
    "duration": 7,
    "start_time": "2022-09-08T07:31:03.712Z"
   },
   {
    "duration": 7,
    "start_time": "2022-09-08T07:31:16.636Z"
   },
   {
    "duration": 10,
    "start_time": "2022-09-08T07:32:29.002Z"
   },
   {
    "duration": 7,
    "start_time": "2022-09-08T07:32:50.191Z"
   },
   {
    "duration": 8,
    "start_time": "2022-09-08T07:35:31.516Z"
   },
   {
    "duration": 8,
    "start_time": "2022-09-08T07:36:00.776Z"
   },
   {
    "duration": 8,
    "start_time": "2022-09-08T07:36:17.703Z"
   },
   {
    "duration": 7,
    "start_time": "2022-09-08T07:36:40.897Z"
   },
   {
    "duration": 10,
    "start_time": "2022-09-08T07:37:20.522Z"
   },
   {
    "duration": 72,
    "start_time": "2022-09-08T07:37:34.429Z"
   },
   {
    "duration": 15,
    "start_time": "2022-09-08T07:37:34.503Z"
   },
   {
    "duration": 21,
    "start_time": "2022-09-08T07:37:34.520Z"
   },
   {
    "duration": 28,
    "start_time": "2022-09-08T07:37:34.543Z"
   },
   {
    "duration": 15,
    "start_time": "2022-09-08T07:37:37.029Z"
   },
   {
    "duration": 51,
    "start_time": "2022-09-08T07:37:39.431Z"
   },
   {
    "duration": 81,
    "start_time": "2022-09-08T07:37:59.129Z"
   },
   {
    "duration": 16,
    "start_time": "2022-09-08T07:37:59.212Z"
   },
   {
    "duration": 16,
    "start_time": "2022-09-08T07:37:59.230Z"
   },
   {
    "duration": 26,
    "start_time": "2022-09-08T07:37:59.249Z"
   },
   {
    "duration": 39,
    "start_time": "2022-09-08T07:37:59.278Z"
   },
   {
    "duration": 3,
    "start_time": "2022-09-08T07:37:59.319Z"
   },
   {
    "duration": 12,
    "start_time": "2022-09-08T07:37:59.323Z"
   },
   {
    "duration": 5,
    "start_time": "2022-09-08T07:37:59.336Z"
   },
   {
    "duration": 28,
    "start_time": "2022-09-08T07:37:59.343Z"
   },
   {
    "duration": 6,
    "start_time": "2022-09-08T07:37:59.377Z"
   },
   {
    "duration": 43,
    "start_time": "2022-09-08T07:37:59.385Z"
   },
   {
    "duration": 9,
    "start_time": "2022-09-08T07:37:59.430Z"
   },
   {
    "duration": 30,
    "start_time": "2022-09-08T07:37:59.440Z"
   },
   {
    "duration": 14,
    "start_time": "2022-09-08T07:37:59.473Z"
   },
   {
    "duration": 24,
    "start_time": "2022-09-08T07:37:59.489Z"
   },
   {
    "duration": 17,
    "start_time": "2022-09-08T07:37:59.515Z"
   },
   {
    "duration": 4,
    "start_time": "2022-09-08T07:37:59.533Z"
   },
   {
    "duration": 34,
    "start_time": "2022-09-08T07:37:59.538Z"
   },
   {
    "duration": 7,
    "start_time": "2022-09-08T07:37:59.573Z"
   },
   {
    "duration": 5,
    "start_time": "2022-09-08T07:37:59.582Z"
   },
   {
    "duration": 11,
    "start_time": "2022-09-08T07:37:59.589Z"
   },
   {
    "duration": 19,
    "start_time": "2022-09-08T07:37:59.602Z"
   },
   {
    "duration": 15,
    "start_time": "2022-09-08T07:37:59.622Z"
   },
   {
    "duration": 19,
    "start_time": "2022-09-08T07:37:59.658Z"
   },
   {
    "duration": 22,
    "start_time": "2022-09-08T10:00:33.153Z"
   },
   {
    "duration": 9,
    "start_time": "2022-09-08T10:00:38.965Z"
   },
   {
    "duration": 26,
    "start_time": "2022-09-08T10:01:33.293Z"
   },
   {
    "duration": 30,
    "start_time": "2022-09-08T10:04:20.646Z"
   },
   {
    "duration": 25,
    "start_time": "2022-09-08T10:06:11.569Z"
   },
   {
    "duration": 33,
    "start_time": "2022-09-08T10:06:42.114Z"
   },
   {
    "duration": 29,
    "start_time": "2022-09-08T10:16:25.831Z"
   },
   {
    "duration": 24,
    "start_time": "2022-09-08T10:16:44.840Z"
   },
   {
    "duration": 23,
    "start_time": "2022-09-08T10:33:09.803Z"
   },
   {
    "duration": 22,
    "start_time": "2022-09-08T10:33:13.788Z"
   },
   {
    "duration": 14,
    "start_time": "2022-09-08T10:35:03.722Z"
   },
   {
    "duration": 13,
    "start_time": "2022-09-08T10:35:13.069Z"
   },
   {
    "duration": 14,
    "start_time": "2022-09-08T10:40:41.086Z"
   },
   {
    "duration": 13,
    "start_time": "2022-09-08T10:44:11.661Z"
   },
   {
    "duration": 15,
    "start_time": "2022-09-08T11:45:34.181Z"
   },
   {
    "duration": 76,
    "start_time": "2022-09-08T12:34:58.829Z"
   },
   {
    "duration": 15,
    "start_time": "2022-09-08T12:34:58.907Z"
   },
   {
    "duration": 23,
    "start_time": "2022-09-08T12:34:58.924Z"
   },
   {
    "duration": 22,
    "start_time": "2022-09-08T12:35:01.537Z"
   },
   {
    "duration": 11,
    "start_time": "2022-09-08T12:35:10.774Z"
   },
   {
    "duration": 14,
    "start_time": "2022-09-08T12:41:11.107Z"
   },
   {
    "duration": 11,
    "start_time": "2022-09-08T12:41:17.458Z"
   },
   {
    "duration": 14,
    "start_time": "2022-09-08T12:41:32.154Z"
   },
   {
    "duration": 24,
    "start_time": "2022-09-08T12:46:33.317Z"
   },
   {
    "duration": 12,
    "start_time": "2022-09-08T12:46:41.026Z"
   },
   {
    "duration": 12,
    "start_time": "2022-09-08T12:50:34.373Z"
   },
   {
    "duration": 11,
    "start_time": "2022-09-08T12:57:10.352Z"
   },
   {
    "duration": 65,
    "start_time": "2022-09-08T12:57:16.597Z"
   },
   {
    "duration": 14,
    "start_time": "2022-09-08T12:57:16.665Z"
   },
   {
    "duration": 22,
    "start_time": "2022-09-08T12:57:16.681Z"
   },
   {
    "duration": 11,
    "start_time": "2022-09-08T12:57:16.706Z"
   },
   {
    "duration": 42,
    "start_time": "2022-09-08T12:57:16.719Z"
   },
   {
    "duration": 4,
    "start_time": "2022-09-08T12:57:16.762Z"
   },
   {
    "duration": 16,
    "start_time": "2022-09-08T12:57:16.768Z"
   },
   {
    "duration": 6,
    "start_time": "2022-09-08T12:57:16.785Z"
   },
   {
    "duration": 19,
    "start_time": "2022-09-08T12:57:16.792Z"
   },
   {
    "duration": 7,
    "start_time": "2022-09-08T12:57:16.813Z"
   },
   {
    "duration": 32,
    "start_time": "2022-09-08T12:57:16.821Z"
   },
   {
    "duration": 8,
    "start_time": "2022-09-08T12:57:16.854Z"
   },
   {
    "duration": 6,
    "start_time": "2022-09-08T12:57:16.863Z"
   },
   {
    "duration": 83,
    "start_time": "2022-09-08T12:57:16.870Z"
   },
   {
    "duration": 33,
    "start_time": "2022-09-08T12:57:16.954Z"
   },
   {
    "duration": 19,
    "start_time": "2022-09-08T12:57:16.989Z"
   },
   {
    "duration": 14,
    "start_time": "2022-09-08T12:57:17.009Z"
   },
   {
    "duration": 27,
    "start_time": "2022-09-08T12:57:17.024Z"
   },
   {
    "duration": 6,
    "start_time": "2022-09-08T12:57:17.052Z"
   },
   {
    "duration": 20,
    "start_time": "2022-09-08T12:57:17.059Z"
   },
   {
    "duration": 27,
    "start_time": "2022-09-08T12:57:17.080Z"
   },
   {
    "duration": 15,
    "start_time": "2022-09-08T12:57:17.109Z"
   },
   {
    "duration": 13,
    "start_time": "2022-09-08T12:57:17.126Z"
   },
   {
    "duration": 18,
    "start_time": "2022-09-08T12:57:17.141Z"
   },
   {
    "duration": 14,
    "start_time": "2022-09-08T12:57:18.862Z"
   },
   {
    "duration": 15,
    "start_time": "2022-09-08T12:57:23.375Z"
   },
   {
    "duration": 94,
    "start_time": "2022-09-08T13:15:51.419Z"
   },
   {
    "duration": 20,
    "start_time": "2022-09-08T13:15:51.515Z"
   },
   {
    "duration": 20,
    "start_time": "2022-09-08T13:15:51.537Z"
   },
   {
    "duration": 29,
    "start_time": "2022-09-08T13:15:51.559Z"
   },
   {
    "duration": 64,
    "start_time": "2022-09-08T13:15:51.594Z"
   },
   {
    "duration": 4,
    "start_time": "2022-09-08T13:15:51.660Z"
   },
   {
    "duration": 29,
    "start_time": "2022-09-08T13:15:51.666Z"
   },
   {
    "duration": 7,
    "start_time": "2022-09-08T13:15:51.697Z"
   },
   {
    "duration": 10,
    "start_time": "2022-09-08T13:15:51.706Z"
   },
   {
    "duration": 4,
    "start_time": "2022-09-08T13:15:51.720Z"
   },
   {
    "duration": 38,
    "start_time": "2022-09-08T13:15:51.726Z"
   },
   {
    "duration": 29,
    "start_time": "2022-09-08T13:15:51.766Z"
   },
   {
    "duration": 7,
    "start_time": "2022-09-08T13:15:51.796Z"
   },
   {
    "duration": 16,
    "start_time": "2022-09-08T13:15:51.804Z"
   },
   {
    "duration": 26,
    "start_time": "2022-09-08T13:15:51.821Z"
   },
   {
    "duration": 34,
    "start_time": "2022-09-08T13:15:51.849Z"
   },
   {
    "duration": 8,
    "start_time": "2022-09-08T13:15:51.890Z"
   },
   {
    "duration": 15,
    "start_time": "2022-09-08T13:15:51.900Z"
   },
   {
    "duration": 8,
    "start_time": "2022-09-08T13:15:51.916Z"
   },
   {
    "duration": 9,
    "start_time": "2022-09-08T13:15:51.926Z"
   },
   {
    "duration": 15,
    "start_time": "2022-09-08T13:15:51.936Z"
   },
   {
    "duration": 15,
    "start_time": "2022-09-08T13:15:51.953Z"
   },
   {
    "duration": 21,
    "start_time": "2022-09-08T13:15:51.969Z"
   },
   {
    "duration": 17,
    "start_time": "2022-09-08T13:15:51.996Z"
   },
   {
    "duration": 22,
    "start_time": "2022-09-08T13:15:56.911Z"
   },
   {
    "duration": 730,
    "start_time": "2022-09-08T16:13:07.632Z"
   },
   {
    "duration": 23,
    "start_time": "2022-09-08T16:13:08.364Z"
   },
   {
    "duration": 18,
    "start_time": "2022-09-08T16:13:08.389Z"
   },
   {
    "duration": 23,
    "start_time": "2022-09-08T16:13:08.409Z"
   },
   {
    "duration": 53,
    "start_time": "2022-09-08T16:13:08.434Z"
   },
   {
    "duration": 4,
    "start_time": "2022-09-08T16:13:08.489Z"
   },
   {
    "duration": 23,
    "start_time": "2022-09-08T16:13:08.494Z"
   },
   {
    "duration": 10,
    "start_time": "2022-09-08T16:13:08.519Z"
   },
   {
    "duration": 20,
    "start_time": "2022-09-08T16:13:08.530Z"
   },
   {
    "duration": 16,
    "start_time": "2022-09-08T16:13:08.552Z"
   },
   {
    "duration": 46,
    "start_time": "2022-09-08T16:13:08.570Z"
   },
   {
    "duration": 9,
    "start_time": "2022-09-08T16:13:08.618Z"
   },
   {
    "duration": 4,
    "start_time": "2022-09-08T16:13:08.628Z"
   },
   {
    "duration": 26,
    "start_time": "2022-09-08T16:13:08.635Z"
   },
   {
    "duration": 22,
    "start_time": "2022-09-08T16:13:08.663Z"
   },
   {
    "duration": 28,
    "start_time": "2022-09-08T16:13:08.687Z"
   },
   {
    "duration": 8,
    "start_time": "2022-09-08T16:13:08.717Z"
   },
   {
    "duration": 31,
    "start_time": "2022-09-08T16:13:08.727Z"
   },
   {
    "duration": 24,
    "start_time": "2022-09-08T16:13:08.760Z"
   },
   {
    "duration": 12,
    "start_time": "2022-09-08T16:13:08.786Z"
   },
   {
    "duration": 38,
    "start_time": "2022-09-08T16:13:08.799Z"
   },
   {
    "duration": 30,
    "start_time": "2022-09-08T16:13:08.840Z"
   },
   {
    "duration": 14,
    "start_time": "2022-09-08T16:13:08.872Z"
   },
   {
    "duration": 18,
    "start_time": "2022-09-08T16:13:08.888Z"
   },
   {
    "duration": 16,
    "start_time": "2022-09-08T16:13:08.908Z"
   },
   {
    "duration": 50,
    "start_time": "2022-09-08T22:19:31.702Z"
   },
   {
    "duration": 788,
    "start_time": "2022-09-08T22:19:35.602Z"
   },
   {
    "duration": 37,
    "start_time": "2022-09-08T22:19:36.393Z"
   },
   {
    "duration": 15,
    "start_time": "2022-09-08T22:19:36.432Z"
   },
   {
    "duration": 16,
    "start_time": "2022-09-08T22:19:36.449Z"
   },
   {
    "duration": 36,
    "start_time": "2022-09-08T22:19:36.466Z"
   },
   {
    "duration": 4,
    "start_time": "2022-09-08T22:19:36.521Z"
   },
   {
    "duration": 23,
    "start_time": "2022-09-08T22:19:36.526Z"
   },
   {
    "duration": 5,
    "start_time": "2022-09-08T22:19:36.550Z"
   },
   {
    "duration": 9,
    "start_time": "2022-09-08T22:19:36.557Z"
   },
   {
    "duration": 5,
    "start_time": "2022-09-08T22:19:36.569Z"
   },
   {
    "duration": 75,
    "start_time": "2022-09-08T22:19:36.575Z"
   },
   {
    "duration": 10,
    "start_time": "2022-09-08T22:19:36.653Z"
   },
   {
    "duration": 6,
    "start_time": "2022-09-08T22:19:36.665Z"
   },
   {
    "duration": 15,
    "start_time": "2022-09-08T22:19:36.672Z"
   },
   {
    "duration": 38,
    "start_time": "2022-09-08T22:19:36.688Z"
   },
   {
    "duration": 22,
    "start_time": "2022-09-08T22:19:36.728Z"
   },
   {
    "duration": 4,
    "start_time": "2022-09-08T22:19:36.752Z"
   },
   {
    "duration": 14,
    "start_time": "2022-09-08T22:19:36.758Z"
   },
   {
    "duration": 7,
    "start_time": "2022-09-08T22:19:36.774Z"
   },
   {
    "duration": 38,
    "start_time": "2022-09-08T22:19:36.783Z"
   },
   {
    "duration": 20,
    "start_time": "2022-09-08T22:19:36.823Z"
   },
   {
    "duration": 27,
    "start_time": "2022-09-08T22:19:36.846Z"
   },
   {
    "duration": 18,
    "start_time": "2022-09-08T22:19:36.875Z"
   },
   {
    "duration": 34,
    "start_time": "2022-09-08T22:19:36.894Z"
   },
   {
    "duration": 15,
    "start_time": "2022-09-08T22:19:36.930Z"
   },
   {
    "duration": 448,
    "start_time": "2022-09-09T20:22:06.714Z"
   },
   {
    "duration": 22,
    "start_time": "2022-09-09T20:22:07.164Z"
   },
   {
    "duration": 39,
    "start_time": "2022-09-09T20:22:07.188Z"
   },
   {
    "duration": 19,
    "start_time": "2022-09-09T20:22:07.230Z"
   },
   {
    "duration": 35,
    "start_time": "2022-09-09T20:22:07.251Z"
   },
   {
    "duration": 3,
    "start_time": "2022-09-09T20:22:07.287Z"
   },
   {
    "duration": 19,
    "start_time": "2022-09-09T20:22:07.292Z"
   },
   {
    "duration": 15,
    "start_time": "2022-09-09T20:22:07.312Z"
   },
   {
    "duration": 14,
    "start_time": "2022-09-09T20:22:07.329Z"
   },
   {
    "duration": 10,
    "start_time": "2022-09-09T20:22:07.345Z"
   },
   {
    "duration": 45,
    "start_time": "2022-09-09T20:22:07.357Z"
   },
   {
    "duration": 9,
    "start_time": "2022-09-09T20:22:07.404Z"
   },
   {
    "duration": 20,
    "start_time": "2022-09-09T20:22:07.415Z"
   },
   {
    "duration": 18,
    "start_time": "2022-09-09T20:22:07.437Z"
   },
   {
    "duration": 36,
    "start_time": "2022-09-09T20:22:07.457Z"
   },
   {
    "duration": 19,
    "start_time": "2022-09-09T20:22:07.494Z"
   },
   {
    "duration": 10,
    "start_time": "2022-09-09T20:22:07.514Z"
   },
   {
    "duration": 15,
    "start_time": "2022-09-09T20:22:07.525Z"
   },
   {
    "duration": 23,
    "start_time": "2022-09-09T20:22:07.541Z"
   },
   {
    "duration": 14,
    "start_time": "2022-09-09T20:22:07.566Z"
   },
   {
    "duration": 39,
    "start_time": "2022-09-09T20:22:07.582Z"
   },
   {
    "duration": 29,
    "start_time": "2022-09-09T20:22:07.623Z"
   },
   {
    "duration": 21,
    "start_time": "2022-09-09T20:22:07.655Z"
   },
   {
    "duration": 22,
    "start_time": "2022-09-09T20:22:07.677Z"
   },
   {
    "duration": 15,
    "start_time": "2022-09-09T20:22:07.701Z"
   }
  ],
  "colab": {
   "name": "dpp_template_part2.ipynb",
   "provenance": []
  },
  "kernelspec": {
   "display_name": "Python 3 (ipykernel)",
   "language": "python",
   "name": "python3"
  },
  "language_info": {
   "codemirror_mode": {
    "name": "ipython",
    "version": 3
   },
   "file_extension": ".py",
   "mimetype": "text/x-python",
   "name": "python",
   "nbconvert_exporter": "python",
   "pygments_lexer": "ipython3",
   "version": "3.9.12"
  },
  "toc": {
   "base_numbering": 1,
   "nav_menu": {},
   "number_sections": true,
   "sideBar": true,
   "skip_h1_title": true,
   "title_cell": "Table of Contents",
   "title_sidebar": "Contents",
   "toc_cell": false,
   "toc_position": {},
   "toc_section_display": true,
   "toc_window_display": false
  },
  "varInspector": {
   "cols": {
    "lenName": 16,
    "lenType": 16,
    "lenVar": 40
   },
   "kernels_config": {
    "python": {
     "delete_cmd_postfix": "",
     "delete_cmd_prefix": "del ",
     "library": "var_list.py",
     "varRefreshCmd": "print(var_dic_list())"
    },
    "r": {
     "delete_cmd_postfix": ") ",
     "delete_cmd_prefix": "rm(",
     "library": "var_list.r",
     "varRefreshCmd": "cat(var_dic_list()) "
    }
   },
   "types_to_exclude": [
    "module",
    "function",
    "builtin_function_or_method",
    "instance",
    "_Feature"
   ],
   "window_display": false
  }
 },
 "nbformat": 4,
 "nbformat_minor": 5
}
